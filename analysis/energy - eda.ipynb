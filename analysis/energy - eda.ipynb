{
 "cells": [
  {
   "cell_type": "markdown",
   "metadata": {},
   "source": [
    "## Introduction"
   ]
  },
  {
   "cell_type": "code",
   "execution_count": 1,
   "metadata": {},
   "outputs": [],
   "source": [
    "import pandas as pd\n",
    "import numpy as np\n",
    "import os\n",
    "import matplotlib.pyplot as plt\n",
    "import seaborn as sns \n",
    "import datetime as dt\n",
    "import folium\n",
    "from folium.plugins import HeatMap, HeatMapWithTime\n",
    "%matplotlib inline\n",
    "import warnings\n",
    "warnings.filterwarnings(\"ignore\")"
   ]
  },
  {
   "cell_type": "code",
   "execution_count": 2,
   "metadata": {},
   "outputs": [],
   "source": [
    "file = open(os.path.join(\"..\", \"data\", \"energy\", \"ENERGY-DATA-MONTHLY.xlsx\"), \"rb\")\n",
    "cover_df = pd.read_excel(file, sheet_name='Cover')"
   ]
  },
  {
   "cell_type": "code",
   "execution_count": 3,
   "metadata": {},
   "outputs": [
    {
     "data": {
      "text/plain": [
       "(39, 2)"
      ]
     },
     "execution_count": 3,
     "metadata": {},
     "output_type": "execute_result"
    }
   ],
   "source": [
    "cover_df.shape"
   ]
  },
  {
   "cell_type": "code",
   "execution_count": 4,
   "metadata": {},
   "outputs": [],
   "source": [
    "suply_of_solid_fossil_fuels_df = pd.read_csv(os.path.join(\"..\", \"data\", \"energy\", \"solid_fuels_suply.csv\"))"
   ]
  },
  {
   "cell_type": "code",
   "execution_count": 5,
   "metadata": {},
   "outputs": [
    {
     "data": {
      "text/html": [
       "<div>\n",
       "<style scoped>\n",
       "    .dataframe tbody tr th:only-of-type {\n",
       "        vertical-align: middle;\n",
       "    }\n",
       "\n",
       "    .dataframe tbody tr th {\n",
       "        vertical-align: top;\n",
       "    }\n",
       "\n",
       "    .dataframe thead th {\n",
       "        text-align: right;\n",
       "    }\n",
       "</style>\n",
       "<table border=\"1\" class=\"dataframe\">\n",
       "  <thead>\n",
       "    <tr style=\"text-align: right;\">\n",
       "      <th></th>\n",
       "      <th>Coal type</th>\n",
       "      <th>Type</th>\n",
       "      <th>19-Jan</th>\n",
       "      <th>19-Feb</th>\n",
       "      <th>19-Mar</th>\n",
       "      <th>19-Apr</th>\n",
       "      <th>19-May</th>\n",
       "      <th>19-Jun</th>\n",
       "      <th>19-Jul</th>\n",
       "      <th>19-Aug</th>\n",
       "      <th>19-Sep</th>\n",
       "      <th>19-Oct</th>\n",
       "      <th>19-Nov</th>\n",
       "      <th>19-Dec</th>\n",
       "      <th>20-Jan</th>\n",
       "    </tr>\n",
       "  </thead>\n",
       "  <tbody>\n",
       "    <tr>\n",
       "      <td>0</td>\n",
       "      <td>Hard Coal</td>\n",
       "      <td>Indigenous production</td>\n",
       "      <td>5716.360</td>\n",
       "      <td>5326.440</td>\n",
       "      <td>6095.570</td>\n",
       "      <td>5776.587</td>\n",
       "      <td>5777.608</td>\n",
       "      <td>5205.662</td>\n",
       "      <td>5808.765</td>\n",
       "      <td>5618.253</td>\n",
       "      <td>5619.909</td>\n",
       "      <td>5977.462</td>\n",
       "      <td>5686.950</td>\n",
       "      <td>5460.344</td>\n",
       "      <td>5686.405</td>\n",
       "    </tr>\n",
       "    <tr>\n",
       "      <td>1</td>\n",
       "      <td>Hard Coal</td>\n",
       "      <td>Recovered and recycled products</td>\n",
       "      <td>86.595</td>\n",
       "      <td>88.267</td>\n",
       "      <td>87.370</td>\n",
       "      <td>53.075</td>\n",
       "      <td>78.781</td>\n",
       "      <td>87.687</td>\n",
       "      <td>84.012</td>\n",
       "      <td>80.082</td>\n",
       "      <td>58.746</td>\n",
       "      <td>55.769</td>\n",
       "      <td>44.646</td>\n",
       "      <td>42.389</td>\n",
       "      <td>51.688</td>\n",
       "    </tr>\n",
       "    <tr>\n",
       "      <td>2</td>\n",
       "      <td>Hard Coal</td>\n",
       "      <td>Imports</td>\n",
       "      <td>14811.543</td>\n",
       "      <td>12719.049</td>\n",
       "      <td>12466.863</td>\n",
       "      <td>10973.690</td>\n",
       "      <td>9769.335</td>\n",
       "      <td>9791.180</td>\n",
       "      <td>9433.320</td>\n",
       "      <td>9723.419</td>\n",
       "      <td>9318.425</td>\n",
       "      <td>9928.965</td>\n",
       "      <td>10003.533</td>\n",
       "      <td>9659.904</td>\n",
       "      <td>8769.742</td>\n",
       "    </tr>\n",
       "    <tr>\n",
       "      <td>3</td>\n",
       "      <td>Hard Coal</td>\n",
       "      <td>Exports</td>\n",
       "      <td>666.500</td>\n",
       "      <td>705.620</td>\n",
       "      <td>712.596</td>\n",
       "      <td>647.815</td>\n",
       "      <td>784.129</td>\n",
       "      <td>847.471</td>\n",
       "      <td>738.746</td>\n",
       "      <td>719.193</td>\n",
       "      <td>719.029</td>\n",
       "      <td>682.484</td>\n",
       "      <td>763.834</td>\n",
       "      <td>792.656</td>\n",
       "      <td>760.308</td>\n",
       "    </tr>\n",
       "    <tr>\n",
       "      <td>4</td>\n",
       "      <td>Hard Coal</td>\n",
       "      <td>Change in stock</td>\n",
       "      <td>1399.672</td>\n",
       "      <td>333.260</td>\n",
       "      <td>-1230.474</td>\n",
       "      <td>-1421.002</td>\n",
       "      <td>-1427.221</td>\n",
       "      <td>-1088.622</td>\n",
       "      <td>-356.748</td>\n",
       "      <td>-1427.743</td>\n",
       "      <td>336.196</td>\n",
       "      <td>164.728</td>\n",
       "      <td>232.417</td>\n",
       "      <td>400.477</td>\n",
       "      <td>600.722</td>\n",
       "    </tr>\n",
       "  </tbody>\n",
       "</table>\n",
       "</div>"
      ],
      "text/plain": [
       "   Coal type                             Type     19-Jan     19-Feb  \\\n",
       "0  Hard Coal            Indigenous production   5716.360   5326.440   \n",
       "1  Hard Coal  Recovered and recycled products     86.595     88.267   \n",
       "2  Hard Coal                          Imports  14811.543  12719.049   \n",
       "3  Hard Coal                          Exports    666.500    705.620   \n",
       "4  Hard Coal                  Change in stock   1399.672    333.260   \n",
       "\n",
       "      19-Mar     19-Apr    19-May    19-Jun    19-Jul    19-Aug    19-Sep  \\\n",
       "0   6095.570   5776.587  5777.608  5205.662  5808.765  5618.253  5619.909   \n",
       "1     87.370     53.075    78.781    87.687    84.012    80.082    58.746   \n",
       "2  12466.863  10973.690  9769.335  9791.180  9433.320  9723.419  9318.425   \n",
       "3    712.596    647.815   784.129   847.471   738.746   719.193   719.029   \n",
       "4  -1230.474  -1421.002 -1427.221 -1088.622  -356.748 -1427.743   336.196   \n",
       "\n",
       "     19-Oct     19-Nov    19-Dec    20-Jan  \n",
       "0  5977.462   5686.950  5460.344  5686.405  \n",
       "1    55.769     44.646    42.389    51.688  \n",
       "2  9928.965  10003.533  9659.904  8769.742  \n",
       "3   682.484    763.834   792.656   760.308  \n",
       "4   164.728    232.417   400.477   600.722  "
      ]
     },
     "execution_count": 5,
     "metadata": {},
     "output_type": "execute_result"
    }
   ],
   "source": [
    "suply_of_solid_fossil_fuels_df.head()"
   ]
  },
  {
   "cell_type": "code",
   "execution_count": 6,
   "metadata": {},
   "outputs": [],
   "source": [
    "\n",
    "delivery_of_primary_coal_by_sector_df = pd.read_csv(os.path.join(\"..\", \"data\", \"energy\", \"delivery_of_primary_coal_by_sector.csv\"))"
   ]
  },
  {
   "cell_type": "code",
   "execution_count": 7,
   "metadata": {},
   "outputs": [
    {
     "data": {
      "text/html": [
       "<div>\n",
       "<style scoped>\n",
       "    .dataframe tbody tr th:only-of-type {\n",
       "        vertical-align: middle;\n",
       "    }\n",
       "\n",
       "    .dataframe tbody tr th {\n",
       "        vertical-align: top;\n",
       "    }\n",
       "\n",
       "    .dataframe thead th {\n",
       "        text-align: right;\n",
       "    }\n",
       "</style>\n",
       "<table border=\"1\" class=\"dataframe\">\n",
       "  <thead>\n",
       "    <tr style=\"text-align: right;\">\n",
       "      <th></th>\n",
       "      <th>Type</th>\n",
       "      <th>Sector</th>\n",
       "      <th>Jan-19</th>\n",
       "      <th>Feb-19</th>\n",
       "      <th>Mar-19</th>\n",
       "      <th>Apr-19</th>\n",
       "      <th>May-19</th>\n",
       "      <th>Jun-19</th>\n",
       "      <th>Jul-19</th>\n",
       "      <th>Aug-19</th>\n",
       "      <th>Sep-19</th>\n",
       "      <th>Oct-19</th>\n",
       "      <th>Nov-19</th>\n",
       "      <th>Dec-19</th>\n",
       "    </tr>\n",
       "  </thead>\n",
       "  <tbody>\n",
       "    <tr>\n",
       "      <td>0</td>\n",
       "      <td>Hard Coal</td>\n",
       "      <td>Transformation input - coke ovens</td>\n",
       "      <td>3804.751</td>\n",
       "      <td>3529.377</td>\n",
       "      <td>3952.336</td>\n",
       "      <td>3969.765</td>\n",
       "      <td>4064.549</td>\n",
       "      <td>3948.641</td>\n",
       "      <td>4048.884</td>\n",
       "      <td>4014.950</td>\n",
       "      <td>3856.715</td>\n",
       "      <td>3667.121</td>\n",
       "      <td>3627.287</td>\n",
       "      <td>3580.923</td>\n",
       "    </tr>\n",
       "    <tr>\n",
       "      <td>1</td>\n",
       "      <td>Hard Coal</td>\n",
       "      <td>Final consumption - industry sector</td>\n",
       "      <td>3216.995</td>\n",
       "      <td>3239.377</td>\n",
       "      <td>3360.693</td>\n",
       "      <td>3093.582</td>\n",
       "      <td>2726.120</td>\n",
       "      <td>2628.647</td>\n",
       "      <td>2579.410</td>\n",
       "      <td>2628.119</td>\n",
       "      <td>2701.073</td>\n",
       "      <td>2723.304</td>\n",
       "      <td>2326.139</td>\n",
       "      <td>2341.370</td>\n",
       "    </tr>\n",
       "    <tr>\n",
       "      <td>2</td>\n",
       "      <td>Hard Coal</td>\n",
       "      <td>Transformation input - electricity and heat ge...</td>\n",
       "      <td>10479.196</td>\n",
       "      <td>9312.672</td>\n",
       "      <td>8024.345</td>\n",
       "      <td>6720.287</td>\n",
       "      <td>5130.762</td>\n",
       "      <td>5227.743</td>\n",
       "      <td>5843.003</td>\n",
       "      <td>5186.128</td>\n",
       "      <td>6421.785</td>\n",
       "      <td>7047.179</td>\n",
       "      <td>7852.037</td>\n",
       "      <td>7700.293</td>\n",
       "    </tr>\n",
       "    <tr>\n",
       "      <td>3</td>\n",
       "      <td>Hard Coal</td>\n",
       "      <td>Final consumption - industry sector - iron and...</td>\n",
       "      <td>1851.023</td>\n",
       "      <td>1743.872</td>\n",
       "      <td>1926.466</td>\n",
       "      <td>1814.658</td>\n",
       "      <td>1520.728</td>\n",
       "      <td>1496.999</td>\n",
       "      <td>1566.899</td>\n",
       "      <td>1513.725</td>\n",
       "      <td>1472.628</td>\n",
       "      <td>1424.804</td>\n",
       "      <td>1075.759</td>\n",
       "      <td>1026.336</td>\n",
       "    </tr>\n",
       "    <tr>\n",
       "      <td>4</td>\n",
       "      <td>Hard Coal</td>\n",
       "      <td>Final consumption - other sectors</td>\n",
       "      <td>938.851</td>\n",
       "      <td>883.968</td>\n",
       "      <td>963.999</td>\n",
       "      <td>861.867</td>\n",
       "      <td>813.319</td>\n",
       "      <td>838.348</td>\n",
       "      <td>894.871</td>\n",
       "      <td>848.627</td>\n",
       "      <td>905.120</td>\n",
       "      <td>970.287</td>\n",
       "      <td>1058.931</td>\n",
       "      <td>1137.454</td>\n",
       "    </tr>\n",
       "  </tbody>\n",
       "</table>\n",
       "</div>"
      ],
      "text/plain": [
       "        Type                                             Sector     Jan-19  \\\n",
       "0  Hard Coal                  Transformation input - coke ovens   3804.751   \n",
       "1  Hard Coal                Final consumption - industry sector   3216.995   \n",
       "2  Hard Coal  Transformation input - electricity and heat ge...  10479.196   \n",
       "3  Hard Coal  Final consumption - industry sector - iron and...   1851.023   \n",
       "4  Hard Coal                  Final consumption - other sectors    938.851   \n",
       "\n",
       "     Feb-19    Mar-19    Apr-19    May-19    Jun-19    Jul-19    Aug-19  \\\n",
       "0  3529.377  3952.336  3969.765  4064.549  3948.641  4048.884  4014.950   \n",
       "1  3239.377  3360.693  3093.582  2726.120  2628.647  2579.410  2628.119   \n",
       "2  9312.672  8024.345  6720.287  5130.762  5227.743  5843.003  5186.128   \n",
       "3  1743.872  1926.466  1814.658  1520.728  1496.999  1566.899  1513.725   \n",
       "4   883.968   963.999   861.867   813.319   838.348   894.871   848.627   \n",
       "\n",
       "     Sep-19    Oct-19    Nov-19    Dec-19  \n",
       "0  3856.715  3667.121  3627.287  3580.923  \n",
       "1  2701.073  2723.304  2326.139  2341.370  \n",
       "2  6421.785  7047.179  7852.037  7700.293  \n",
       "3  1472.628  1424.804  1075.759  1026.336  \n",
       "4   905.120   970.287  1058.931  1137.454  "
      ]
     },
     "execution_count": 7,
     "metadata": {},
     "output_type": "execute_result"
    }
   ],
   "source": [
    "delivery_of_primary_coal_by_sector_df.head()"
   ]
  },
  {
   "cell_type": "code",
   "execution_count": 8,
   "metadata": {},
   "outputs": [],
   "source": [
    "electricity_supply_df = pd.read_csv(os.path.join(\"..\", \"data\", \"energy\", \"electricity_supply.csv\"), header=None)"
   ]
  },
  {
   "cell_type": "code",
   "execution_count": 9,
   "metadata": {},
   "outputs": [
    {
     "data": {
      "text/html": [
       "<div>\n",
       "<style scoped>\n",
       "    .dataframe tbody tr th:only-of-type {\n",
       "        vertical-align: middle;\n",
       "    }\n",
       "\n",
       "    .dataframe tbody tr th {\n",
       "        vertical-align: top;\n",
       "    }\n",
       "\n",
       "    .dataframe thead th {\n",
       "        text-align: right;\n",
       "    }\n",
       "</style>\n",
       "<table border=\"1\" class=\"dataframe\">\n",
       "  <thead>\n",
       "    <tr style=\"text-align: right;\">\n",
       "      <th></th>\n",
       "      <th>0</th>\n",
       "      <th>1</th>\n",
       "      <th>2</th>\n",
       "      <th>3</th>\n",
       "      <th>4</th>\n",
       "      <th>5</th>\n",
       "      <th>6</th>\n",
       "      <th>7</th>\n",
       "      <th>8</th>\n",
       "      <th>9</th>\n",
       "      <th>10</th>\n",
       "      <th>11</th>\n",
       "      <th>12</th>\n",
       "      <th>13</th>\n",
       "    </tr>\n",
       "  </thead>\n",
       "  <tbody>\n",
       "    <tr>\n",
       "      <td>0</td>\n",
       "      <td>Total</td>\n",
       "      <td>300252.213</td>\n",
       "      <td>259483.290</td>\n",
       "      <td>268767.970</td>\n",
       "      <td>241358.310</td>\n",
       "      <td>240009.400</td>\n",
       "      <td>231411.003</td>\n",
       "      <td>242408.532</td>\n",
       "      <td>231586.831</td>\n",
       "      <td>231265.896</td>\n",
       "      <td>251148.805</td>\n",
       "      <td>263543.848</td>\n",
       "      <td>272629.347</td>\n",
       "      <td>274946.571</td>\n",
       "    </tr>\n",
       "    <tr>\n",
       "      <td>1</td>\n",
       "      <td>Nuclear fuels and other fuels n.e.c.</td>\n",
       "      <td>76146.461</td>\n",
       "      <td>68956.133</td>\n",
       "      <td>70712.203</td>\n",
       "      <td>64905.026</td>\n",
       "      <td>62034.737</td>\n",
       "      <td>58140.134</td>\n",
       "      <td>61524.217</td>\n",
       "      <td>61227.535</td>\n",
       "      <td>60210.415</td>\n",
       "      <td>63670.607</td>\n",
       "      <td>63160.050</td>\n",
       "      <td>68881.382</td>\n",
       "      <td>72409.315</td>\n",
       "    </tr>\n",
       "    <tr>\n",
       "      <td>2</td>\n",
       "      <td>Combustible fuels</td>\n",
       "      <td>146802.629</td>\n",
       "      <td>117925.343</td>\n",
       "      <td>107785.733</td>\n",
       "      <td>101248.343</td>\n",
       "      <td>99830.909</td>\n",
       "      <td>96237.890</td>\n",
       "      <td>111373.623</td>\n",
       "      <td>104502.437</td>\n",
       "      <td>103331.722</td>\n",
       "      <td>117729.203</td>\n",
       "      <td>122669.296</td>\n",
       "      <td>110461.351</td>\n",
       "      <td>114167.714</td>\n",
       "    </tr>\n",
       "    <tr>\n",
       "      <td>3</td>\n",
       "      <td>Coal and manufactured gases</td>\n",
       "      <td>51255.189</td>\n",
       "      <td>41767.518</td>\n",
       "      <td>34842.190</td>\n",
       "      <td>33113.446</td>\n",
       "      <td>31364.208</td>\n",
       "      <td>27357.149</td>\n",
       "      <td>30579.233</td>\n",
       "      <td>28995.904</td>\n",
       "      <td>28165.746</td>\n",
       "      <td>34020.431</td>\n",
       "      <td>39501.064</td>\n",
       "      <td>34591.470</td>\n",
       "      <td>34615.642</td>\n",
       "    </tr>\n",
       "    <tr>\n",
       "      <td>4</td>\n",
       "      <td>Oil and petroleum products (excluding biofuel ...</td>\n",
       "      <td>3220.305</td>\n",
       "      <td>2690.024</td>\n",
       "      <td>2724.894</td>\n",
       "      <td>2640.688</td>\n",
       "      <td>2778.969</td>\n",
       "      <td>2936.172</td>\n",
       "      <td>3122.926</td>\n",
       "      <td>3182.613</td>\n",
       "      <td>2962.797</td>\n",
       "      <td>3030.748</td>\n",
       "      <td>2748.984</td>\n",
       "      <td>2881.941</td>\n",
       "      <td>2858.738</td>\n",
       "    </tr>\n",
       "  </tbody>\n",
       "</table>\n",
       "</div>"
      ],
      "text/plain": [
       "                                                  0           1           2   \\\n",
       "0                                              Total  300252.213  259483.290   \n",
       "1               Nuclear fuels and other fuels n.e.c.   76146.461   68956.133   \n",
       "2                                  Combustible fuels  146802.629  117925.343   \n",
       "3                        Coal and manufactured gases   51255.189   41767.518   \n",
       "4  Oil and petroleum products (excluding biofuel ...    3220.305    2690.024   \n",
       "\n",
       "           3           4           5           6           7           8   \\\n",
       "0  268767.970  241358.310  240009.400  231411.003  242408.532  231586.831   \n",
       "1   70712.203   64905.026   62034.737   58140.134   61524.217   61227.535   \n",
       "2  107785.733  101248.343   99830.909   96237.890  111373.623  104502.437   \n",
       "3   34842.190   33113.446   31364.208   27357.149   30579.233   28995.904   \n",
       "4    2724.894    2640.688    2778.969    2936.172    3122.926    3182.613   \n",
       "\n",
       "           9           10          11          12          13  \n",
       "0  231265.896  251148.805  263543.848  272629.347  274946.571  \n",
       "1   60210.415   63670.607   63160.050   68881.382   72409.315  \n",
       "2  103331.722  117729.203  122669.296  110461.351  114167.714  \n",
       "3   28165.746   34020.431   39501.064   34591.470   34615.642  \n",
       "4    2962.797    3030.748    2748.984    2881.941    2858.738  "
      ]
     },
     "execution_count": 9,
     "metadata": {},
     "output_type": "execute_result"
    }
   ],
   "source": [
    "electricity_supply_df.head()"
   ]
  },
  {
   "cell_type": "code",
   "execution_count": 10,
   "metadata": {},
   "outputs": [],
   "source": [
    "crude_oil_df =  pd.read_csv(os.path.join(\"..\", \"data\", \"energy\", \"crude_oil.csv\"))"
   ]
  },
  {
   "cell_type": "code",
   "execution_count": 11,
   "metadata": {},
   "outputs": [
    {
     "data": {
      "text/html": [
       "<div>\n",
       "<style scoped>\n",
       "    .dataframe tbody tr th:only-of-type {\n",
       "        vertical-align: middle;\n",
       "    }\n",
       "\n",
       "    .dataframe tbody tr th {\n",
       "        vertical-align: top;\n",
       "    }\n",
       "\n",
       "    .dataframe thead th {\n",
       "        text-align: right;\n",
       "    }\n",
       "</style>\n",
       "<table border=\"1\" class=\"dataframe\">\n",
       "  <thead>\n",
       "    <tr style=\"text-align: right;\">\n",
       "      <th></th>\n",
       "      <th>Crude oil (Without NGL)</th>\n",
       "      <th>2019M01</th>\n",
       "      <th>2019M02</th>\n",
       "      <th>2019M03</th>\n",
       "      <th>2019M04</th>\n",
       "      <th>2019M05</th>\n",
       "      <th>2019M06</th>\n",
       "      <th>2019M07</th>\n",
       "      <th>2019M08</th>\n",
       "      <th>2019M09</th>\n",
       "      <th>2019M10</th>\n",
       "      <th>2019M11</th>\n",
       "      <th>2019M12</th>\n",
       "      <th>2020M01</th>\n",
       "    </tr>\n",
       "  </thead>\n",
       "  <tbody>\n",
       "    <tr>\n",
       "      <td>0</td>\n",
       "      <td>Indigenous production</td>\n",
       "      <td>6012.481</td>\n",
       "      <td>5731.782</td>\n",
       "      <td>6238.210</td>\n",
       "      <td>5730.741</td>\n",
       "      <td>5909.916</td>\n",
       "      <td>5513.389</td>\n",
       "      <td>5588.356</td>\n",
       "      <td>5164.632</td>\n",
       "      <td>5455.161</td>\n",
       "      <td>5503.248</td>\n",
       "      <td>5577.198</td>\n",
       "      <td>5680.873</td>\n",
       "      <td>5812.156</td>\n",
       "    </tr>\n",
       "    <tr>\n",
       "      <td>1</td>\n",
       "      <td>Imports</td>\n",
       "      <td>49292.715</td>\n",
       "      <td>43548.719</td>\n",
       "      <td>46005.069</td>\n",
       "      <td>45659.680</td>\n",
       "      <td>44025.672</td>\n",
       "      <td>43890.695</td>\n",
       "      <td>48428.800</td>\n",
       "      <td>48828.453</td>\n",
       "      <td>45081.786</td>\n",
       "      <td>46881.555</td>\n",
       "      <td>44798.313</td>\n",
       "      <td>46096.871</td>\n",
       "      <td>38258.362</td>\n",
       "    </tr>\n",
       "    <tr>\n",
       "      <td>2</td>\n",
       "      <td>Exports</td>\n",
       "      <td>3850.000</td>\n",
       "      <td>3686.000</td>\n",
       "      <td>3760.000</td>\n",
       "      <td>3916.000</td>\n",
       "      <td>4216.961</td>\n",
       "      <td>3910.000</td>\n",
       "      <td>3641.000</td>\n",
       "      <td>3113.000</td>\n",
       "      <td>3832.000</td>\n",
       "      <td>3507.000</td>\n",
       "      <td>3969.000</td>\n",
       "      <td>3874.000</td>\n",
       "      <td>3665.038</td>\n",
       "    </tr>\n",
       "    <tr>\n",
       "      <td>3</td>\n",
       "      <td>Refinery intake - observed</td>\n",
       "      <td>50187.171</td>\n",
       "      <td>43805.018</td>\n",
       "      <td>47790.975</td>\n",
       "      <td>46571.240</td>\n",
       "      <td>46646.166</td>\n",
       "      <td>45510.769</td>\n",
       "      <td>50782.238</td>\n",
       "      <td>51111.330</td>\n",
       "      <td>46508.172</td>\n",
       "      <td>48210.534</td>\n",
       "      <td>45929.500</td>\n",
       "      <td>48195.518</td>\n",
       "      <td>40695.761</td>\n",
       "    </tr>\n",
       "    <tr>\n",
       "      <td>4</td>\n",
       "      <td>Change in stock</td>\n",
       "      <td>118.168</td>\n",
       "      <td>2202.578</td>\n",
       "      <td>819.441</td>\n",
       "      <td>368.721</td>\n",
       "      <td>-521.060</td>\n",
       "      <td>528.773</td>\n",
       "      <td>-1189.478</td>\n",
       "      <td>-120.830</td>\n",
       "      <td>7.597</td>\n",
       "      <td>1041.844</td>\n",
       "      <td>-268.876</td>\n",
       "      <td>-889.580</td>\n",
       "      <td>-409.716</td>\n",
       "    </tr>\n",
       "  </tbody>\n",
       "</table>\n",
       "</div>"
      ],
      "text/plain": [
       "      Crude oil (Without NGL)    2019M01    2019M02    2019M03    2019M04  \\\n",
       "0       Indigenous production   6012.481   5731.782   6238.210   5730.741   \n",
       "1                     Imports  49292.715  43548.719  46005.069  45659.680   \n",
       "2                     Exports   3850.000   3686.000   3760.000   3916.000   \n",
       "3  Refinery intake - observed  50187.171  43805.018  47790.975  46571.240   \n",
       "4             Change in stock    118.168   2202.578    819.441    368.721   \n",
       "\n",
       "     2019M05    2019M06    2019M07    2019M08    2019M09    2019M10  \\\n",
       "0   5909.916   5513.389   5588.356   5164.632   5455.161   5503.248   \n",
       "1  44025.672  43890.695  48428.800  48828.453  45081.786  46881.555   \n",
       "2   4216.961   3910.000   3641.000   3113.000   3832.000   3507.000   \n",
       "3  46646.166  45510.769  50782.238  51111.330  46508.172  48210.534   \n",
       "4   -521.060    528.773  -1189.478   -120.830      7.597   1041.844   \n",
       "\n",
       "     2019M11    2019M12    2020M01  \n",
       "0   5577.198   5680.873   5812.156  \n",
       "1  44798.313  46096.871  38258.362  \n",
       "2   3969.000   3874.000   3665.038  \n",
       "3  45929.500  48195.518  40695.761  \n",
       "4   -268.876   -889.580   -409.716  "
      ]
     },
     "execution_count": 11,
     "metadata": {},
     "output_type": "execute_result"
    }
   ],
   "source": [
    "crude_oil_df.head()"
   ]
  },
  {
   "cell_type": "code",
   "execution_count": 12,
   "metadata": {},
   "outputs": [],
   "source": [
    "delivery_of_primary_coal_by_sector_df = pd.read_csv(os.path.join(\"..\", \"data\", \"energy\", \"delivery_of_primary_coal_by_sector.csv\"))"
   ]
  },
  {
   "cell_type": "code",
   "execution_count": 13,
   "metadata": {},
   "outputs": [],
   "source": [
    "refinery_intake_crude_oil_df = pd.read_csv(os.path.join(\"..\", \"data\", \"energy\", \"refinery_intake_crude_oil.csv\"))"
   ]
  },
  {
   "cell_type": "code",
   "execution_count": 14,
   "metadata": {},
   "outputs": [
    {
     "data": {
      "text/html": [
       "<div>\n",
       "<style scoped>\n",
       "    .dataframe tbody tr th:only-of-type {\n",
       "        vertical-align: middle;\n",
       "    }\n",
       "\n",
       "    .dataframe tbody tr th {\n",
       "        vertical-align: top;\n",
       "    }\n",
       "\n",
       "    .dataframe thead th {\n",
       "        text-align: right;\n",
       "    }\n",
       "</style>\n",
       "<table border=\"1\" class=\"dataframe\">\n",
       "  <thead>\n",
       "    <tr style=\"text-align: right;\">\n",
       "      <th></th>\n",
       "      <th>Country</th>\n",
       "      <th>Jan-19</th>\n",
       "      <th>Feb-19</th>\n",
       "      <th>Mar-19</th>\n",
       "      <th>Apr-19</th>\n",
       "      <th>May-19</th>\n",
       "      <th>Jun-19</th>\n",
       "      <th>Jul-19</th>\n",
       "      <th>Aug-19</th>\n",
       "      <th>Sep-19</th>\n",
       "      <th>Oct-19</th>\n",
       "      <th>Nov-19</th>\n",
       "      <th>Dec-19</th>\n",
       "      <th>Jan-20</th>\n",
       "    </tr>\n",
       "  </thead>\n",
       "  <tbody>\n",
       "    <tr>\n",
       "      <td>0</td>\n",
       "      <td>European Union</td>\n",
       "      <td>50187.171</td>\n",
       "      <td>43805.018</td>\n",
       "      <td>47790.975</td>\n",
       "      <td>46571.24</td>\n",
       "      <td>46646.166</td>\n",
       "      <td>45510.769</td>\n",
       "      <td>50782.238</td>\n",
       "      <td>51111.33</td>\n",
       "      <td>46508.172</td>\n",
       "      <td>48210.534</td>\n",
       "      <td>45929.5</td>\n",
       "      <td>48195.518</td>\n",
       "      <td>40695.761</td>\n",
       "    </tr>\n",
       "    <tr>\n",
       "      <td>1</td>\n",
       "      <td>Euro area</td>\n",
       "      <td>38192.171</td>\n",
       "      <td>32931.018</td>\n",
       "      <td>36702.975</td>\n",
       "      <td>35427.24</td>\n",
       "      <td>35300.166</td>\n",
       "      <td>33805.769</td>\n",
       "      <td>38225.238</td>\n",
       "      <td>38516.33</td>\n",
       "      <td>35577.172</td>\n",
       "      <td>36378.534</td>\n",
       "      <td>34124.5</td>\n",
       "      <td>35945.518</td>\n",
       "      <td>28399.805</td>\n",
       "    </tr>\n",
       "    <tr>\n",
       "      <td>2</td>\n",
       "      <td>Belgium</td>\n",
       "      <td>3118.000</td>\n",
       "      <td>2828.000</td>\n",
       "      <td>3007.000</td>\n",
       "      <td>2947.00</td>\n",
       "      <td>2871.000</td>\n",
       "      <td>2836.000</td>\n",
       "      <td>2890.000</td>\n",
       "      <td>2968.00</td>\n",
       "      <td>2719.000</td>\n",
       "      <td>2801.000</td>\n",
       "      <td>2803.0</td>\n",
       "      <td>2737.000</td>\n",
       "      <td>2891.200</td>\n",
       "    </tr>\n",
       "    <tr>\n",
       "      <td>3</td>\n",
       "      <td>Bulgaria</td>\n",
       "      <td>577.000</td>\n",
       "      <td>527.000</td>\n",
       "      <td>347.000</td>\n",
       "      <td>565.00</td>\n",
       "      <td>625.000</td>\n",
       "      <td>598.000</td>\n",
       "      <td>617.000</td>\n",
       "      <td>613.00</td>\n",
       "      <td>574.000</td>\n",
       "      <td>646.000</td>\n",
       "      <td>585.0</td>\n",
       "      <td>557.000</td>\n",
       "      <td>569.434</td>\n",
       "    </tr>\n",
       "    <tr>\n",
       "      <td>4</td>\n",
       "      <td>Czechia</td>\n",
       "      <td>600.000</td>\n",
       "      <td>587.000</td>\n",
       "      <td>660.000</td>\n",
       "      <td>554.00</td>\n",
       "      <td>689.000</td>\n",
       "      <td>637.000</td>\n",
       "      <td>724.000</td>\n",
       "      <td>715.00</td>\n",
       "      <td>694.000</td>\n",
       "      <td>681.000</td>\n",
       "      <td>682.0</td>\n",
       "      <td>624.000</td>\n",
       "      <td>650.000</td>\n",
       "    </tr>\n",
       "  </tbody>\n",
       "</table>\n",
       "</div>"
      ],
      "text/plain": [
       "          Country     Jan-19     Feb-19     Mar-19    Apr-19     May-19  \\\n",
       "0  European Union  50187.171  43805.018  47790.975  46571.24  46646.166   \n",
       "1       Euro area  38192.171  32931.018  36702.975  35427.24  35300.166   \n",
       "2         Belgium   3118.000   2828.000   3007.000   2947.00   2871.000   \n",
       "3        Bulgaria    577.000    527.000    347.000    565.00    625.000   \n",
       "4         Czechia    600.000    587.000    660.000    554.00    689.000   \n",
       "\n",
       "      Jun-19     Jul-19    Aug-19     Sep-19     Oct-19   Nov-19     Dec-19  \\\n",
       "0  45510.769  50782.238  51111.33  46508.172  48210.534  45929.5  48195.518   \n",
       "1  33805.769  38225.238  38516.33  35577.172  36378.534  34124.5  35945.518   \n",
       "2   2836.000   2890.000   2968.00   2719.000   2801.000   2803.0   2737.000   \n",
       "3    598.000    617.000    613.00    574.000    646.000    585.0    557.000   \n",
       "4    637.000    724.000    715.00    694.000    681.000    682.0    624.000   \n",
       "\n",
       "      Jan-20  \n",
       "0  40695.761  \n",
       "1  28399.805  \n",
       "2   2891.200  \n",
       "3    569.434  \n",
       "4    650.000  "
      ]
     },
     "execution_count": 14,
     "metadata": {},
     "output_type": "execute_result"
    }
   ],
   "source": [
    "refinery_intake_crude_oil_df.head()"
   ]
  },
  {
   "cell_type": "code",
   "execution_count": 17,
   "metadata": {},
   "outputs": [],
   "source": [
    "gross_inland_deliveries_coal_all_df = pd.read_csv(os.path.join(\"..\", \"data\", \"energy\", \"gross_inland_deliveries_coal_all.csv\"))"
   ]
  },
  {
   "cell_type": "code",
   "execution_count": 18,
   "metadata": {},
   "outputs": [
    {
     "data": {
      "text/html": [
       "<div>\n",
       "<style scoped>\n",
       "    .dataframe tbody tr th:only-of-type {\n",
       "        vertical-align: middle;\n",
       "    }\n",
       "\n",
       "    .dataframe tbody tr th {\n",
       "        vertical-align: top;\n",
       "    }\n",
       "\n",
       "    .dataframe thead th {\n",
       "        text-align: right;\n",
       "    }\n",
       "</style>\n",
       "<table border=\"1\" class=\"dataframe\">\n",
       "  <thead>\n",
       "    <tr style=\"text-align: right;\">\n",
       "      <th></th>\n",
       "      <th>Country</th>\n",
       "      <th>19-Jan</th>\n",
       "      <th>19-Feb</th>\n",
       "      <th>19-Mar</th>\n",
       "      <th>19-Apr</th>\n",
       "      <th>19-May</th>\n",
       "      <th>19-Jun</th>\n",
       "      <th>19-Jul</th>\n",
       "      <th>19-Aug</th>\n",
       "      <th>19-Sep</th>\n",
       "      <th>19-Oct</th>\n",
       "      <th>19-Nov</th>\n",
       "      <th>19-Dec</th>\n",
       "      <th>20-Jan</th>\n",
       "    </tr>\n",
       "  </thead>\n",
       "  <tbody>\n",
       "    <tr>\n",
       "      <td>0</td>\n",
       "      <td>European Union</td>\n",
       "      <td>55822.154</td>\n",
       "      <td>47971.946</td>\n",
       "      <td>44974.295</td>\n",
       "      <td>42561.335</td>\n",
       "      <td>39811.593</td>\n",
       "      <td>35960.221</td>\n",
       "      <td>39300.775</td>\n",
       "      <td>38385.693</td>\n",
       "      <td>39553.295</td>\n",
       "      <td>42492.161</td>\n",
       "      <td>43916.205</td>\n",
       "      <td>41578.327</td>\n",
       "      <td>41608.780</td>\n",
       "    </tr>\n",
       "    <tr>\n",
       "      <td>1</td>\n",
       "      <td>Euro area</td>\n",
       "      <td>30765.367</td>\n",
       "      <td>27041.760</td>\n",
       "      <td>24643.340</td>\n",
       "      <td>24162.379</td>\n",
       "      <td>21422.326</td>\n",
       "      <td>19003.291</td>\n",
       "      <td>20782.199</td>\n",
       "      <td>19898.202</td>\n",
       "      <td>20252.940</td>\n",
       "      <td>21639.512</td>\n",
       "      <td>24028.320</td>\n",
       "      <td>21560.762</td>\n",
       "      <td>22155.483</td>\n",
       "    </tr>\n",
       "    <tr>\n",
       "      <td>2</td>\n",
       "      <td>Belgium</td>\n",
       "      <td>307.100</td>\n",
       "      <td>262.000</td>\n",
       "      <td>308.500</td>\n",
       "      <td>289.800</td>\n",
       "      <td>307.100</td>\n",
       "      <td>284.800</td>\n",
       "      <td>305.500</td>\n",
       "      <td>303.000</td>\n",
       "      <td>298.100</td>\n",
       "      <td>304.900</td>\n",
       "      <td>294.100</td>\n",
       "      <td>283.900</td>\n",
       "      <td>316.000</td>\n",
       "    </tr>\n",
       "    <tr>\n",
       "      <td>3</td>\n",
       "      <td>Bulgaria</td>\n",
       "      <td>3659.659</td>\n",
       "      <td>2786.045</td>\n",
       "      <td>2151.791</td>\n",
       "      <td>1893.062</td>\n",
       "      <td>2383.267</td>\n",
       "      <td>1490.606</td>\n",
       "      <td>2000.476</td>\n",
       "      <td>2078.488</td>\n",
       "      <td>2499.393</td>\n",
       "      <td>2849.267</td>\n",
       "      <td>2436.261</td>\n",
       "      <td>2657.902</td>\n",
       "      <td>2422.370</td>\n",
       "    </tr>\n",
       "    <tr>\n",
       "      <td>4</td>\n",
       "      <td>Czechia</td>\n",
       "      <td>3905.907</td>\n",
       "      <td>3845.770</td>\n",
       "      <td>4079.931</td>\n",
       "      <td>3657.350</td>\n",
       "      <td>3262.562</td>\n",
       "      <td>2952.259</td>\n",
       "      <td>2922.779</td>\n",
       "      <td>3224.399</td>\n",
       "      <td>3304.415</td>\n",
       "      <td>3617.779</td>\n",
       "      <td>3733.538</td>\n",
       "      <td>3775.289</td>\n",
       "      <td>3766.488</td>\n",
       "    </tr>\n",
       "  </tbody>\n",
       "</table>\n",
       "</div>"
      ],
      "text/plain": [
       "          Country     19-Jan     19-Feb     19-Mar     19-Apr     19-May  \\\n",
       "0  European Union  55822.154  47971.946  44974.295  42561.335  39811.593   \n",
       "1       Euro area  30765.367  27041.760  24643.340  24162.379  21422.326   \n",
       "2         Belgium    307.100    262.000    308.500    289.800    307.100   \n",
       "3        Bulgaria   3659.659   2786.045   2151.791   1893.062   2383.267   \n",
       "4         Czechia   3905.907   3845.770   4079.931   3657.350   3262.562   \n",
       "\n",
       "      19-Jun     19-Jul     19-Aug     19-Sep     19-Oct     19-Nov  \\\n",
       "0  35960.221  39300.775  38385.693  39553.295  42492.161  43916.205   \n",
       "1  19003.291  20782.199  19898.202  20252.940  21639.512  24028.320   \n",
       "2    284.800    305.500    303.000    298.100    304.900    294.100   \n",
       "3   1490.606   2000.476   2078.488   2499.393   2849.267   2436.261   \n",
       "4   2952.259   2922.779   3224.399   3304.415   3617.779   3733.538   \n",
       "\n",
       "      19-Dec     20-Jan  \n",
       "0  41578.327  41608.780  \n",
       "1  21560.762  22155.483  \n",
       "2    283.900    316.000  \n",
       "3   2657.902   2422.370  \n",
       "4   3775.289   3766.488  "
      ]
     },
     "execution_count": 18,
     "metadata": {},
     "output_type": "execute_result"
    }
   ],
   "source": [
    "gross_inland_deliveries_coal_all_df.head()"
   ]
  },
  {
   "cell_type": "markdown",
   "metadata": {},
   "source": [
    "## Data visualization\n",
    "\n",
    "\n",
    "### Gross inland delivery of coal\n"
   ]
  },
  {
   "cell_type": "code",
   "execution_count": 19,
   "metadata": {},
   "outputs": [],
   "source": [
    "## get country codes\n",
    "country_codes_df = pd.read_csv('https://raw.githubusercontent.com/plotly/datasets/master/2014_world_gdp_with_codes.csv')\n",
    "country_codes_df.columns = ['Country', 'GDP', 'CODE']"
   ]
  },
  {
   "cell_type": "code",
   "execution_count": 20,
   "metadata": {},
   "outputs": [],
   "source": [
    "data_df = gross_inland_deliveries_coal_all_df.merge(country_codes_df, on='Country')\n",
    "data_tr_df = data_df.melt(id_vars=[\"Country\", \"GDP\", \"CODE\"], \n",
    "        var_name=\"Date\", \n",
    "        value_name=\"Value\")\n",
    "data_tr_df['Value'] = data_tr_df['Value'].apply(lambda x: float(x))"
   ]
  },
  {
   "cell_type": "code",
   "execution_count": 21,
   "metadata": {},
   "outputs": [
    {
     "data": {
      "text/html": [
       "<div>\n",
       "<style scoped>\n",
       "    .dataframe tbody tr th:only-of-type {\n",
       "        vertical-align: middle;\n",
       "    }\n",
       "\n",
       "    .dataframe tbody tr th {\n",
       "        vertical-align: top;\n",
       "    }\n",
       "\n",
       "    .dataframe thead th {\n",
       "        text-align: right;\n",
       "    }\n",
       "</style>\n",
       "<table border=\"1\" class=\"dataframe\">\n",
       "  <thead>\n",
       "    <tr style=\"text-align: right;\">\n",
       "      <th></th>\n",
       "      <th>Country</th>\n",
       "      <th>GDP</th>\n",
       "      <th>CODE</th>\n",
       "      <th>Date</th>\n",
       "      <th>Value</th>\n",
       "    </tr>\n",
       "  </thead>\n",
       "  <tbody>\n",
       "    <tr>\n",
       "      <td>0</td>\n",
       "      <td>Belgium</td>\n",
       "      <td>527.80</td>\n",
       "      <td>BEL</td>\n",
       "      <td>19-Jan</td>\n",
       "      <td>307.100</td>\n",
       "    </tr>\n",
       "    <tr>\n",
       "      <td>1</td>\n",
       "      <td>Bulgaria</td>\n",
       "      <td>55.08</td>\n",
       "      <td>BGR</td>\n",
       "      <td>19-Jan</td>\n",
       "      <td>3659.659</td>\n",
       "    </tr>\n",
       "    <tr>\n",
       "      <td>2</td>\n",
       "      <td>Denmark</td>\n",
       "      <td>347.20</td>\n",
       "      <td>DNK</td>\n",
       "      <td>19-Jan</td>\n",
       "      <td>336.444</td>\n",
       "    </tr>\n",
       "    <tr>\n",
       "      <td>3</td>\n",
       "      <td>Germany</td>\n",
       "      <td>3820.00</td>\n",
       "      <td>DEU</td>\n",
       "      <td>19-Jan</td>\n",
       "      <td>16522.459</td>\n",
       "    </tr>\n",
       "    <tr>\n",
       "      <td>4</td>\n",
       "      <td>Estonia</td>\n",
       "      <td>26.36</td>\n",
       "      <td>EST</td>\n",
       "      <td>19-Jan</td>\n",
       "      <td>1931.714</td>\n",
       "    </tr>\n",
       "    <tr>\n",
       "      <td>5</td>\n",
       "      <td>Ireland</td>\n",
       "      <td>245.80</td>\n",
       "      <td>IRL</td>\n",
       "      <td>19-Jan</td>\n",
       "      <td>NaN</td>\n",
       "    </tr>\n",
       "    <tr>\n",
       "      <td>6</td>\n",
       "      <td>Greece</td>\n",
       "      <td>246.40</td>\n",
       "      <td>GRC</td>\n",
       "      <td>19-Jan</td>\n",
       "      <td>3574.887</td>\n",
       "    </tr>\n",
       "    <tr>\n",
       "      <td>7</td>\n",
       "      <td>Spain</td>\n",
       "      <td>1400.00</td>\n",
       "      <td>ESP</td>\n",
       "      <td>19-Jan</td>\n",
       "      <td>1848.000</td>\n",
       "    </tr>\n",
       "    <tr>\n",
       "      <td>8</td>\n",
       "      <td>France</td>\n",
       "      <td>2902.00</td>\n",
       "      <td>FRA</td>\n",
       "      <td>19-Jan</td>\n",
       "      <td>983.614</td>\n",
       "    </tr>\n",
       "    <tr>\n",
       "      <td>9</td>\n",
       "      <td>Croatia</td>\n",
       "      <td>57.18</td>\n",
       "      <td>HRV</td>\n",
       "      <td>19-Jan</td>\n",
       "      <td>61.000</td>\n",
       "    </tr>\n",
       "  </tbody>\n",
       "</table>\n",
       "</div>"
      ],
      "text/plain": [
       "    Country      GDP CODE    Date      Value\n",
       "0   Belgium   527.80  BEL  19-Jan    307.100\n",
       "1  Bulgaria    55.08  BGR  19-Jan   3659.659\n",
       "2   Denmark   347.20  DNK  19-Jan    336.444\n",
       "3   Germany  3820.00  DEU  19-Jan  16522.459\n",
       "4   Estonia    26.36  EST  19-Jan   1931.714\n",
       "5   Ireland   245.80  IRL  19-Jan        NaN\n",
       "6    Greece   246.40  GRC  19-Jan   3574.887\n",
       "7     Spain  1400.00  ESP  19-Jan   1848.000\n",
       "8    France  2902.00  FRA  19-Jan    983.614\n",
       "9   Croatia    57.18  HRV  19-Jan     61.000"
      ]
     },
     "execution_count": 21,
     "metadata": {},
     "output_type": "execute_result"
    }
   ],
   "source": [
    "data_tr_df.head(10)"
   ]
  },
  {
   "cell_type": "code",
   "execution_count": 23,
   "metadata": {},
   "outputs": [
    {
     "data": {
      "application/vnd.plotly.v1+json": {
       "config": {
        "plotlyServerURL": "https://plot.ly"
       },
       "data": [
        {
         "coloraxis": "coloraxis",
         "geo": "geo",
         "hovertemplate": "<b>%{hovertext}</b><br><br>Date=19-Jan<br>CODE=%{location}<br>Value=%{z}<extra></extra>",
         "hovertext": [
          "Date: 19-Jan<br>Country: Belgium<br>Value: 307.1<br>",
          "Date: 19-Jan<br>Country: Bulgaria<br>Value: 3659.659<br>",
          "Date: 19-Jan<br>Country: Denmark<br>Value: 336.444<br>",
          "Date: 19-Jan<br>Country: Germany<br>Value: 16522.459<br>",
          "Date: 19-Jan<br>Country: Estonia<br>Value: 1931.714<br>",
          "Date: 19-Jan<br>Country: Ireland<br>Value: nan<br>",
          "Date: 19-Jan<br>Country: Greece<br>Value: 3574.887<br>",
          "Date: 19-Jan<br>Country: Spain<br>Value: 1848.0<br>",
          "Date: 19-Jan<br>Country: France<br>Value: 983.6139999999999<br>",
          "Date: 19-Jan<br>Country: Croatia<br>Value: 61.0<br>",
          "Date: 19-Jan<br>Country: Italy<br>Value: 1248.0<br>",
          "Date: 19-Jan<br>Country: Cyprus<br>Value: 1.061<br>",
          "Date: 19-Jan<br>Country: Latvia<br>Value: 6.892<br>",
          "Date: 19-Jan<br>Country: Lithuania<br>Value: 31.320999999999998<br>",
          "Date: 19-Jan<br>Country: Luxembourg<br>Value: 5.001<br>",
          "Date: 19-Jan<br>Country: Hungary<br>Value: 795.168<br>",
          "Date: 19-Jan<br>Country: Malta<br>Value: nan<br>",
          "Date: 19-Jan<br>Country: Netherlands<br>Value: 1395.0<br>",
          "Date: 19-Jan<br>Country: Austria<br>Value: 370.777<br>",
          "Date: 19-Jan<br>Country: Poland<br>Value: 12470.87<br>",
          "Date: 19-Jan<br>Country: Portugal<br>Value: 405.705<br>",
          "Date: 19-Jan<br>Country: Romania<br>Value: 2049.0<br>",
          "Date: 19-Jan<br>Country: Slovenia<br>Value: 362.836<br>",
          "Date: 19-Jan<br>Country: Slovakia<br>Value: 539.0<br>",
          "Date: 19-Jan<br>Country: Finland<br>Value: 1232.0<br>",
          "Date: 19-Jan<br>Country: Sweden<br>Value: 285.0<br>",
          "Date: 19-Jan<br>Country: United Kingdom<br>Value: 1493.739<br>",
          "Date: 19-Jan<br>Country: Norway<br>Value: 67.172<br>",
          "Date: 19-Jan<br>Country: Montenegro<br>Value: 146.02<br>",
          "Date: 19-Jan<br>Country: Serbia<br>Value: 3384.5570000000002<br>",
          "Date: 19-Jan<br>Country: Bosnia and Herzegovina<br>Value: 1253.327<br>",
          "Date: 19-Jan<br>Country: Ukraine<br>Value: 4618.4<br>",
          "Date: 19-Jan<br>Country: Moldova<br>Value: 15.1<br>"
         ],
         "locations": [
          "BEL",
          "BGR",
          "DNK",
          "DEU",
          "EST",
          "IRL",
          "GRC",
          "ESP",
          "FRA",
          "HRV",
          "ITA",
          "CYP",
          "LVA",
          "LTU",
          "LUX",
          "HUN",
          "MLT",
          "NLD",
          "AUT",
          "POL",
          "PRT",
          "ROU",
          "SVN",
          "SVK",
          "FIN",
          "SWE",
          "GBR",
          "NOR",
          "MNE",
          "SRB",
          "BIH",
          "UKR",
          "MDA"
         ],
         "name": "",
         "type": "choropleth",
         "z": [
          307.1,
          3659.659,
          336.444,
          16522.459,
          1931.714,
          null,
          3574.887,
          1848,
          983.6139999999999,
          61,
          1248,
          1.061,
          6.892,
          31.320999999999998,
          5.001,
          795.168,
          null,
          1395,
          370.777,
          12470.87,
          405.705,
          2049,
          362.836,
          539,
          1232,
          285,
          1493.739,
          67.172,
          146.02,
          3384.5570000000002,
          1253.327,
          4618.4,
          15.1
         ]
        }
       ],
       "frames": [
        {
         "data": [
          {
           "coloraxis": "coloraxis",
           "geo": "geo",
           "hovertemplate": "<b>%{hovertext}</b><br><br>Date=19-Jan<br>CODE=%{location}<br>Value=%{z}<extra></extra>",
           "hovertext": [
            "Date: 19-Jan<br>Country: Belgium<br>Value: 307.1<br>",
            "Date: 19-Jan<br>Country: Bulgaria<br>Value: 3659.659<br>",
            "Date: 19-Jan<br>Country: Denmark<br>Value: 336.444<br>",
            "Date: 19-Jan<br>Country: Germany<br>Value: 16522.459<br>",
            "Date: 19-Jan<br>Country: Estonia<br>Value: 1931.714<br>",
            "Date: 19-Jan<br>Country: Ireland<br>Value: nan<br>",
            "Date: 19-Jan<br>Country: Greece<br>Value: 3574.887<br>",
            "Date: 19-Jan<br>Country: Spain<br>Value: 1848.0<br>",
            "Date: 19-Jan<br>Country: France<br>Value: 983.6139999999999<br>",
            "Date: 19-Jan<br>Country: Croatia<br>Value: 61.0<br>",
            "Date: 19-Jan<br>Country: Italy<br>Value: 1248.0<br>",
            "Date: 19-Jan<br>Country: Cyprus<br>Value: 1.061<br>",
            "Date: 19-Jan<br>Country: Latvia<br>Value: 6.892<br>",
            "Date: 19-Jan<br>Country: Lithuania<br>Value: 31.320999999999998<br>",
            "Date: 19-Jan<br>Country: Luxembourg<br>Value: 5.001<br>",
            "Date: 19-Jan<br>Country: Hungary<br>Value: 795.168<br>",
            "Date: 19-Jan<br>Country: Malta<br>Value: nan<br>",
            "Date: 19-Jan<br>Country: Netherlands<br>Value: 1395.0<br>",
            "Date: 19-Jan<br>Country: Austria<br>Value: 370.777<br>",
            "Date: 19-Jan<br>Country: Poland<br>Value: 12470.87<br>",
            "Date: 19-Jan<br>Country: Portugal<br>Value: 405.705<br>",
            "Date: 19-Jan<br>Country: Romania<br>Value: 2049.0<br>",
            "Date: 19-Jan<br>Country: Slovenia<br>Value: 362.836<br>",
            "Date: 19-Jan<br>Country: Slovakia<br>Value: 539.0<br>",
            "Date: 19-Jan<br>Country: Finland<br>Value: 1232.0<br>",
            "Date: 19-Jan<br>Country: Sweden<br>Value: 285.0<br>",
            "Date: 19-Jan<br>Country: United Kingdom<br>Value: 1493.739<br>",
            "Date: 19-Jan<br>Country: Norway<br>Value: 67.172<br>",
            "Date: 19-Jan<br>Country: Montenegro<br>Value: 146.02<br>",
            "Date: 19-Jan<br>Country: Serbia<br>Value: 3384.5570000000002<br>",
            "Date: 19-Jan<br>Country: Bosnia and Herzegovina<br>Value: 1253.327<br>",
            "Date: 19-Jan<br>Country: Ukraine<br>Value: 4618.4<br>",
            "Date: 19-Jan<br>Country: Moldova<br>Value: 15.1<br>"
           ],
           "locations": [
            "BEL",
            "BGR",
            "DNK",
            "DEU",
            "EST",
            "IRL",
            "GRC",
            "ESP",
            "FRA",
            "HRV",
            "ITA",
            "CYP",
            "LVA",
            "LTU",
            "LUX",
            "HUN",
            "MLT",
            "NLD",
            "AUT",
            "POL",
            "PRT",
            "ROU",
            "SVN",
            "SVK",
            "FIN",
            "SWE",
            "GBR",
            "NOR",
            "MNE",
            "SRB",
            "BIH",
            "UKR",
            "MDA"
           ],
           "name": "",
           "type": "choropleth",
           "z": [
            307.1,
            3659.659,
            336.444,
            16522.459,
            1931.714,
            null,
            3574.887,
            1848,
            983.6139999999999,
            61,
            1248,
            1.061,
            6.892,
            31.320999999999998,
            5.001,
            795.168,
            null,
            1395,
            370.777,
            12470.87,
            405.705,
            2049,
            362.836,
            539,
            1232,
            285,
            1493.739,
            67.172,
            146.02,
            3384.5570000000002,
            1253.327,
            4618.4,
            15.1
           ]
          }
         ],
         "name": "19-Jan"
        },
        {
         "data": [
          {
           "coloraxis": "coloraxis",
           "geo": "geo",
           "hovertemplate": "<b>%{hovertext}</b><br><br>Date=19-Feb<br>CODE=%{location}<br>Value=%{z}<extra></extra>",
           "hovertext": [
            "Date: 19-Feb<br>Country: Belgium<br>Value: 262.0<br>",
            "Date: 19-Feb<br>Country: Bulgaria<br>Value: 2786.045<br>",
            "Date: 19-Feb<br>Country: Denmark<br>Value: 261.22900000000004<br>",
            "Date: 19-Feb<br>Country: Germany<br>Value: 16125.421<br>",
            "Date: 19-Feb<br>Country: Estonia<br>Value: 1526.832<br>",
            "Date: 19-Feb<br>Country: Ireland<br>Value: nan<br>",
            "Date: 19-Feb<br>Country: Greece<br>Value: 2412.84<br>",
            "Date: 19-Feb<br>Country: Spain<br>Value: 1217.0<br>",
            "Date: 19-Feb<br>Country: France<br>Value: 882.2310000000001<br>",
            "Date: 19-Feb<br>Country: Croatia<br>Value: 57.0<br>",
            "Date: 19-Feb<br>Country: Italy<br>Value: 947.0<br>",
            "Date: 19-Feb<br>Country: Cyprus<br>Value: 2.229<br>",
            "Date: 19-Feb<br>Country: Latvia<br>Value: 4.823<br>",
            "Date: 19-Feb<br>Country: Lithuania<br>Value: 28.486<br>",
            "Date: 19-Feb<br>Country: Luxembourg<br>Value: 15.817<br>",
            "Date: 19-Feb<br>Country: Hungary<br>Value: 706.822<br>",
            "Date: 19-Feb<br>Country: Malta<br>Value: nan<br>",
            "Date: 19-Feb<br>Country: Netherlands<br>Value: 1267.0<br>",
            "Date: 19-Feb<br>Country: Austria<br>Value: 341.75300000000004<br>",
            "Date: 19-Feb<br>Country: Poland<br>Value: 10429.252<br>",
            "Date: 19-Feb<br>Country: Portugal<br>Value: 252.47<br>",
            "Date: 19-Feb<br>Country: Romania<br>Value: 1865.0<br>",
            "Date: 19-Feb<br>Country: Slovenia<br>Value: 295.858<br>",
            "Date: 19-Feb<br>Country: Slovakia<br>Value: 479.0<br>",
            "Date: 19-Feb<br>Country: Finland<br>Value: 981.0<br>",
            "Date: 19-Feb<br>Country: Sweden<br>Value: 272.0<br>",
            "Date: 19-Feb<br>Country: United Kingdom<br>Value: 707.068<br>",
            "Date: 19-Feb<br>Country: Norway<br>Value: 67.172<br>",
            "Date: 19-Feb<br>Country: Montenegro<br>Value: 146.04<br>",
            "Date: 19-Feb<br>Country: Serbia<br>Value: 3301.575<br>",
            "Date: 19-Feb<br>Country: Bosnia and Herzegovina<br>Value: 1224.871<br>",
            "Date: 19-Feb<br>Country: Ukraine<br>Value: 3596.2<br>",
            "Date: 19-Feb<br>Country: Moldova<br>Value: 2.78<br>"
           ],
           "locations": [
            "BEL",
            "BGR",
            "DNK",
            "DEU",
            "EST",
            "IRL",
            "GRC",
            "ESP",
            "FRA",
            "HRV",
            "ITA",
            "CYP",
            "LVA",
            "LTU",
            "LUX",
            "HUN",
            "MLT",
            "NLD",
            "AUT",
            "POL",
            "PRT",
            "ROU",
            "SVN",
            "SVK",
            "FIN",
            "SWE",
            "GBR",
            "NOR",
            "MNE",
            "SRB",
            "BIH",
            "UKR",
            "MDA"
           ],
           "name": "",
           "type": "choropleth",
           "z": [
            262,
            2786.045,
            261.22900000000004,
            16125.421,
            1526.832,
            null,
            2412.84,
            1217,
            882.2310000000001,
            57,
            947,
            2.229,
            4.823,
            28.486,
            15.817,
            706.822,
            null,
            1267,
            341.75300000000004,
            10429.252,
            252.47,
            1865,
            295.858,
            479,
            981,
            272,
            707.068,
            67.172,
            146.04,
            3301.575,
            1224.871,
            3596.2,
            2.78
           ]
          }
         ],
         "name": "19-Feb"
        },
        {
         "data": [
          {
           "coloraxis": "coloraxis",
           "geo": "geo",
           "hovertemplate": "<b>%{hovertext}</b><br><br>Date=19-Mar<br>CODE=%{location}<br>Value=%{z}<extra></extra>",
           "hovertext": [
            "Date: 19-Mar<br>Country: Belgium<br>Value: 308.5<br>",
            "Date: 19-Mar<br>Country: Bulgaria<br>Value: 2151.791<br>",
            "Date: 19-Mar<br>Country: Denmark<br>Value: 214.463<br>",
            "Date: 19-Mar<br>Country: Germany<br>Value: 14784.518999999998<br>",
            "Date: 19-Mar<br>Country: Estonia<br>Value: 1499.15<br>",
            "Date: 19-Mar<br>Country: Ireland<br>Value: nan<br>",
            "Date: 19-Mar<br>Country: Greece<br>Value: 2465.2870000000003<br>",
            "Date: 19-Mar<br>Country: Spain<br>Value: 610.0<br>",
            "Date: 19-Mar<br>Country: France<br>Value: 856.732<br>",
            "Date: 19-Mar<br>Country: Croatia<br>Value: 57.0<br>",
            "Date: 19-Mar<br>Country: Italy<br>Value: 870.0<br>",
            "Date: 19-Mar<br>Country: Cyprus<br>Value: 1.7280000000000002<br>",
            "Date: 19-Mar<br>Country: Latvia<br>Value: 4.9030000000000005<br>",
            "Date: 19-Mar<br>Country: Lithuania<br>Value: 24.881<br>",
            "Date: 19-Mar<br>Country: Luxembourg<br>Value: 5.787999999999999<br>",
            "Date: 19-Mar<br>Country: Hungary<br>Value: 811.482<br>",
            "Date: 19-Mar<br>Country: Malta<br>Value: nan<br>",
            "Date: 19-Mar<br>Country: Netherlands<br>Value: 964.0<br>",
            "Date: 19-Mar<br>Country: Austria<br>Value: 321.47700000000003<br>",
            "Date: 19-Mar<br>Country: Poland<br>Value: 10090.5<br>",
            "Date: 19-Mar<br>Country: Portugal<br>Value: 241.99599999999998<br>",
            "Date: 19-Mar<br>Country: Romania<br>Value: 2025.0<br>",
            "Date: 19-Mar<br>Country: Slovenia<br>Value: 241.37900000000002<br>",
            "Date: 19-Mar<br>Country: Slovakia<br>Value: 523.0<br>",
            "Date: 19-Mar<br>Country: Finland<br>Value: 920.0<br>",
            "Date: 19-Mar<br>Country: Sweden<br>Value: 286.0<br>",
            "Date: 19-Mar<br>Country: United Kingdom<br>Value: 614.788<br>",
            "Date: 19-Mar<br>Country: Norway<br>Value: 67.172<br>",
            "Date: 19-Mar<br>Country: Montenegro<br>Value: 129.19<br>",
            "Date: 19-Mar<br>Country: Serbia<br>Value: 3646.015<br>",
            "Date: 19-Mar<br>Country: Bosnia and Herzegovina<br>Value: 1316.3970000000002<br>",
            "Date: 19-Mar<br>Country: Ukraine<br>Value: 4007.6<br>",
            "Date: 19-Mar<br>Country: Moldova<br>Value: 3.07<br>"
           ],
           "locations": [
            "BEL",
            "BGR",
            "DNK",
            "DEU",
            "EST",
            "IRL",
            "GRC",
            "ESP",
            "FRA",
            "HRV",
            "ITA",
            "CYP",
            "LVA",
            "LTU",
            "LUX",
            "HUN",
            "MLT",
            "NLD",
            "AUT",
            "POL",
            "PRT",
            "ROU",
            "SVN",
            "SVK",
            "FIN",
            "SWE",
            "GBR",
            "NOR",
            "MNE",
            "SRB",
            "BIH",
            "UKR",
            "MDA"
           ],
           "name": "",
           "type": "choropleth",
           "z": [
            308.5,
            2151.791,
            214.463,
            14784.518999999998,
            1499.15,
            null,
            2465.2870000000003,
            610,
            856.732,
            57,
            870,
            1.7280000000000002,
            4.9030000000000005,
            24.881,
            5.787999999999999,
            811.482,
            null,
            964,
            321.47700000000003,
            10090.5,
            241.99599999999998,
            2025,
            241.37900000000002,
            523,
            920,
            286,
            614.788,
            67.172,
            129.19,
            3646.015,
            1316.3970000000002,
            4007.6,
            3.07
           ]
          }
         ],
         "name": "19-Mar"
        },
        {
         "data": [
          {
           "coloraxis": "coloraxis",
           "geo": "geo",
           "hovertemplate": "<b>%{hovertext}</b><br><br>Date=19-Apr<br>CODE=%{location}<br>Value=%{z}<extra></extra>",
           "hovertext": [
            "Date: 19-Apr<br>Country: Belgium<br>Value: 289.8<br>",
            "Date: 19-Apr<br>Country: Bulgaria<br>Value: 1893.0620000000001<br>",
            "Date: 19-Apr<br>Country: Denmark<br>Value: 152.496<br>",
            "Date: 19-Apr<br>Country: Germany<br>Value: 14476.671999999999<br>",
            "Date: 19-Apr<br>Country: Estonia<br>Value: 1978.0970000000002<br>",
            "Date: 19-Apr<br>Country: Ireland<br>Value: nan<br>",
            "Date: 19-Apr<br>Country: Greece<br>Value: 2302.042<br>",
            "Date: 19-Apr<br>Country: Spain<br>Value: 552.0<br>",
            "Date: 19-Apr<br>Country: France<br>Value: 842.175<br>",
            "Date: 19-Apr<br>Country: Croatia<br>Value: 54.0<br>",
            "Date: 19-Apr<br>Country: Italy<br>Value: 880.0<br>",
            "Date: 19-Apr<br>Country: Cyprus<br>Value: 0.0<br>",
            "Date: 19-Apr<br>Country: Latvia<br>Value: 6.09<br>",
            "Date: 19-Apr<br>Country: Lithuania<br>Value: 19.082<br>",
            "Date: 19-Apr<br>Country: Luxembourg<br>Value: 5.461<br>",
            "Date: 19-Apr<br>Country: Hungary<br>Value: 586.134<br>",
            "Date: 19-Apr<br>Country: Malta<br>Value: nan<br>",
            "Date: 19-Apr<br>Country: Netherlands<br>Value: 854.0<br>",
            "Date: 19-Apr<br>Country: Austria<br>Value: 383.414<br>",
            "Date: 19-Apr<br>Country: Poland<br>Value: 9301.062<br>",
            "Date: 19-Apr<br>Country: Portugal<br>Value: 220.78400000000002<br>",
            "Date: 19-Apr<br>Country: Romania<br>Value: 1984.0<br>",
            "Date: 19-Apr<br>Country: Slovenia<br>Value: 205.762<br>",
            "Date: 19-Apr<br>Country: Slovakia<br>Value: 488.0<br>",
            "Date: 19-Apr<br>Country: Finland<br>Value: 659.0<br>",
            "Date: 19-Apr<br>Country: Sweden<br>Value: 188.0<br>",
            "Date: 19-Apr<br>Country: United Kingdom<br>Value: 582.852<br>",
            "Date: 19-Apr<br>Country: Norway<br>Value: 67.172<br>",
            "Date: 19-Apr<br>Country: Montenegro<br>Value: 29.42<br>",
            "Date: 19-Apr<br>Country: Serbia<br>Value: 3324.678<br>",
            "Date: 19-Apr<br>Country: Bosnia and Herzegovina<br>Value: 945.039<br>",
            "Date: 19-Apr<br>Country: Ukraine<br>Value: 3817.0<br>",
            "Date: 19-Apr<br>Country: Moldova<br>Value: 16.85<br>"
           ],
           "locations": [
            "BEL",
            "BGR",
            "DNK",
            "DEU",
            "EST",
            "IRL",
            "GRC",
            "ESP",
            "FRA",
            "HRV",
            "ITA",
            "CYP",
            "LVA",
            "LTU",
            "LUX",
            "HUN",
            "MLT",
            "NLD",
            "AUT",
            "POL",
            "PRT",
            "ROU",
            "SVN",
            "SVK",
            "FIN",
            "SWE",
            "GBR",
            "NOR",
            "MNE",
            "SRB",
            "BIH",
            "UKR",
            "MDA"
           ],
           "name": "",
           "type": "choropleth",
           "z": [
            289.8,
            1893.0620000000001,
            152.496,
            14476.671999999999,
            1978.0970000000002,
            null,
            2302.042,
            552,
            842.175,
            54,
            880,
            0,
            6.09,
            19.082,
            5.461,
            586.134,
            null,
            854,
            383.414,
            9301.062,
            220.78400000000002,
            1984,
            205.762,
            488,
            659,
            188,
            582.852,
            67.172,
            29.42,
            3324.678,
            945.039,
            3817,
            16.85
           ]
          }
         ],
         "name": "19-Apr"
        },
        {
         "data": [
          {
           "coloraxis": "coloraxis",
           "geo": "geo",
           "hovertemplate": "<b>%{hovertext}</b><br><br>Date=19-May<br>CODE=%{location}<br>Value=%{z}<extra></extra>",
           "hovertext": [
            "Date: 19-May<br>Country: Belgium<br>Value: 307.1<br>",
            "Date: 19-May<br>Country: Bulgaria<br>Value: 2383.2670000000003<br>",
            "Date: 19-May<br>Country: Denmark<br>Value: 82.9<br>",
            "Date: 19-May<br>Country: Germany<br>Value: 13781.01<br>",
            "Date: 19-May<br>Country: Estonia<br>Value: 1016.3960000000001<br>",
            "Date: 19-May<br>Country: Ireland<br>Value: nan<br>",
            "Date: 19-May<br>Country: Greece<br>Value: 1808.859<br>",
            "Date: 19-May<br>Country: Spain<br>Value: 442.0<br>",
            "Date: 19-May<br>Country: France<br>Value: 779.455<br>",
            "Date: 19-May<br>Country: Croatia<br>Value: 59.0<br>",
            "Date: 19-May<br>Country: Italy<br>Value: 742.0<br>",
            "Date: 19-May<br>Country: Cyprus<br>Value: 2.339<br>",
            "Date: 19-May<br>Country: Latvia<br>Value: 7.127999999999999<br>",
            "Date: 19-May<br>Country: Lithuania<br>Value: 27.276<br>",
            "Date: 19-May<br>Country: Luxembourg<br>Value: 5.742000000000001<br>",
            "Date: 19-May<br>Country: Hungary<br>Value: 467.543<br>",
            "Date: 19-May<br>Country: Malta<br>Value: nan<br>",
            "Date: 19-May<br>Country: Netherlands<br>Value: 783.0<br>",
            "Date: 19-May<br>Country: Austria<br>Value: 322.113<br>",
            "Date: 19-May<br>Country: Poland<br>Value: 9719.84<br>",
            "Date: 19-May<br>Country: Portugal<br>Value: 144.982<br>",
            "Date: 19-May<br>Country: Romania<br>Value: 1779.0<br>",
            "Date: 19-May<br>Country: Slovenia<br>Value: 237.926<br>",
            "Date: 19-May<br>Country: Slovakia<br>Value: 469.0<br>",
            "Date: 19-May<br>Country: Finland<br>Value: 546.0<br>",
            "Date: 19-May<br>Country: Sweden<br>Value: 193.0<br>",
            "Date: 19-May<br>Country: United Kingdom<br>Value: 442.155<br>",
            "Date: 19-May<br>Country: Norway<br>Value: 67.172<br>",
            "Date: 19-May<br>Country: Montenegro<br>Value: 44.43<br>",
            "Date: 19-May<br>Country: Serbia<br>Value: 2542.615<br>",
            "Date: 19-May<br>Country: Bosnia and Herzegovina<br>Value: 1083.484<br>",
            "Date: 19-May<br>Country: Ukraine<br>Value: 3675.9<br>",
            "Date: 19-May<br>Country: Moldova<br>Value: 1.73<br>"
           ],
           "locations": [
            "BEL",
            "BGR",
            "DNK",
            "DEU",
            "EST",
            "IRL",
            "GRC",
            "ESP",
            "FRA",
            "HRV",
            "ITA",
            "CYP",
            "LVA",
            "LTU",
            "LUX",
            "HUN",
            "MLT",
            "NLD",
            "AUT",
            "POL",
            "PRT",
            "ROU",
            "SVN",
            "SVK",
            "FIN",
            "SWE",
            "GBR",
            "NOR",
            "MNE",
            "SRB",
            "BIH",
            "UKR",
            "MDA"
           ],
           "name": "",
           "type": "choropleth",
           "z": [
            307.1,
            2383.2670000000003,
            82.9,
            13781.01,
            1016.3960000000001,
            null,
            1808.859,
            442,
            779.455,
            59,
            742,
            2.339,
            7.127999999999999,
            27.276,
            5.742000000000001,
            467.543,
            null,
            783,
            322.113,
            9719.84,
            144.982,
            1779,
            237.926,
            469,
            546,
            193,
            442.155,
            67.172,
            44.43,
            2542.615,
            1083.484,
            3675.9,
            1.73
           ]
          }
         ],
         "name": "19-May"
        },
        {
         "data": [
          {
           "coloraxis": "coloraxis",
           "geo": "geo",
           "hovertemplate": "<b>%{hovertext}</b><br><br>Date=19-Jun<br>CODE=%{location}<br>Value=%{z}<extra></extra>",
           "hovertext": [
            "Date: 19-Jun<br>Country: Belgium<br>Value: 284.8<br>",
            "Date: 19-Jun<br>Country: Bulgaria<br>Value: 1490.606<br>",
            "Date: 19-Jun<br>Country: Denmark<br>Value: 29.656<br>",
            "Date: 19-Jun<br>Country: Germany<br>Value: 11630.969<br>",
            "Date: 19-Jun<br>Country: Estonia<br>Value: 776.92<br>",
            "Date: 19-Jun<br>Country: Ireland<br>Value: 19.305999999999997<br>",
            "Date: 19-Jun<br>Country: Greece<br>Value: 2131.196<br>",
            "Date: 19-Jun<br>Country: Spain<br>Value: 409.0<br>",
            "Date: 19-Jun<br>Country: France<br>Value: 762.123<br>",
            "Date: 19-Jun<br>Country: Croatia<br>Value: 57.0<br>",
            "Date: 19-Jun<br>Country: Italy<br>Value: 764.0<br>",
            "Date: 19-Jun<br>Country: Cyprus<br>Value: 3.455<br>",
            "Date: 19-Jun<br>Country: Latvia<br>Value: 2.3409999999999997<br>",
            "Date: 19-Jun<br>Country: Lithuania<br>Value: 22.05<br>",
            "Date: 19-Jun<br>Country: Luxembourg<br>Value: 13.248<br>",
            "Date: 19-Jun<br>Country: Hungary<br>Value: 569.11<br>",
            "Date: 19-Jun<br>Country: Malta<br>Value: nan<br>",
            "Date: 19-Jun<br>Country: Netherlands<br>Value: 654.181<br>",
            "Date: 19-Jun<br>Country: Austria<br>Value: 263.125<br>",
            "Date: 19-Jun<br>Country: Poland<br>Value: 9526.018<br>",
            "Date: 19-Jun<br>Country: Portugal<br>Value: 225.67<br>",
            "Date: 19-Jun<br>Country: Romania<br>Value: 1676.0<br>",
            "Date: 19-Jun<br>Country: Slovenia<br>Value: 241.907<br>",
            "Date: 19-Jun<br>Country: Slovakia<br>Value: 409.0<br>",
            "Date: 19-Jun<br>Country: Finland<br>Value: 390.0<br>",
            "Date: 19-Jun<br>Country: Sweden<br>Value: 207.0<br>",
            "Date: 19-Jun<br>Country: United Kingdom<br>Value: 449.281<br>",
            "Date: 19-Jun<br>Country: Norway<br>Value: 67.172<br>",
            "Date: 19-Jun<br>Country: Montenegro<br>Value: 96.43<br>",
            "Date: 19-Jun<br>Country: Serbia<br>Value: 2718.3190000000004<br>",
            "Date: 19-Jun<br>Country: Bosnia and Herzegovina<br>Value: 1047.931<br>",
            "Date: 19-Jun<br>Country: Ukraine<br>Value: 4202.1<br>",
            "Date: 19-Jun<br>Country: Moldova<br>Value: 7.851<br>"
           ],
           "locations": [
            "BEL",
            "BGR",
            "DNK",
            "DEU",
            "EST",
            "IRL",
            "GRC",
            "ESP",
            "FRA",
            "HRV",
            "ITA",
            "CYP",
            "LVA",
            "LTU",
            "LUX",
            "HUN",
            "MLT",
            "NLD",
            "AUT",
            "POL",
            "PRT",
            "ROU",
            "SVN",
            "SVK",
            "FIN",
            "SWE",
            "GBR",
            "NOR",
            "MNE",
            "SRB",
            "BIH",
            "UKR",
            "MDA"
           ],
           "name": "",
           "type": "choropleth",
           "z": [
            284.8,
            1490.606,
            29.656,
            11630.969,
            776.92,
            19.305999999999997,
            2131.196,
            409,
            762.123,
            57,
            764,
            3.455,
            2.3409999999999997,
            22.05,
            13.248,
            569.11,
            null,
            654.181,
            263.125,
            9526.018,
            225.67,
            1676,
            241.907,
            409,
            390,
            207,
            449.281,
            67.172,
            96.43,
            2718.3190000000004,
            1047.931,
            4202.1,
            7.851
           ]
          }
         ],
         "name": "19-Jun"
        },
        {
         "data": [
          {
           "coloraxis": "coloraxis",
           "geo": "geo",
           "hovertemplate": "<b>%{hovertext}</b><br><br>Date=19-Jul<br>CODE=%{location}<br>Value=%{z}<extra></extra>",
           "hovertext": [
            "Date: 19-Jul<br>Country: Belgium<br>Value: 305.5<br>",
            "Date: 19-Jul<br>Country: Bulgaria<br>Value: 2000.476<br>",
            "Date: 19-Jul<br>Country: Denmark<br>Value: 18.733<br>",
            "Date: 19-Jul<br>Country: Germany<br>Value: 12648.143999999998<br>",
            "Date: 19-Jul<br>Country: Estonia<br>Value: 771.5310000000001<br>",
            "Date: 19-Jul<br>Country: Ireland<br>Value: 21.531<br>",
            "Date: 19-Jul<br>Country: Greece<br>Value: 2121.157<br>",
            "Date: 19-Jul<br>Country: Spain<br>Value: 693.0<br>",
            "Date: 19-Jul<br>Country: France<br>Value: 881.319<br>",
            "Date: 19-Jul<br>Country: Croatia<br>Value: 58.0<br>",
            "Date: 19-Jul<br>Country: Italy<br>Value: 861.0<br>",
            "Date: 19-Jul<br>Country: Cyprus<br>Value: 4.898<br>",
            "Date: 19-Jul<br>Country: Latvia<br>Value: 5.5360000000000005<br>",
            "Date: 19-Jul<br>Country: Lithuania<br>Value: 11.069<br>",
            "Date: 19-Jul<br>Country: Luxembourg<br>Value: 7.141<br>",
            "Date: 19-Jul<br>Country: Hungary<br>Value: 792.424<br>",
            "Date: 19-Jul<br>Country: Malta<br>Value: nan<br>",
            "Date: 19-Jul<br>Country: Netherlands<br>Value: 722.395<br>",
            "Date: 19-Jul<br>Country: Austria<br>Value: 305.978<br>",
            "Date: 19-Jul<br>Country: Poland<br>Value: 10089.646999999999<br>",
            "Date: 19-Jul<br>Country: Portugal<br>Value: 314.795<br>",
            "Date: 19-Jul<br>Country: Romania<br>Value: 1949.0<br>",
            "Date: 19-Jul<br>Country: Slovenia<br>Value: 346.205<br>",
            "Date: 19-Jul<br>Country: Slovakia<br>Value: 443.0<br>",
            "Date: 19-Jul<br>Country: Finland<br>Value: 318.0<br>",
            "Date: 19-Jul<br>Country: Sweden<br>Value: 176.0<br>",
            "Date: 19-Jul<br>Country: United Kingdom<br>Value: 511.517<br>",
            "Date: 19-Jul<br>Country: Norway<br>Value: 67.172<br>",
            "Date: 19-Jul<br>Country: Montenegro<br>Value: 147.57<br>",
            "Date: 19-Jul<br>Country: Serbia<br>Value: 3002.442<br>",
            "Date: 19-Jul<br>Country: Bosnia and Herzegovina<br>Value: 1338.9589999999998<br>",
            "Date: 19-Jul<br>Country: Ukraine<br>Value: 3586.8<br>",
            "Date: 19-Jul<br>Country: Moldova<br>Value: 12.953<br>"
           ],
           "locations": [
            "BEL",
            "BGR",
            "DNK",
            "DEU",
            "EST",
            "IRL",
            "GRC",
            "ESP",
            "FRA",
            "HRV",
            "ITA",
            "CYP",
            "LVA",
            "LTU",
            "LUX",
            "HUN",
            "MLT",
            "NLD",
            "AUT",
            "POL",
            "PRT",
            "ROU",
            "SVN",
            "SVK",
            "FIN",
            "SWE",
            "GBR",
            "NOR",
            "MNE",
            "SRB",
            "BIH",
            "UKR",
            "MDA"
           ],
           "name": "",
           "type": "choropleth",
           "z": [
            305.5,
            2000.476,
            18.733,
            12648.143999999998,
            771.5310000000001,
            21.531,
            2121.157,
            693,
            881.319,
            58,
            861,
            4.898,
            5.5360000000000005,
            11.069,
            7.141,
            792.424,
            null,
            722.395,
            305.978,
            10089.646999999999,
            314.795,
            1949,
            346.205,
            443,
            318,
            176,
            511.517,
            67.172,
            147.57,
            3002.442,
            1338.9589999999998,
            3586.8,
            12.953
           ]
          }
         ],
         "name": "19-Jul"
        },
        {
         "data": [
          {
           "coloraxis": "coloraxis",
           "geo": "geo",
           "hovertemplate": "<b>%{hovertext}</b><br><br>Date=19-Aug<br>CODE=%{location}<br>Value=%{z}<extra></extra>",
           "hovertext": [
            "Date: 19-Aug<br>Country: Belgium<br>Value: 303.0<br>",
            "Date: 19-Aug<br>Country: Bulgaria<br>Value: 2078.488<br>",
            "Date: 19-Aug<br>Country: Denmark<br>Value: 27.787<br>",
            "Date: 19-Aug<br>Country: Germany<br>Value: 12863.388<br>",
            "Date: 19-Aug<br>Country: Estonia<br>Value: 760.421<br>",
            "Date: 19-Aug<br>Country: Ireland<br>Value: nan<br>",
            "Date: 19-Aug<br>Country: Greece<br>Value: 2113.78<br>",
            "Date: 19-Aug<br>Country: Spain<br>Value: 484.0<br>",
            "Date: 19-Aug<br>Country: France<br>Value: 889.495<br>",
            "Date: 19-Aug<br>Country: Croatia<br>Value: 60.0<br>",
            "Date: 19-Aug<br>Country: Italy<br>Value: 580.0<br>",
            "Date: 19-Aug<br>Country: Cyprus<br>Value: 4.4430000000000005<br>",
            "Date: 19-Aug<br>Country: Latvia<br>Value: 6.789<br>",
            "Date: 19-Aug<br>Country: Lithuania<br>Value: 22.863000000000003<br>",
            "Date: 19-Aug<br>Country: Luxembourg<br>Value: 7.715<br>",
            "Date: 19-Aug<br>Country: Hungary<br>Value: 664.128<br>",
            "Date: 19-Aug<br>Country: Malta<br>Value: nan<br>",
            "Date: 19-Aug<br>Country: Netherlands<br>Value: 517.5<br>",
            "Date: 19-Aug<br>Country: Austria<br>Value: 337.36400000000003<br>",
            "Date: 19-Aug<br>Country: Poland<br>Value: 9904.243<br>",
            "Date: 19-Aug<br>Country: Portugal<br>Value: 45.912<br>",
            "Date: 19-Aug<br>Country: Romania<br>Value: 1843.0<br>",
            "Date: 19-Aug<br>Country: Slovenia<br>Value: 246.532<br>",
            "Date: 19-Aug<br>Country: Slovakia<br>Value: 334.0<br>",
            "Date: 19-Aug<br>Country: Finland<br>Value: 381.0<br>",
            "Date: 19-Aug<br>Country: Sweden<br>Value: 174.0<br>",
            "Date: 19-Aug<br>Country: United Kingdom<br>Value: 511.44599999999997<br>",
            "Date: 19-Aug<br>Country: Norway<br>Value: 67.172<br>",
            "Date: 19-Aug<br>Country: Montenegro<br>Value: 161.95<br>",
            "Date: 19-Aug<br>Country: Serbia<br>Value: 3527.5840000000003<br>",
            "Date: 19-Aug<br>Country: Bosnia and Herzegovina<br>Value: 1226.64<br>",
            "Date: 19-Aug<br>Country: Ukraine<br>Value: 3670.2<br>",
            "Date: 19-Aug<br>Country: Moldova<br>Value: 6.7<br>"
           ],
           "locations": [
            "BEL",
            "BGR",
            "DNK",
            "DEU",
            "EST",
            "IRL",
            "GRC",
            "ESP",
            "FRA",
            "HRV",
            "ITA",
            "CYP",
            "LVA",
            "LTU",
            "LUX",
            "HUN",
            "MLT",
            "NLD",
            "AUT",
            "POL",
            "PRT",
            "ROU",
            "SVN",
            "SVK",
            "FIN",
            "SWE",
            "GBR",
            "NOR",
            "MNE",
            "SRB",
            "BIH",
            "UKR",
            "MDA"
           ],
           "name": "",
           "type": "choropleth",
           "z": [
            303,
            2078.488,
            27.787,
            12863.388,
            760.421,
            null,
            2113.78,
            484,
            889.495,
            60,
            580,
            4.4430000000000005,
            6.789,
            22.863000000000003,
            7.715,
            664.128,
            null,
            517.5,
            337.36400000000003,
            9904.243,
            45.912,
            1843,
            246.532,
            334,
            381,
            174,
            511.44599999999997,
            67.172,
            161.95,
            3527.5840000000003,
            1226.64,
            3670.2,
            6.7
           ]
          }
         ],
         "name": "19-Aug"
        },
        {
         "data": [
          {
           "coloraxis": "coloraxis",
           "geo": "geo",
           "hovertemplate": "<b>%{hovertext}</b><br><br>Date=19-Sep<br>CODE=%{location}<br>Value=%{z}<extra></extra>",
           "hovertext": [
            "Date: 19-Sep<br>Country: Belgium<br>Value: 298.1<br>",
            "Date: 19-Sep<br>Country: Bulgaria<br>Value: 2499.393<br>",
            "Date: 19-Sep<br>Country: Denmark<br>Value: 39.675<br>",
            "Date: 19-Sep<br>Country: Germany<br>Value: 12535.235<br>",
            "Date: 19-Sep<br>Country: Estonia<br>Value: 1231.0910000000001<br>",
            "Date: 19-Sep<br>Country: Ireland<br>Value: nan<br>",
            "Date: 19-Sep<br>Country: Greece<br>Value: 1428.239<br>",
            "Date: 19-Sep<br>Country: Spain<br>Value: 452.0<br>",
            "Date: 19-Sep<br>Country: France<br>Value: 754.194<br>",
            "Date: 19-Sep<br>Country: Croatia<br>Value: 59.0<br>",
            "Date: 19-Sep<br>Country: Italy<br>Value: 920.0<br>",
            "Date: 19-Sep<br>Country: Cyprus<br>Value: 2.033<br>",
            "Date: 19-Sep<br>Country: Latvia<br>Value: 6.46<br>",
            "Date: 19-Sep<br>Country: Lithuania<br>Value: 35.421<br>",
            "Date: 19-Sep<br>Country: Luxembourg<br>Value: 5.336<br>",
            "Date: 19-Sep<br>Country: Hungary<br>Value: 756.58<br>",
            "Date: 19-Sep<br>Country: Malta<br>Value: nan<br>",
            "Date: 19-Sep<br>Country: Netherlands<br>Value: 1085.2<br>",
            "Date: 19-Sep<br>Country: Austria<br>Value: 269.536<br>",
            "Date: 19-Sep<br>Country: Poland<br>Value: 10142.493<br>",
            "Date: 19-Sep<br>Country: Portugal<br>Value: 21.848000000000003<br>",
            "Date: 19-Sep<br>Country: Romania<br>Value: 1768.0<br>",
            "Date: 19-Sep<br>Country: Slovenia<br>Value: 236.247<br>",
            "Date: 19-Sep<br>Country: Slovakia<br>Value: 348.0<br>",
            "Date: 19-Sep<br>Country: Finland<br>Value: 624.0<br>",
            "Date: 19-Sep<br>Country: Sweden<br>Value: 168.0<br>",
            "Date: 19-Sep<br>Country: United Kingdom<br>Value: 562.799<br>",
            "Date: 19-Sep<br>Country: Norway<br>Value: 67.172<br>",
            "Date: 19-Sep<br>Country: Montenegro<br>Value: 172.25<br>",
            "Date: 19-Sep<br>Country: Serbia<br>Value: 3355.208<br>",
            "Date: 19-Sep<br>Country: Bosnia and Herzegovina<br>Value: 1273.5410000000002<br>",
            "Date: 19-Sep<br>Country: Ukraine<br>Value: 3513.4<br>",
            "Date: 19-Sep<br>Country: Moldova<br>Value: 20.4<br>"
           ],
           "locations": [
            "BEL",
            "BGR",
            "DNK",
            "DEU",
            "EST",
            "IRL",
            "GRC",
            "ESP",
            "FRA",
            "HRV",
            "ITA",
            "CYP",
            "LVA",
            "LTU",
            "LUX",
            "HUN",
            "MLT",
            "NLD",
            "AUT",
            "POL",
            "PRT",
            "ROU",
            "SVN",
            "SVK",
            "FIN",
            "SWE",
            "GBR",
            "NOR",
            "MNE",
            "SRB",
            "BIH",
            "UKR",
            "MDA"
           ],
           "name": "",
           "type": "choropleth",
           "z": [
            298.1,
            2499.393,
            39.675,
            12535.235,
            1231.0910000000001,
            null,
            1428.239,
            452,
            754.194,
            59,
            920,
            2.033,
            6.46,
            35.421,
            5.336,
            756.58,
            null,
            1085.2,
            269.536,
            10142.493,
            21.848000000000003,
            1768,
            236.247,
            348,
            624,
            168,
            562.799,
            67.172,
            172.25,
            3355.208,
            1273.5410000000002,
            3513.4,
            20.4
           ]
          }
         ],
         "name": "19-Sep"
        },
        {
         "data": [
          {
           "coloraxis": "coloraxis",
           "geo": "geo",
           "hovertemplate": "<b>%{hovertext}</b><br><br>Date=19-Oct<br>CODE=%{location}<br>Value=%{z}<extra></extra>",
           "hovertext": [
            "Date: 19-Oct<br>Country: Belgium<br>Value: 304.9<br>",
            "Date: 19-Oct<br>Country: Bulgaria<br>Value: 2849.2670000000003<br>",
            "Date: 19-Oct<br>Country: Denmark<br>Value: 76.64<br>",
            "Date: 19-Oct<br>Country: Germany<br>Value: 13341.255<br>",
            "Date: 19-Oct<br>Country: Estonia<br>Value: 1057.133<br>",
            "Date: 19-Oct<br>Country: Ireland<br>Value: nan<br>",
            "Date: 19-Oct<br>Country: Greece<br>Value: 1598.549<br>",
            "Date: 19-Oct<br>Country: Spain<br>Value: 587.0<br>",
            "Date: 19-Oct<br>Country: France<br>Value: 827.203<br>",
            "Date: 19-Oct<br>Country: Croatia<br>Value: 74.0<br>",
            "Date: 19-Oct<br>Country: Italy<br>Value: 944.0<br>",
            "Date: 19-Oct<br>Country: Cyprus<br>Value: 0.602<br>",
            "Date: 19-Oct<br>Country: Latvia<br>Value: 8.022<br>",
            "Date: 19-Oct<br>Country: Lithuania<br>Value: 29.959<br>",
            "Date: 19-Oct<br>Country: Luxembourg<br>Value: 3.299<br>",
            "Date: 19-Oct<br>Country: Hungary<br>Value: 757.653<br>",
            "Date: 19-Oct<br>Country: Malta<br>Value: nan<br>",
            "Date: 19-Oct<br>Country: Netherlands<br>Value: 858.659<br>",
            "Date: 19-Oct<br>Country: Austria<br>Value: 314.649<br>",
            "Date: 19-Oct<br>Country: Poland<br>Value: 10663.021<br>",
            "Date: 19-Oct<br>Country: Portugal<br>Value: 124.31<br>",
            "Date: 19-Oct<br>Country: Romania<br>Value: 1933.0<br>",
            "Date: 19-Oct<br>Country: Slovenia<br>Value: 406.972<br>",
            "Date: 19-Oct<br>Country: Slovakia<br>Value: 420.0<br>",
            "Date: 19-Oct<br>Country: Finland<br>Value: 813.0<br>",
            "Date: 19-Oct<br>Country: Sweden<br>Value: 253.0<br>",
            "Date: 19-Oct<br>Country: United Kingdom<br>Value: 628.289<br>",
            "Date: 19-Oct<br>Country: Norway<br>Value: 67.171<br>",
            "Date: 19-Oct<br>Country: Montenegro<br>Value: 167.17<br>",
            "Date: 19-Oct<br>Country: Serbia<br>Value: 3578.0679999999998<br>",
            "Date: 19-Oct<br>Country: Bosnia and Herzegovina<br>Value: 1125.586<br>",
            "Date: 19-Oct<br>Country: Ukraine<br>Value: 4015.9<br>",
            "Date: 19-Oct<br>Country: Moldova<br>Value: 23.7<br>"
           ],
           "locations": [
            "BEL",
            "BGR",
            "DNK",
            "DEU",
            "EST",
            "IRL",
            "GRC",
            "ESP",
            "FRA",
            "HRV",
            "ITA",
            "CYP",
            "LVA",
            "LTU",
            "LUX",
            "HUN",
            "MLT",
            "NLD",
            "AUT",
            "POL",
            "PRT",
            "ROU",
            "SVN",
            "SVK",
            "FIN",
            "SWE",
            "GBR",
            "NOR",
            "MNE",
            "SRB",
            "BIH",
            "UKR",
            "MDA"
           ],
           "name": "",
           "type": "choropleth",
           "z": [
            304.9,
            2849.2670000000003,
            76.64,
            13341.255,
            1057.133,
            null,
            1598.549,
            587,
            827.203,
            74,
            944,
            0.602,
            8.022,
            29.959,
            3.299,
            757.653,
            null,
            858.659,
            314.649,
            10663.021,
            124.31,
            1933,
            406.972,
            420,
            813,
            253,
            628.289,
            67.171,
            167.17,
            3578.0679999999998,
            1125.586,
            4015.9,
            23.7
           ]
          }
         ],
         "name": "19-Oct"
        },
        {
         "data": [
          {
           "coloraxis": "coloraxis",
           "geo": "geo",
           "hovertemplate": "<b>%{hovertext}</b><br><br>Date=19-Nov<br>CODE=%{location}<br>Value=%{z}<extra></extra>",
           "hovertext": [
            "Date: 19-Nov<br>Country: Belgium<br>Value: 294.1<br>",
            "Date: 19-Nov<br>Country: Bulgaria<br>Value: 2436.261<br>",
            "Date: 19-Nov<br>Country: Denmark<br>Value: 148.261<br>",
            "Date: 19-Nov<br>Country: Germany<br>Value: 15115.941<br>",
            "Date: 19-Nov<br>Country: Estonia<br>Value: 1293.062<br>",
            "Date: 19-Nov<br>Country: Ireland<br>Value: nan<br>",
            "Date: 19-Nov<br>Country: Greece<br>Value: 2044.595<br>",
            "Date: 19-Nov<br>Country: Spain<br>Value: 449.0<br>",
            "Date: 19-Nov<br>Country: France<br>Value: 925.052<br>",
            "Date: 19-Nov<br>Country: Croatia<br>Value: 59.0<br>",
            "Date: 19-Nov<br>Country: Italy<br>Value: 910.0<br>",
            "Date: 19-Nov<br>Country: Cyprus<br>Value: 3.181<br>",
            "Date: 19-Nov<br>Country: Latvia<br>Value: 8.452<br>",
            "Date: 19-Nov<br>Country: Lithuania<br>Value: 23.375<br>",
            "Date: 19-Nov<br>Country: Luxembourg<br>Value: 5.4079999999999995<br>",
            "Date: 19-Nov<br>Country: Hungary<br>Value: 673.7339999999999<br>",
            "Date: 19-Nov<br>Country: Malta<br>Value: nan<br>",
            "Date: 19-Nov<br>Country: Netherlands<br>Value: 1030.2169999999999<br>",
            "Date: 19-Nov<br>Country: Austria<br>Value: 299.249<br>",
            "Date: 19-Nov<br>Country: Poland<br>Value: 9930.918<br>",
            "Date: 19-Nov<br>Country: Portugal<br>Value: 59.943000000000005<br>",
            "Date: 19-Nov<br>Country: Romania<br>Value: 1754.0<br>",
            "Date: 19-Nov<br>Country: Slovenia<br>Value: 279.314<br>",
            "Date: 19-Nov<br>Country: Slovakia<br>Value: 380.0<br>",
            "Date: 19-Nov<br>Country: Finland<br>Value: 881.0<br>",
            "Date: 19-Nov<br>Country: Sweden<br>Value: 258.0<br>",
            "Date: 19-Nov<br>Country: United Kingdom<br>Value: 894.173<br>",
            "Date: 19-Nov<br>Country: Norway<br>Value: 67.172<br>",
            "Date: 19-Nov<br>Country: Montenegro<br>Value: 122.39<br>",
            "Date: 19-Nov<br>Country: Serbia<br>Value: 3393.1<br>",
            "Date: 19-Nov<br>Country: Bosnia and Herzegovina<br>Value: 1389.6979999999999<br>",
            "Date: 19-Nov<br>Country: Ukraine<br>Value: 3109.8<br>",
            "Date: 19-Nov<br>Country: Moldova<br>Value: 11.0<br>"
           ],
           "locations": [
            "BEL",
            "BGR",
            "DNK",
            "DEU",
            "EST",
            "IRL",
            "GRC",
            "ESP",
            "FRA",
            "HRV",
            "ITA",
            "CYP",
            "LVA",
            "LTU",
            "LUX",
            "HUN",
            "MLT",
            "NLD",
            "AUT",
            "POL",
            "PRT",
            "ROU",
            "SVN",
            "SVK",
            "FIN",
            "SWE",
            "GBR",
            "NOR",
            "MNE",
            "SRB",
            "BIH",
            "UKR",
            "MDA"
           ],
           "name": "",
           "type": "choropleth",
           "z": [
            294.1,
            2436.261,
            148.261,
            15115.941,
            1293.062,
            null,
            2044.595,
            449,
            925.052,
            59,
            910,
            3.181,
            8.452,
            23.375,
            5.4079999999999995,
            673.7339999999999,
            null,
            1030.2169999999999,
            299.249,
            9930.918,
            59.943000000000005,
            1754,
            279.314,
            380,
            881,
            258,
            894.173,
            67.172,
            122.39,
            3393.1,
            1389.6979999999999,
            3109.8,
            11
           ]
          }
         ],
         "name": "19-Nov"
        },
        {
         "data": [
          {
           "coloraxis": "coloraxis",
           "geo": "geo",
           "hovertemplate": "<b>%{hovertext}</b><br><br>Date=19-Dec<br>CODE=%{location}<br>Value=%{z}<extra></extra>",
           "hovertext": [
            "Date: 19-Dec<br>Country: Belgium<br>Value: 283.9<br>",
            "Date: 19-Dec<br>Country: Bulgaria<br>Value: 2657.902<br>",
            "Date: 19-Dec<br>Country: Denmark<br>Value: 186.28<br>",
            "Date: 19-Dec<br>Country: Germany<br>Value: 12623.124<br>",
            "Date: 19-Dec<br>Country: Estonia<br>Value: 1135.0610000000001<br>",
            "Date: 19-Dec<br>Country: Ireland<br>Value: nan<br>",
            "Date: 19-Dec<br>Country: Greece<br>Value: 2623.429<br>",
            "Date: 19-Dec<br>Country: Spain<br>Value: 310.0<br>",
            "Date: 19-Dec<br>Country: France<br>Value: 887.446<br>",
            "Date: 19-Dec<br>Country: Croatia<br>Value: 42.0<br>",
            "Date: 19-Dec<br>Country: Italy<br>Value: 762.0<br>",
            "Date: 19-Dec<br>Country: Cyprus<br>Value: 1.716<br>",
            "Date: 19-Dec<br>Country: Latvia<br>Value: 6.185<br>",
            "Date: 19-Dec<br>Country: Lithuania<br>Value: 20.737<br>",
            "Date: 19-Dec<br>Country: Luxembourg<br>Value: 4.146<br>",
            "Date: 19-Dec<br>Country: Hungary<br>Value: 647.548<br>",
            "Date: 19-Dec<br>Country: Malta<br>Value: nan<br>",
            "Date: 19-Dec<br>Country: Netherlands<br>Value: 958.513<br>",
            "Date: 19-Dec<br>Country: Austria<br>Value: 254.699<br>",
            "Date: 19-Dec<br>Country: Poland<br>Value: 9795.658000000001<br>",
            "Date: 19-Dec<br>Country: Portugal<br>Value: 47.763999999999996<br>",
            "Date: 19-Dec<br>Country: Romania<br>Value: 1799.0<br>",
            "Date: 19-Dec<br>Country: Slovenia<br>Value: 332.042<br>",
            "Date: 19-Dec<br>Country: Slovakia<br>Value: 429.0<br>",
            "Date: 19-Dec<br>Country: Finland<br>Value: 881.0<br>",
            "Date: 19-Dec<br>Country: Sweden<br>Value: 261.0<br>",
            "Date: 19-Dec<br>Country: United Kingdom<br>Value: 852.888<br>",
            "Date: 19-Dec<br>Country: Norway<br>Value: 67.172<br>",
            "Date: 19-Dec<br>Country: Montenegro<br>Value: 132.86700000000002<br>",
            "Date: 19-Dec<br>Country: Serbia<br>Value: 3553.535<br>",
            "Date: 19-Dec<br>Country: Bosnia and Herzegovina<br>Value: 1274.781<br>",
            "Date: 19-Dec<br>Country: Ukraine<br>Value: 3457.4<br>",
            "Date: 19-Dec<br>Country: Moldova<br>Value: 16.0<br>"
           ],
           "locations": [
            "BEL",
            "BGR",
            "DNK",
            "DEU",
            "EST",
            "IRL",
            "GRC",
            "ESP",
            "FRA",
            "HRV",
            "ITA",
            "CYP",
            "LVA",
            "LTU",
            "LUX",
            "HUN",
            "MLT",
            "NLD",
            "AUT",
            "POL",
            "PRT",
            "ROU",
            "SVN",
            "SVK",
            "FIN",
            "SWE",
            "GBR",
            "NOR",
            "MNE",
            "SRB",
            "BIH",
            "UKR",
            "MDA"
           ],
           "name": "",
           "type": "choropleth",
           "z": [
            283.9,
            2657.902,
            186.28,
            12623.124,
            1135.0610000000001,
            null,
            2623.429,
            310,
            887.446,
            42,
            762,
            1.716,
            6.185,
            20.737,
            4.146,
            647.548,
            null,
            958.513,
            254.699,
            9795.658000000001,
            47.763999999999996,
            1799,
            332.042,
            429,
            881,
            261,
            852.888,
            67.172,
            132.86700000000002,
            3553.535,
            1274.781,
            3457.4,
            16
           ]
          }
         ],
         "name": "19-Dec"
        },
        {
         "data": [
          {
           "coloraxis": "coloraxis",
           "geo": "geo",
           "hovertemplate": "<b>%{hovertext}</b><br><br>Date=20-Jan<br>CODE=%{location}<br>Value=%{z}<extra></extra>",
           "hovertext": [
            "Date: 20-Jan<br>Country: Belgium<br>Value: 316.0<br>",
            "Date: 20-Jan<br>Country: Bulgaria<br>Value: 2422.37<br>",
            "Date: 20-Jan<br>Country: Denmark<br>Value: 185.685<br>",
            "Date: 20-Jan<br>Country: Germany<br>Value: 13935.938999999998<br>",
            "Date: 20-Jan<br>Country: Estonia<br>Value: 1072.025<br>",
            "Date: 20-Jan<br>Country: Ireland<br>Value: nan<br>",
            "Date: 20-Jan<br>Country: Greece<br>Value: 2727.138<br>",
            "Date: 20-Jan<br>Country: Spain<br>Value: 552.0<br>",
            "Date: 20-Jan<br>Country: France<br>Value: 888.7760000000001<br>",
            "Date: 20-Jan<br>Country: Croatia<br>Value: 27.0<br>",
            "Date: 20-Jan<br>Country: Italy<br>Value: nan<br>",
            "Date: 20-Jan<br>Country: Cyprus<br>Value: 0.285<br>",
            "Date: 20-Jan<br>Country: Latvia<br>Value: 3.4330000000000003<br>",
            "Date: 20-Jan<br>Country: Lithuania<br>Value: 24.443<br>",
            "Date: 20-Jan<br>Country: Luxembourg<br>Value: 4.956<br>",
            "Date: 20-Jan<br>Country: Hungary<br>Value: 663.7260000000001<br>",
            "Date: 20-Jan<br>Country: Malta<br>Value: nan<br>",
            "Date: 20-Jan<br>Country: Netherlands<br>Value: 616.3919999999999<br>",
            "Date: 20-Jan<br>Country: Austria<br>Value: 303.121<br>",
            "Date: 20-Jan<br>Country: Poland<br>Value: 9253.246<br>",
            "Date: 20-Jan<br>Country: Portugal<br>Value: 52.016999999999996<br>",
            "Date: 20-Jan<br>Country: Romania<br>Value: 1751.0<br>",
            "Date: 20-Jan<br>Country: Slovenia<br>Value: 259.95799999999997<br>",
            "Date: 20-Jan<br>Country: Slovakia<br>Value: 427.0<br>",
            "Date: 20-Jan<br>Country: Finland<br>Value: 972.0<br>",
            "Date: 20-Jan<br>Country: Sweden<br>Value: 287.0<br>",
            "Date: 20-Jan<br>Country: United Kingdom<br>Value: 1096.782<br>",
            "Date: 20-Jan<br>Country: Norway<br>Value: nan<br>",
            "Date: 20-Jan<br>Country: Montenegro<br>Value: nan<br>",
            "Date: 20-Jan<br>Country: Serbia<br>Value: 3519.7729999999997<br>",
            "Date: 20-Jan<br>Country: Bosnia and Herzegovina<br>Value: nan<br>",
            "Date: 20-Jan<br>Country: Ukraine<br>Value: nan<br>",
            "Date: 20-Jan<br>Country: Moldova<br>Value: 6.8<br>"
           ],
           "locations": [
            "BEL",
            "BGR",
            "DNK",
            "DEU",
            "EST",
            "IRL",
            "GRC",
            "ESP",
            "FRA",
            "HRV",
            "ITA",
            "CYP",
            "LVA",
            "LTU",
            "LUX",
            "HUN",
            "MLT",
            "NLD",
            "AUT",
            "POL",
            "PRT",
            "ROU",
            "SVN",
            "SVK",
            "FIN",
            "SWE",
            "GBR",
            "NOR",
            "MNE",
            "SRB",
            "BIH",
            "UKR",
            "MDA"
           ],
           "name": "",
           "type": "choropleth",
           "z": [
            316,
            2422.37,
            185.685,
            13935.938999999998,
            1072.025,
            null,
            2727.138,
            552,
            888.7760000000001,
            27,
            null,
            0.285,
            3.4330000000000003,
            24.443,
            4.956,
            663.7260000000001,
            null,
            616.3919999999999,
            303.121,
            9253.246,
            52.016999999999996,
            1751,
            259.95799999999997,
            427,
            972,
            287,
            1096.782,
            null,
            null,
            3519.7729999999997,
            null,
            null,
            6.8
           ]
          }
         ],
         "name": "20-Jan"
        }
       ],
       "layout": {
        "coloraxis": {
         "cmax": 16522.459,
         "cmin": 0,
         "colorbar": {
          "title": {
           "text": "Value"
          }
         },
         "colorscale": [
          [
           0,
           "#0d0887"
          ],
          [
           0.1111111111111111,
           "#46039f"
          ],
          [
           0.2222222222222222,
           "#7201a8"
          ],
          [
           0.3333333333333333,
           "#9c179e"
          ],
          [
           0.4444444444444444,
           "#bd3786"
          ],
          [
           0.5555555555555556,
           "#d8576b"
          ],
          [
           0.6666666666666666,
           "#ed7953"
          ],
          [
           0.7777777777777778,
           "#fb9f3a"
          ],
          [
           0.8888888888888888,
           "#fdca26"
          ],
          [
           1,
           "#f0f921"
          ]
         ]
        },
        "geo": {
         "center": {},
         "coastlinecolor": "DarkBlue",
         "countrycolor": "DarkBlue",
         "domain": {
          "x": [
           0,
           1
          ],
          "y": [
           0,
           1
          ]
         },
         "lakecolor": "Blue",
         "landcolor": "LightGrey",
         "oceancolor": "LightBlue",
         "rivercolor": "Blue",
         "showcoastlines": true,
         "showcountries": true,
         "showlakes": true,
         "showland": true,
         "showocean": true,
         "showrivers": true
        },
        "height": 674,
        "legend": {
         "tracegroupgap": 0
        },
        "margin": {
         "t": 60
        },
        "sliders": [
         {
          "active": 0,
          "currentvalue": {
           "prefix": "Date="
          },
          "len": 0.9,
          "pad": {
           "b": 10,
           "t": 60
          },
          "steps": [
           {
            "args": [
             [
              "19-Jan"
             ],
             {
              "frame": {
               "duration": 0,
               "redraw": true
              },
              "fromcurrent": true,
              "mode": "immediate",
              "transition": {
               "duration": 0,
               "easing": "linear"
              }
             }
            ],
            "label": "19-Jan",
            "method": "animate"
           },
           {
            "args": [
             [
              "19-Feb"
             ],
             {
              "frame": {
               "duration": 0,
               "redraw": true
              },
              "fromcurrent": true,
              "mode": "immediate",
              "transition": {
               "duration": 0,
               "easing": "linear"
              }
             }
            ],
            "label": "19-Feb",
            "method": "animate"
           },
           {
            "args": [
             [
              "19-Mar"
             ],
             {
              "frame": {
               "duration": 0,
               "redraw": true
              },
              "fromcurrent": true,
              "mode": "immediate",
              "transition": {
               "duration": 0,
               "easing": "linear"
              }
             }
            ],
            "label": "19-Mar",
            "method": "animate"
           },
           {
            "args": [
             [
              "19-Apr"
             ],
             {
              "frame": {
               "duration": 0,
               "redraw": true
              },
              "fromcurrent": true,
              "mode": "immediate",
              "transition": {
               "duration": 0,
               "easing": "linear"
              }
             }
            ],
            "label": "19-Apr",
            "method": "animate"
           },
           {
            "args": [
             [
              "19-May"
             ],
             {
              "frame": {
               "duration": 0,
               "redraw": true
              },
              "fromcurrent": true,
              "mode": "immediate",
              "transition": {
               "duration": 0,
               "easing": "linear"
              }
             }
            ],
            "label": "19-May",
            "method": "animate"
           },
           {
            "args": [
             [
              "19-Jun"
             ],
             {
              "frame": {
               "duration": 0,
               "redraw": true
              },
              "fromcurrent": true,
              "mode": "immediate",
              "transition": {
               "duration": 0,
               "easing": "linear"
              }
             }
            ],
            "label": "19-Jun",
            "method": "animate"
           },
           {
            "args": [
             [
              "19-Jul"
             ],
             {
              "frame": {
               "duration": 0,
               "redraw": true
              },
              "fromcurrent": true,
              "mode": "immediate",
              "transition": {
               "duration": 0,
               "easing": "linear"
              }
             }
            ],
            "label": "19-Jul",
            "method": "animate"
           },
           {
            "args": [
             [
              "19-Aug"
             ],
             {
              "frame": {
               "duration": 0,
               "redraw": true
              },
              "fromcurrent": true,
              "mode": "immediate",
              "transition": {
               "duration": 0,
               "easing": "linear"
              }
             }
            ],
            "label": "19-Aug",
            "method": "animate"
           },
           {
            "args": [
             [
              "19-Sep"
             ],
             {
              "frame": {
               "duration": 0,
               "redraw": true
              },
              "fromcurrent": true,
              "mode": "immediate",
              "transition": {
               "duration": 0,
               "easing": "linear"
              }
             }
            ],
            "label": "19-Sep",
            "method": "animate"
           },
           {
            "args": [
             [
              "19-Oct"
             ],
             {
              "frame": {
               "duration": 0,
               "redraw": true
              },
              "fromcurrent": true,
              "mode": "immediate",
              "transition": {
               "duration": 0,
               "easing": "linear"
              }
             }
            ],
            "label": "19-Oct",
            "method": "animate"
           },
           {
            "args": [
             [
              "19-Nov"
             ],
             {
              "frame": {
               "duration": 0,
               "redraw": true
              },
              "fromcurrent": true,
              "mode": "immediate",
              "transition": {
               "duration": 0,
               "easing": "linear"
              }
             }
            ],
            "label": "19-Nov",
            "method": "animate"
           },
           {
            "args": [
             [
              "19-Dec"
             ],
             {
              "frame": {
               "duration": 0,
               "redraw": true
              },
              "fromcurrent": true,
              "mode": "immediate",
              "transition": {
               "duration": 0,
               "easing": "linear"
              }
             }
            ],
            "label": "19-Dec",
            "method": "animate"
           },
           {
            "args": [
             [
              "20-Jan"
             ],
             {
              "frame": {
               "duration": 0,
               "redraw": true
              },
              "fromcurrent": true,
              "mode": "immediate",
              "transition": {
               "duration": 0,
               "easing": "linear"
              }
             }
            ],
            "label": "20-Jan",
            "method": "animate"
           }
          ],
          "x": 0.1,
          "xanchor": "left",
          "y": 0,
          "yanchor": "top"
         }
        ],
        "template": {
         "data": {
          "bar": [
           {
            "error_x": {
             "color": "#2a3f5f"
            },
            "error_y": {
             "color": "#2a3f5f"
            },
            "marker": {
             "line": {
              "color": "#E5ECF6",
              "width": 0.5
             }
            },
            "type": "bar"
           }
          ],
          "barpolar": [
           {
            "marker": {
             "line": {
              "color": "#E5ECF6",
              "width": 0.5
             }
            },
            "type": "barpolar"
           }
          ],
          "carpet": [
           {
            "aaxis": {
             "endlinecolor": "#2a3f5f",
             "gridcolor": "white",
             "linecolor": "white",
             "minorgridcolor": "white",
             "startlinecolor": "#2a3f5f"
            },
            "baxis": {
             "endlinecolor": "#2a3f5f",
             "gridcolor": "white",
             "linecolor": "white",
             "minorgridcolor": "white",
             "startlinecolor": "#2a3f5f"
            },
            "type": "carpet"
           }
          ],
          "choropleth": [
           {
            "colorbar": {
             "outlinewidth": 0,
             "ticks": ""
            },
            "type": "choropleth"
           }
          ],
          "contour": [
           {
            "colorbar": {
             "outlinewidth": 0,
             "ticks": ""
            },
            "colorscale": [
             [
              0,
              "#0d0887"
             ],
             [
              0.1111111111111111,
              "#46039f"
             ],
             [
              0.2222222222222222,
              "#7201a8"
             ],
             [
              0.3333333333333333,
              "#9c179e"
             ],
             [
              0.4444444444444444,
              "#bd3786"
             ],
             [
              0.5555555555555556,
              "#d8576b"
             ],
             [
              0.6666666666666666,
              "#ed7953"
             ],
             [
              0.7777777777777778,
              "#fb9f3a"
             ],
             [
              0.8888888888888888,
              "#fdca26"
             ],
             [
              1,
              "#f0f921"
             ]
            ],
            "type": "contour"
           }
          ],
          "contourcarpet": [
           {
            "colorbar": {
             "outlinewidth": 0,
             "ticks": ""
            },
            "type": "contourcarpet"
           }
          ],
          "heatmap": [
           {
            "colorbar": {
             "outlinewidth": 0,
             "ticks": ""
            },
            "colorscale": [
             [
              0,
              "#0d0887"
             ],
             [
              0.1111111111111111,
              "#46039f"
             ],
             [
              0.2222222222222222,
              "#7201a8"
             ],
             [
              0.3333333333333333,
              "#9c179e"
             ],
             [
              0.4444444444444444,
              "#bd3786"
             ],
             [
              0.5555555555555556,
              "#d8576b"
             ],
             [
              0.6666666666666666,
              "#ed7953"
             ],
             [
              0.7777777777777778,
              "#fb9f3a"
             ],
             [
              0.8888888888888888,
              "#fdca26"
             ],
             [
              1,
              "#f0f921"
             ]
            ],
            "type": "heatmap"
           }
          ],
          "heatmapgl": [
           {
            "colorbar": {
             "outlinewidth": 0,
             "ticks": ""
            },
            "colorscale": [
             [
              0,
              "#0d0887"
             ],
             [
              0.1111111111111111,
              "#46039f"
             ],
             [
              0.2222222222222222,
              "#7201a8"
             ],
             [
              0.3333333333333333,
              "#9c179e"
             ],
             [
              0.4444444444444444,
              "#bd3786"
             ],
             [
              0.5555555555555556,
              "#d8576b"
             ],
             [
              0.6666666666666666,
              "#ed7953"
             ],
             [
              0.7777777777777778,
              "#fb9f3a"
             ],
             [
              0.8888888888888888,
              "#fdca26"
             ],
             [
              1,
              "#f0f921"
             ]
            ],
            "type": "heatmapgl"
           }
          ],
          "histogram": [
           {
            "marker": {
             "colorbar": {
              "outlinewidth": 0,
              "ticks": ""
             }
            },
            "type": "histogram"
           }
          ],
          "histogram2d": [
           {
            "colorbar": {
             "outlinewidth": 0,
             "ticks": ""
            },
            "colorscale": [
             [
              0,
              "#0d0887"
             ],
             [
              0.1111111111111111,
              "#46039f"
             ],
             [
              0.2222222222222222,
              "#7201a8"
             ],
             [
              0.3333333333333333,
              "#9c179e"
             ],
             [
              0.4444444444444444,
              "#bd3786"
             ],
             [
              0.5555555555555556,
              "#d8576b"
             ],
             [
              0.6666666666666666,
              "#ed7953"
             ],
             [
              0.7777777777777778,
              "#fb9f3a"
             ],
             [
              0.8888888888888888,
              "#fdca26"
             ],
             [
              1,
              "#f0f921"
             ]
            ],
            "type": "histogram2d"
           }
          ],
          "histogram2dcontour": [
           {
            "colorbar": {
             "outlinewidth": 0,
             "ticks": ""
            },
            "colorscale": [
             [
              0,
              "#0d0887"
             ],
             [
              0.1111111111111111,
              "#46039f"
             ],
             [
              0.2222222222222222,
              "#7201a8"
             ],
             [
              0.3333333333333333,
              "#9c179e"
             ],
             [
              0.4444444444444444,
              "#bd3786"
             ],
             [
              0.5555555555555556,
              "#d8576b"
             ],
             [
              0.6666666666666666,
              "#ed7953"
             ],
             [
              0.7777777777777778,
              "#fb9f3a"
             ],
             [
              0.8888888888888888,
              "#fdca26"
             ],
             [
              1,
              "#f0f921"
             ]
            ],
            "type": "histogram2dcontour"
           }
          ],
          "mesh3d": [
           {
            "colorbar": {
             "outlinewidth": 0,
             "ticks": ""
            },
            "type": "mesh3d"
           }
          ],
          "parcoords": [
           {
            "line": {
             "colorbar": {
              "outlinewidth": 0,
              "ticks": ""
             }
            },
            "type": "parcoords"
           }
          ],
          "pie": [
           {
            "automargin": true,
            "type": "pie"
           }
          ],
          "scatter": [
           {
            "marker": {
             "colorbar": {
              "outlinewidth": 0,
              "ticks": ""
             }
            },
            "type": "scatter"
           }
          ],
          "scatter3d": [
           {
            "line": {
             "colorbar": {
              "outlinewidth": 0,
              "ticks": ""
             }
            },
            "marker": {
             "colorbar": {
              "outlinewidth": 0,
              "ticks": ""
             }
            },
            "type": "scatter3d"
           }
          ],
          "scattercarpet": [
           {
            "marker": {
             "colorbar": {
              "outlinewidth": 0,
              "ticks": ""
             }
            },
            "type": "scattercarpet"
           }
          ],
          "scattergeo": [
           {
            "marker": {
             "colorbar": {
              "outlinewidth": 0,
              "ticks": ""
             }
            },
            "type": "scattergeo"
           }
          ],
          "scattergl": [
           {
            "marker": {
             "colorbar": {
              "outlinewidth": 0,
              "ticks": ""
             }
            },
            "type": "scattergl"
           }
          ],
          "scattermapbox": [
           {
            "marker": {
             "colorbar": {
              "outlinewidth": 0,
              "ticks": ""
             }
            },
            "type": "scattermapbox"
           }
          ],
          "scatterpolar": [
           {
            "marker": {
             "colorbar": {
              "outlinewidth": 0,
              "ticks": ""
             }
            },
            "type": "scatterpolar"
           }
          ],
          "scatterpolargl": [
           {
            "marker": {
             "colorbar": {
              "outlinewidth": 0,
              "ticks": ""
             }
            },
            "type": "scatterpolargl"
           }
          ],
          "scatterternary": [
           {
            "marker": {
             "colorbar": {
              "outlinewidth": 0,
              "ticks": ""
             }
            },
            "type": "scatterternary"
           }
          ],
          "surface": [
           {
            "colorbar": {
             "outlinewidth": 0,
             "ticks": ""
            },
            "colorscale": [
             [
              0,
              "#0d0887"
             ],
             [
              0.1111111111111111,
              "#46039f"
             ],
             [
              0.2222222222222222,
              "#7201a8"
             ],
             [
              0.3333333333333333,
              "#9c179e"
             ],
             [
              0.4444444444444444,
              "#bd3786"
             ],
             [
              0.5555555555555556,
              "#d8576b"
             ],
             [
              0.6666666666666666,
              "#ed7953"
             ],
             [
              0.7777777777777778,
              "#fb9f3a"
             ],
             [
              0.8888888888888888,
              "#fdca26"
             ],
             [
              1,
              "#f0f921"
             ]
            ],
            "type": "surface"
           }
          ],
          "table": [
           {
            "cells": {
             "fill": {
              "color": "#EBF0F8"
             },
             "line": {
              "color": "white"
             }
            },
            "header": {
             "fill": {
              "color": "#C8D4E3"
             },
             "line": {
              "color": "white"
             }
            },
            "type": "table"
           }
          ]
         },
         "layout": {
          "annotationdefaults": {
           "arrowcolor": "#2a3f5f",
           "arrowhead": 0,
           "arrowwidth": 1
          },
          "coloraxis": {
           "colorbar": {
            "outlinewidth": 0,
            "ticks": ""
           }
          },
          "colorscale": {
           "diverging": [
            [
             0,
             "#8e0152"
            ],
            [
             0.1,
             "#c51b7d"
            ],
            [
             0.2,
             "#de77ae"
            ],
            [
             0.3,
             "#f1b6da"
            ],
            [
             0.4,
             "#fde0ef"
            ],
            [
             0.5,
             "#f7f7f7"
            ],
            [
             0.6,
             "#e6f5d0"
            ],
            [
             0.7,
             "#b8e186"
            ],
            [
             0.8,
             "#7fbc41"
            ],
            [
             0.9,
             "#4d9221"
            ],
            [
             1,
             "#276419"
            ]
           ],
           "sequential": [
            [
             0,
             "#0d0887"
            ],
            [
             0.1111111111111111,
             "#46039f"
            ],
            [
             0.2222222222222222,
             "#7201a8"
            ],
            [
             0.3333333333333333,
             "#9c179e"
            ],
            [
             0.4444444444444444,
             "#bd3786"
            ],
            [
             0.5555555555555556,
             "#d8576b"
            ],
            [
             0.6666666666666666,
             "#ed7953"
            ],
            [
             0.7777777777777778,
             "#fb9f3a"
            ],
            [
             0.8888888888888888,
             "#fdca26"
            ],
            [
             1,
             "#f0f921"
            ]
           ],
           "sequentialminus": [
            [
             0,
             "#0d0887"
            ],
            [
             0.1111111111111111,
             "#46039f"
            ],
            [
             0.2222222222222222,
             "#7201a8"
            ],
            [
             0.3333333333333333,
             "#9c179e"
            ],
            [
             0.4444444444444444,
             "#bd3786"
            ],
            [
             0.5555555555555556,
             "#d8576b"
            ],
            [
             0.6666666666666666,
             "#ed7953"
            ],
            [
             0.7777777777777778,
             "#fb9f3a"
            ],
            [
             0.8888888888888888,
             "#fdca26"
            ],
            [
             1,
             "#f0f921"
            ]
           ]
          },
          "colorway": [
           "#636efa",
           "#EF553B",
           "#00cc96",
           "#ab63fa",
           "#FFA15A",
           "#19d3f3",
           "#FF6692",
           "#B6E880",
           "#FF97FF",
           "#FECB52"
          ],
          "font": {
           "color": "#2a3f5f"
          },
          "geo": {
           "bgcolor": "white",
           "lakecolor": "white",
           "landcolor": "#E5ECF6",
           "showlakes": true,
           "showland": true,
           "subunitcolor": "white"
          },
          "hoverlabel": {
           "align": "left"
          },
          "hovermode": "closest",
          "mapbox": {
           "style": "light"
          },
          "paper_bgcolor": "white",
          "plot_bgcolor": "#E5ECF6",
          "polar": {
           "angularaxis": {
            "gridcolor": "white",
            "linecolor": "white",
            "ticks": ""
           },
           "bgcolor": "#E5ECF6",
           "radialaxis": {
            "gridcolor": "white",
            "linecolor": "white",
            "ticks": ""
           }
          },
          "scene": {
           "xaxis": {
            "backgroundcolor": "#E5ECF6",
            "gridcolor": "white",
            "gridwidth": 2,
            "linecolor": "white",
            "showbackground": true,
            "ticks": "",
            "zerolinecolor": "white"
           },
           "yaxis": {
            "backgroundcolor": "#E5ECF6",
            "gridcolor": "white",
            "gridwidth": 2,
            "linecolor": "white",
            "showbackground": true,
            "ticks": "",
            "zerolinecolor": "white"
           },
           "zaxis": {
            "backgroundcolor": "#E5ECF6",
            "gridcolor": "white",
            "gridwidth": 2,
            "linecolor": "white",
            "showbackground": true,
            "ticks": "",
            "zerolinecolor": "white"
           }
          },
          "shapedefaults": {
           "line": {
            "color": "#2a3f5f"
           }
          },
          "ternary": {
           "aaxis": {
            "gridcolor": "white",
            "linecolor": "white",
            "ticks": ""
           },
           "baxis": {
            "gridcolor": "white",
            "linecolor": "white",
            "ticks": ""
           },
           "bgcolor": "#E5ECF6",
           "caxis": {
            "gridcolor": "white",
            "linecolor": "white",
            "ticks": ""
           }
          },
          "title": {
           "x": 0.05
          },
          "xaxis": {
           "automargin": true,
           "gridcolor": "white",
           "linecolor": "white",
           "ticks": "",
           "title": {
            "standoff": 15
           },
           "zerolinecolor": "white",
           "zerolinewidth": 2
          },
          "yaxis": {
           "automargin": true,
           "gridcolor": "white",
           "linecolor": "white",
           "ticks": "",
           "title": {
            "standoff": 15
           },
           "zerolinecolor": "white",
           "zerolinewidth": 2
          }
         }
        },
        "title": {
         "text": "Europe Gross inland delivery coal (all) - thousand tones<br>(hover for details)"
        },
        "updatemenus": [
         {
          "buttons": [
           {
            "args": [
             null,
             {
              "frame": {
               "duration": 500,
               "redraw": true
              },
              "fromcurrent": true,
              "mode": "immediate",
              "transition": {
               "duration": 500,
               "easing": "linear"
              }
             }
            ],
            "label": "&#9654;",
            "method": "animate"
           },
           {
            "args": [
             [
              null
             ],
             {
              "frame": {
               "duration": 0,
               "redraw": true
              },
              "fromcurrent": true,
              "mode": "immediate",
              "transition": {
               "duration": 0,
               "easing": "linear"
              }
             }
            ],
            "label": "&#9724;",
            "method": "animate"
           }
          ],
          "direction": "left",
          "pad": {
           "r": 10,
           "t": 70
          },
          "showactive": false,
          "type": "buttons",
          "x": 0.1,
          "xanchor": "right",
          "y": 0,
          "yanchor": "top"
         }
        ],
        "width": 900
       }
      },
      "text/html": [
       "<div>\n",
       "        \n",
       "        \n",
       "            <div id=\"5facf217-cc9b-4376-a48b-6565bd3989f9\" class=\"plotly-graph-div\" style=\"height:674px; width:900px;\"></div>\n",
       "            <script type=\"text/javascript\">\n",
       "                require([\"plotly\"], function(Plotly) {\n",
       "                    window.PLOTLYENV=window.PLOTLYENV || {};\n",
       "                    \n",
       "                if (document.getElementById(\"5facf217-cc9b-4376-a48b-6565bd3989f9\")) {\n",
       "                    Plotly.newPlot(\n",
       "                        '5facf217-cc9b-4376-a48b-6565bd3989f9',\n",
       "                        [{\"coloraxis\": \"coloraxis\", \"geo\": \"geo\", \"hovertemplate\": \"<b>%{hovertext}</b><br><br>Date=19-Jan<br>CODE=%{location}<br>Value=%{z}<extra></extra>\", \"hovertext\": [\"Date: 19-Jan<br>Country: Belgium<br>Value: 307.1<br>\", \"Date: 19-Jan<br>Country: Bulgaria<br>Value: 3659.659<br>\", \"Date: 19-Jan<br>Country: Denmark<br>Value: 336.444<br>\", \"Date: 19-Jan<br>Country: Germany<br>Value: 16522.459<br>\", \"Date: 19-Jan<br>Country: Estonia<br>Value: 1931.714<br>\", \"Date: 19-Jan<br>Country: Ireland<br>Value: nan<br>\", \"Date: 19-Jan<br>Country: Greece<br>Value: 3574.887<br>\", \"Date: 19-Jan<br>Country: Spain<br>Value: 1848.0<br>\", \"Date: 19-Jan<br>Country: France<br>Value: 983.6139999999999<br>\", \"Date: 19-Jan<br>Country: Croatia<br>Value: 61.0<br>\", \"Date: 19-Jan<br>Country: Italy<br>Value: 1248.0<br>\", \"Date: 19-Jan<br>Country: Cyprus<br>Value: 1.061<br>\", \"Date: 19-Jan<br>Country: Latvia<br>Value: 6.892<br>\", \"Date: 19-Jan<br>Country: Lithuania<br>Value: 31.320999999999998<br>\", \"Date: 19-Jan<br>Country: Luxembourg<br>Value: 5.001<br>\", \"Date: 19-Jan<br>Country: Hungary<br>Value: 795.168<br>\", \"Date: 19-Jan<br>Country: Malta<br>Value: nan<br>\", \"Date: 19-Jan<br>Country: Netherlands<br>Value: 1395.0<br>\", \"Date: 19-Jan<br>Country: Austria<br>Value: 370.777<br>\", \"Date: 19-Jan<br>Country: Poland<br>Value: 12470.87<br>\", \"Date: 19-Jan<br>Country: Portugal<br>Value: 405.705<br>\", \"Date: 19-Jan<br>Country: Romania<br>Value: 2049.0<br>\", \"Date: 19-Jan<br>Country: Slovenia<br>Value: 362.836<br>\", \"Date: 19-Jan<br>Country: Slovakia<br>Value: 539.0<br>\", \"Date: 19-Jan<br>Country: Finland<br>Value: 1232.0<br>\", \"Date: 19-Jan<br>Country: Sweden<br>Value: 285.0<br>\", \"Date: 19-Jan<br>Country: United Kingdom<br>Value: 1493.739<br>\", \"Date: 19-Jan<br>Country: Norway<br>Value: 67.172<br>\", \"Date: 19-Jan<br>Country: Montenegro<br>Value: 146.02<br>\", \"Date: 19-Jan<br>Country: Serbia<br>Value: 3384.5570000000002<br>\", \"Date: 19-Jan<br>Country: Bosnia and Herzegovina<br>Value: 1253.327<br>\", \"Date: 19-Jan<br>Country: Ukraine<br>Value: 4618.4<br>\", \"Date: 19-Jan<br>Country: Moldova<br>Value: 15.1<br>\"], \"locations\": [\"BEL\", \"BGR\", \"DNK\", \"DEU\", \"EST\", \"IRL\", \"GRC\", \"ESP\", \"FRA\", \"HRV\", \"ITA\", \"CYP\", \"LVA\", \"LTU\", \"LUX\", \"HUN\", \"MLT\", \"NLD\", \"AUT\", \"POL\", \"PRT\", \"ROU\", \"SVN\", \"SVK\", \"FIN\", \"SWE\", \"GBR\", \"NOR\", \"MNE\", \"SRB\", \"BIH\", \"UKR\", \"MDA\"], \"name\": \"\", \"type\": \"choropleth\", \"z\": [307.1, 3659.659, 336.444, 16522.459, 1931.714, null, 3574.887, 1848.0, 983.6139999999999, 61.0, 1248.0, 1.061, 6.892, 31.320999999999998, 5.001, 795.168, null, 1395.0, 370.777, 12470.87, 405.705, 2049.0, 362.836, 539.0, 1232.0, 285.0, 1493.739, 67.172, 146.02, 3384.5570000000002, 1253.327, 4618.4, 15.1]}],\n",
       "                        {\"coloraxis\": {\"cmax\": 16522.459, \"cmin\": 0.0, \"colorbar\": {\"title\": {\"text\": \"Value\"}}, \"colorscale\": [[0.0, \"#0d0887\"], [0.1111111111111111, \"#46039f\"], [0.2222222222222222, \"#7201a8\"], [0.3333333333333333, \"#9c179e\"], [0.4444444444444444, \"#bd3786\"], [0.5555555555555556, \"#d8576b\"], [0.6666666666666666, \"#ed7953\"], [0.7777777777777778, \"#fb9f3a\"], [0.8888888888888888, \"#fdca26\"], [1.0, \"#f0f921\"]]}, \"geo\": {\"center\": {}, \"coastlinecolor\": \"DarkBlue\", \"countrycolor\": \"DarkBlue\", \"domain\": {\"x\": [0.0, 1.0], \"y\": [0.0, 1.0]}, \"lakecolor\": \"Blue\", \"landcolor\": \"LightGrey\", \"oceancolor\": \"LightBlue\", \"rivercolor\": \"Blue\", \"showcoastlines\": true, \"showcountries\": true, \"showlakes\": true, \"showland\": true, \"showocean\": true, \"showrivers\": true}, \"height\": 674, \"legend\": {\"tracegroupgap\": 0}, \"margin\": {\"t\": 60}, \"sliders\": [{\"active\": 0, \"currentvalue\": {\"prefix\": \"Date=\"}, \"len\": 0.9, \"pad\": {\"b\": 10, \"t\": 60}, \"steps\": [{\"args\": [[\"19-Jan\"], {\"frame\": {\"duration\": 0, \"redraw\": true}, \"fromcurrent\": true, \"mode\": \"immediate\", \"transition\": {\"duration\": 0, \"easing\": \"linear\"}}], \"label\": \"19-Jan\", \"method\": \"animate\"}, {\"args\": [[\"19-Feb\"], {\"frame\": {\"duration\": 0, \"redraw\": true}, \"fromcurrent\": true, \"mode\": \"immediate\", \"transition\": {\"duration\": 0, \"easing\": \"linear\"}}], \"label\": \"19-Feb\", \"method\": \"animate\"}, {\"args\": [[\"19-Mar\"], {\"frame\": {\"duration\": 0, \"redraw\": true}, \"fromcurrent\": true, \"mode\": \"immediate\", \"transition\": {\"duration\": 0, \"easing\": \"linear\"}}], \"label\": \"19-Mar\", \"method\": \"animate\"}, {\"args\": [[\"19-Apr\"], {\"frame\": {\"duration\": 0, \"redraw\": true}, \"fromcurrent\": true, \"mode\": \"immediate\", \"transition\": {\"duration\": 0, \"easing\": \"linear\"}}], \"label\": \"19-Apr\", \"method\": \"animate\"}, {\"args\": [[\"19-May\"], {\"frame\": {\"duration\": 0, \"redraw\": true}, \"fromcurrent\": true, \"mode\": \"immediate\", \"transition\": {\"duration\": 0, \"easing\": \"linear\"}}], \"label\": \"19-May\", \"method\": \"animate\"}, {\"args\": [[\"19-Jun\"], {\"frame\": {\"duration\": 0, \"redraw\": true}, \"fromcurrent\": true, \"mode\": \"immediate\", \"transition\": {\"duration\": 0, \"easing\": \"linear\"}}], \"label\": \"19-Jun\", \"method\": \"animate\"}, {\"args\": [[\"19-Jul\"], {\"frame\": {\"duration\": 0, \"redraw\": true}, \"fromcurrent\": true, \"mode\": \"immediate\", \"transition\": {\"duration\": 0, \"easing\": \"linear\"}}], \"label\": \"19-Jul\", \"method\": \"animate\"}, {\"args\": [[\"19-Aug\"], {\"frame\": {\"duration\": 0, \"redraw\": true}, \"fromcurrent\": true, \"mode\": \"immediate\", \"transition\": {\"duration\": 0, \"easing\": \"linear\"}}], \"label\": \"19-Aug\", \"method\": \"animate\"}, {\"args\": [[\"19-Sep\"], {\"frame\": {\"duration\": 0, \"redraw\": true}, \"fromcurrent\": true, \"mode\": \"immediate\", \"transition\": {\"duration\": 0, \"easing\": \"linear\"}}], \"label\": \"19-Sep\", \"method\": \"animate\"}, {\"args\": [[\"19-Oct\"], {\"frame\": {\"duration\": 0, \"redraw\": true}, \"fromcurrent\": true, \"mode\": \"immediate\", \"transition\": {\"duration\": 0, \"easing\": \"linear\"}}], \"label\": \"19-Oct\", \"method\": \"animate\"}, {\"args\": [[\"19-Nov\"], {\"frame\": {\"duration\": 0, \"redraw\": true}, \"fromcurrent\": true, \"mode\": \"immediate\", \"transition\": {\"duration\": 0, \"easing\": \"linear\"}}], \"label\": \"19-Nov\", \"method\": \"animate\"}, {\"args\": [[\"19-Dec\"], {\"frame\": {\"duration\": 0, \"redraw\": true}, \"fromcurrent\": true, \"mode\": \"immediate\", \"transition\": {\"duration\": 0, \"easing\": \"linear\"}}], \"label\": \"19-Dec\", \"method\": \"animate\"}, {\"args\": [[\"20-Jan\"], {\"frame\": {\"duration\": 0, \"redraw\": true}, \"fromcurrent\": true, \"mode\": \"immediate\", \"transition\": {\"duration\": 0, \"easing\": \"linear\"}}], \"label\": \"20-Jan\", \"method\": \"animate\"}], \"x\": 0.1, \"xanchor\": \"left\", \"y\": 0, \"yanchor\": \"top\"}], \"template\": {\"data\": {\"bar\": [{\"error_x\": {\"color\": \"#2a3f5f\"}, \"error_y\": {\"color\": \"#2a3f5f\"}, \"marker\": {\"line\": {\"color\": \"#E5ECF6\", \"width\": 0.5}}, \"type\": \"bar\"}], \"barpolar\": [{\"marker\": {\"line\": {\"color\": \"#E5ECF6\", \"width\": 0.5}}, \"type\": \"barpolar\"}], \"carpet\": [{\"aaxis\": {\"endlinecolor\": \"#2a3f5f\", \"gridcolor\": \"white\", \"linecolor\": \"white\", \"minorgridcolor\": \"white\", \"startlinecolor\": \"#2a3f5f\"}, \"baxis\": {\"endlinecolor\": \"#2a3f5f\", \"gridcolor\": \"white\", \"linecolor\": \"white\", \"minorgridcolor\": \"white\", \"startlinecolor\": \"#2a3f5f\"}, \"type\": \"carpet\"}], \"choropleth\": [{\"colorbar\": {\"outlinewidth\": 0, \"ticks\": \"\"}, \"type\": \"choropleth\"}], \"contour\": [{\"colorbar\": {\"outlinewidth\": 0, \"ticks\": \"\"}, \"colorscale\": [[0.0, \"#0d0887\"], [0.1111111111111111, \"#46039f\"], [0.2222222222222222, \"#7201a8\"], [0.3333333333333333, \"#9c179e\"], [0.4444444444444444, \"#bd3786\"], [0.5555555555555556, \"#d8576b\"], [0.6666666666666666, \"#ed7953\"], [0.7777777777777778, \"#fb9f3a\"], [0.8888888888888888, \"#fdca26\"], [1.0, \"#f0f921\"]], \"type\": \"contour\"}], \"contourcarpet\": [{\"colorbar\": {\"outlinewidth\": 0, \"ticks\": \"\"}, \"type\": \"contourcarpet\"}], \"heatmap\": [{\"colorbar\": {\"outlinewidth\": 0, \"ticks\": \"\"}, \"colorscale\": [[0.0, \"#0d0887\"], [0.1111111111111111, \"#46039f\"], [0.2222222222222222, \"#7201a8\"], [0.3333333333333333, \"#9c179e\"], [0.4444444444444444, \"#bd3786\"], [0.5555555555555556, \"#d8576b\"], [0.6666666666666666, \"#ed7953\"], [0.7777777777777778, \"#fb9f3a\"], [0.8888888888888888, \"#fdca26\"], [1.0, \"#f0f921\"]], \"type\": \"heatmap\"}], \"heatmapgl\": [{\"colorbar\": {\"outlinewidth\": 0, \"ticks\": \"\"}, \"colorscale\": [[0.0, \"#0d0887\"], [0.1111111111111111, \"#46039f\"], [0.2222222222222222, \"#7201a8\"], [0.3333333333333333, \"#9c179e\"], [0.4444444444444444, \"#bd3786\"], [0.5555555555555556, \"#d8576b\"], [0.6666666666666666, \"#ed7953\"], [0.7777777777777778, \"#fb9f3a\"], [0.8888888888888888, \"#fdca26\"], [1.0, \"#f0f921\"]], \"type\": \"heatmapgl\"}], \"histogram\": [{\"marker\": {\"colorbar\": {\"outlinewidth\": 0, \"ticks\": \"\"}}, \"type\": \"histogram\"}], \"histogram2d\": [{\"colorbar\": {\"outlinewidth\": 0, \"ticks\": \"\"}, \"colorscale\": [[0.0, \"#0d0887\"], [0.1111111111111111, \"#46039f\"], [0.2222222222222222, \"#7201a8\"], [0.3333333333333333, \"#9c179e\"], [0.4444444444444444, \"#bd3786\"], [0.5555555555555556, \"#d8576b\"], [0.6666666666666666, \"#ed7953\"], [0.7777777777777778, \"#fb9f3a\"], [0.8888888888888888, \"#fdca26\"], [1.0, \"#f0f921\"]], \"type\": \"histogram2d\"}], \"histogram2dcontour\": [{\"colorbar\": {\"outlinewidth\": 0, \"ticks\": \"\"}, \"colorscale\": [[0.0, \"#0d0887\"], [0.1111111111111111, \"#46039f\"], [0.2222222222222222, \"#7201a8\"], [0.3333333333333333, \"#9c179e\"], [0.4444444444444444, \"#bd3786\"], [0.5555555555555556, \"#d8576b\"], [0.6666666666666666, \"#ed7953\"], [0.7777777777777778, \"#fb9f3a\"], [0.8888888888888888, \"#fdca26\"], [1.0, \"#f0f921\"]], \"type\": \"histogram2dcontour\"}], \"mesh3d\": [{\"colorbar\": {\"outlinewidth\": 0, \"ticks\": \"\"}, \"type\": \"mesh3d\"}], \"parcoords\": [{\"line\": {\"colorbar\": {\"outlinewidth\": 0, \"ticks\": \"\"}}, \"type\": \"parcoords\"}], \"pie\": [{\"automargin\": true, \"type\": \"pie\"}], \"scatter\": [{\"marker\": {\"colorbar\": {\"outlinewidth\": 0, \"ticks\": \"\"}}, \"type\": \"scatter\"}], \"scatter3d\": [{\"line\": {\"colorbar\": {\"outlinewidth\": 0, \"ticks\": \"\"}}, \"marker\": {\"colorbar\": {\"outlinewidth\": 0, \"ticks\": \"\"}}, \"type\": \"scatter3d\"}], \"scattercarpet\": [{\"marker\": {\"colorbar\": {\"outlinewidth\": 0, \"ticks\": \"\"}}, \"type\": \"scattercarpet\"}], \"scattergeo\": [{\"marker\": {\"colorbar\": {\"outlinewidth\": 0, \"ticks\": \"\"}}, \"type\": \"scattergeo\"}], \"scattergl\": [{\"marker\": {\"colorbar\": {\"outlinewidth\": 0, \"ticks\": \"\"}}, \"type\": \"scattergl\"}], \"scattermapbox\": [{\"marker\": {\"colorbar\": {\"outlinewidth\": 0, \"ticks\": \"\"}}, \"type\": \"scattermapbox\"}], \"scatterpolar\": [{\"marker\": {\"colorbar\": {\"outlinewidth\": 0, \"ticks\": \"\"}}, \"type\": \"scatterpolar\"}], \"scatterpolargl\": [{\"marker\": {\"colorbar\": {\"outlinewidth\": 0, \"ticks\": \"\"}}, \"type\": \"scatterpolargl\"}], \"scatterternary\": [{\"marker\": {\"colorbar\": {\"outlinewidth\": 0, \"ticks\": \"\"}}, \"type\": \"scatterternary\"}], \"surface\": [{\"colorbar\": {\"outlinewidth\": 0, \"ticks\": \"\"}, \"colorscale\": [[0.0, \"#0d0887\"], [0.1111111111111111, \"#46039f\"], [0.2222222222222222, \"#7201a8\"], [0.3333333333333333, \"#9c179e\"], [0.4444444444444444, \"#bd3786\"], [0.5555555555555556, \"#d8576b\"], [0.6666666666666666, \"#ed7953\"], [0.7777777777777778, \"#fb9f3a\"], [0.8888888888888888, \"#fdca26\"], [1.0, \"#f0f921\"]], \"type\": \"surface\"}], \"table\": [{\"cells\": {\"fill\": {\"color\": \"#EBF0F8\"}, \"line\": {\"color\": \"white\"}}, \"header\": {\"fill\": {\"color\": \"#C8D4E3\"}, \"line\": {\"color\": \"white\"}}, \"type\": \"table\"}]}, \"layout\": {\"annotationdefaults\": {\"arrowcolor\": \"#2a3f5f\", \"arrowhead\": 0, \"arrowwidth\": 1}, \"coloraxis\": {\"colorbar\": {\"outlinewidth\": 0, \"ticks\": \"\"}}, \"colorscale\": {\"diverging\": [[0, \"#8e0152\"], [0.1, \"#c51b7d\"], [0.2, \"#de77ae\"], [0.3, \"#f1b6da\"], [0.4, \"#fde0ef\"], [0.5, \"#f7f7f7\"], [0.6, \"#e6f5d0\"], [0.7, \"#b8e186\"], [0.8, \"#7fbc41\"], [0.9, \"#4d9221\"], [1, \"#276419\"]], \"sequential\": [[0.0, \"#0d0887\"], [0.1111111111111111, \"#46039f\"], [0.2222222222222222, \"#7201a8\"], [0.3333333333333333, \"#9c179e\"], [0.4444444444444444, \"#bd3786\"], [0.5555555555555556, \"#d8576b\"], [0.6666666666666666, \"#ed7953\"], [0.7777777777777778, \"#fb9f3a\"], [0.8888888888888888, \"#fdca26\"], [1.0, \"#f0f921\"]], \"sequentialminus\": [[0.0, \"#0d0887\"], [0.1111111111111111, \"#46039f\"], [0.2222222222222222, \"#7201a8\"], [0.3333333333333333, \"#9c179e\"], [0.4444444444444444, \"#bd3786\"], [0.5555555555555556, \"#d8576b\"], [0.6666666666666666, \"#ed7953\"], [0.7777777777777778, \"#fb9f3a\"], [0.8888888888888888, \"#fdca26\"], [1.0, \"#f0f921\"]]}, \"colorway\": [\"#636efa\", \"#EF553B\", \"#00cc96\", \"#ab63fa\", \"#FFA15A\", \"#19d3f3\", \"#FF6692\", \"#B6E880\", \"#FF97FF\", \"#FECB52\"], \"font\": {\"color\": \"#2a3f5f\"}, \"geo\": {\"bgcolor\": \"white\", \"lakecolor\": \"white\", \"landcolor\": \"#E5ECF6\", \"showlakes\": true, \"showland\": true, \"subunitcolor\": \"white\"}, \"hoverlabel\": {\"align\": \"left\"}, \"hovermode\": \"closest\", \"mapbox\": {\"style\": \"light\"}, \"paper_bgcolor\": \"white\", \"plot_bgcolor\": \"#E5ECF6\", \"polar\": {\"angularaxis\": {\"gridcolor\": \"white\", \"linecolor\": \"white\", \"ticks\": \"\"}, \"bgcolor\": \"#E5ECF6\", \"radialaxis\": {\"gridcolor\": \"white\", \"linecolor\": \"white\", \"ticks\": \"\"}}, \"scene\": {\"xaxis\": {\"backgroundcolor\": \"#E5ECF6\", \"gridcolor\": \"white\", \"gridwidth\": 2, \"linecolor\": \"white\", \"showbackground\": true, \"ticks\": \"\", \"zerolinecolor\": \"white\"}, \"yaxis\": {\"backgroundcolor\": \"#E5ECF6\", \"gridcolor\": \"white\", \"gridwidth\": 2, \"linecolor\": \"white\", \"showbackground\": true, \"ticks\": \"\", \"zerolinecolor\": \"white\"}, \"zaxis\": {\"backgroundcolor\": \"#E5ECF6\", \"gridcolor\": \"white\", \"gridwidth\": 2, \"linecolor\": \"white\", \"showbackground\": true, \"ticks\": \"\", \"zerolinecolor\": \"white\"}}, \"shapedefaults\": {\"line\": {\"color\": \"#2a3f5f\"}}, \"ternary\": {\"aaxis\": {\"gridcolor\": \"white\", \"linecolor\": \"white\", \"ticks\": \"\"}, \"baxis\": {\"gridcolor\": \"white\", \"linecolor\": \"white\", \"ticks\": \"\"}, \"bgcolor\": \"#E5ECF6\", \"caxis\": {\"gridcolor\": \"white\", \"linecolor\": \"white\", \"ticks\": \"\"}}, \"title\": {\"x\": 0.05}, \"xaxis\": {\"automargin\": true, \"gridcolor\": \"white\", \"linecolor\": \"white\", \"ticks\": \"\", \"title\": {\"standoff\": 15}, \"zerolinecolor\": \"white\", \"zerolinewidth\": 2}, \"yaxis\": {\"automargin\": true, \"gridcolor\": \"white\", \"linecolor\": \"white\", \"ticks\": \"\", \"title\": {\"standoff\": 15}, \"zerolinecolor\": \"white\", \"zerolinewidth\": 2}}}, \"title\": {\"text\": \"Europe Gross inland delivery coal (all) - thousand tones<br>(hover for details)\"}, \"updatemenus\": [{\"buttons\": [{\"args\": [null, {\"frame\": {\"duration\": 500, \"redraw\": true}, \"fromcurrent\": true, \"mode\": \"immediate\", \"transition\": {\"duration\": 500, \"easing\": \"linear\"}}], \"label\": \"&#9654;\", \"method\": \"animate\"}, {\"args\": [[null], {\"frame\": {\"duration\": 0, \"redraw\": true}, \"fromcurrent\": true, \"mode\": \"immediate\", \"transition\": {\"duration\": 0, \"easing\": \"linear\"}}], \"label\": \"&#9724;\", \"method\": \"animate\"}], \"direction\": \"left\", \"pad\": {\"r\": 10, \"t\": 70}, \"showactive\": false, \"type\": \"buttons\", \"x\": 0.1, \"xanchor\": \"right\", \"y\": 0, \"yanchor\": \"top\"}], \"width\": 900},\n",
       "                        {\"responsive\": true}\n",
       "                    ).then(function(){\n",
       "                            Plotly.addFrames('5facf217-cc9b-4376-a48b-6565bd3989f9', [{\"data\": [{\"coloraxis\": \"coloraxis\", \"geo\": \"geo\", \"hovertemplate\": \"<b>%{hovertext}</b><br><br>Date=19-Jan<br>CODE=%{location}<br>Value=%{z}<extra></extra>\", \"hovertext\": [\"Date: 19-Jan<br>Country: Belgium<br>Value: 307.1<br>\", \"Date: 19-Jan<br>Country: Bulgaria<br>Value: 3659.659<br>\", \"Date: 19-Jan<br>Country: Denmark<br>Value: 336.444<br>\", \"Date: 19-Jan<br>Country: Germany<br>Value: 16522.459<br>\", \"Date: 19-Jan<br>Country: Estonia<br>Value: 1931.714<br>\", \"Date: 19-Jan<br>Country: Ireland<br>Value: nan<br>\", \"Date: 19-Jan<br>Country: Greece<br>Value: 3574.887<br>\", \"Date: 19-Jan<br>Country: Spain<br>Value: 1848.0<br>\", \"Date: 19-Jan<br>Country: France<br>Value: 983.6139999999999<br>\", \"Date: 19-Jan<br>Country: Croatia<br>Value: 61.0<br>\", \"Date: 19-Jan<br>Country: Italy<br>Value: 1248.0<br>\", \"Date: 19-Jan<br>Country: Cyprus<br>Value: 1.061<br>\", \"Date: 19-Jan<br>Country: Latvia<br>Value: 6.892<br>\", \"Date: 19-Jan<br>Country: Lithuania<br>Value: 31.320999999999998<br>\", \"Date: 19-Jan<br>Country: Luxembourg<br>Value: 5.001<br>\", \"Date: 19-Jan<br>Country: Hungary<br>Value: 795.168<br>\", \"Date: 19-Jan<br>Country: Malta<br>Value: nan<br>\", \"Date: 19-Jan<br>Country: Netherlands<br>Value: 1395.0<br>\", \"Date: 19-Jan<br>Country: Austria<br>Value: 370.777<br>\", \"Date: 19-Jan<br>Country: Poland<br>Value: 12470.87<br>\", \"Date: 19-Jan<br>Country: Portugal<br>Value: 405.705<br>\", \"Date: 19-Jan<br>Country: Romania<br>Value: 2049.0<br>\", \"Date: 19-Jan<br>Country: Slovenia<br>Value: 362.836<br>\", \"Date: 19-Jan<br>Country: Slovakia<br>Value: 539.0<br>\", \"Date: 19-Jan<br>Country: Finland<br>Value: 1232.0<br>\", \"Date: 19-Jan<br>Country: Sweden<br>Value: 285.0<br>\", \"Date: 19-Jan<br>Country: United Kingdom<br>Value: 1493.739<br>\", \"Date: 19-Jan<br>Country: Norway<br>Value: 67.172<br>\", \"Date: 19-Jan<br>Country: Montenegro<br>Value: 146.02<br>\", \"Date: 19-Jan<br>Country: Serbia<br>Value: 3384.5570000000002<br>\", \"Date: 19-Jan<br>Country: Bosnia and Herzegovina<br>Value: 1253.327<br>\", \"Date: 19-Jan<br>Country: Ukraine<br>Value: 4618.4<br>\", \"Date: 19-Jan<br>Country: Moldova<br>Value: 15.1<br>\"], \"locations\": [\"BEL\", \"BGR\", \"DNK\", \"DEU\", \"EST\", \"IRL\", \"GRC\", \"ESP\", \"FRA\", \"HRV\", \"ITA\", \"CYP\", \"LVA\", \"LTU\", \"LUX\", \"HUN\", \"MLT\", \"NLD\", \"AUT\", \"POL\", \"PRT\", \"ROU\", \"SVN\", \"SVK\", \"FIN\", \"SWE\", \"GBR\", \"NOR\", \"MNE\", \"SRB\", \"BIH\", \"UKR\", \"MDA\"], \"name\": \"\", \"z\": [307.1, 3659.659, 336.444, 16522.459, 1931.714, null, 3574.887, 1848.0, 983.6139999999999, 61.0, 1248.0, 1.061, 6.892, 31.320999999999998, 5.001, 795.168, null, 1395.0, 370.777, 12470.87, 405.705, 2049.0, 362.836, 539.0, 1232.0, 285.0, 1493.739, 67.172, 146.02, 3384.5570000000002, 1253.327, 4618.4, 15.1], \"type\": \"choropleth\"}], \"name\": \"19-Jan\"}, {\"data\": [{\"coloraxis\": \"coloraxis\", \"geo\": \"geo\", \"hovertemplate\": \"<b>%{hovertext}</b><br><br>Date=19-Feb<br>CODE=%{location}<br>Value=%{z}<extra></extra>\", \"hovertext\": [\"Date: 19-Feb<br>Country: Belgium<br>Value: 262.0<br>\", \"Date: 19-Feb<br>Country: Bulgaria<br>Value: 2786.045<br>\", \"Date: 19-Feb<br>Country: Denmark<br>Value: 261.22900000000004<br>\", \"Date: 19-Feb<br>Country: Germany<br>Value: 16125.421<br>\", \"Date: 19-Feb<br>Country: Estonia<br>Value: 1526.832<br>\", \"Date: 19-Feb<br>Country: Ireland<br>Value: nan<br>\", \"Date: 19-Feb<br>Country: Greece<br>Value: 2412.84<br>\", \"Date: 19-Feb<br>Country: Spain<br>Value: 1217.0<br>\", \"Date: 19-Feb<br>Country: France<br>Value: 882.2310000000001<br>\", \"Date: 19-Feb<br>Country: Croatia<br>Value: 57.0<br>\", \"Date: 19-Feb<br>Country: Italy<br>Value: 947.0<br>\", \"Date: 19-Feb<br>Country: Cyprus<br>Value: 2.229<br>\", \"Date: 19-Feb<br>Country: Latvia<br>Value: 4.823<br>\", \"Date: 19-Feb<br>Country: Lithuania<br>Value: 28.486<br>\", \"Date: 19-Feb<br>Country: Luxembourg<br>Value: 15.817<br>\", \"Date: 19-Feb<br>Country: Hungary<br>Value: 706.822<br>\", \"Date: 19-Feb<br>Country: Malta<br>Value: nan<br>\", \"Date: 19-Feb<br>Country: Netherlands<br>Value: 1267.0<br>\", \"Date: 19-Feb<br>Country: Austria<br>Value: 341.75300000000004<br>\", \"Date: 19-Feb<br>Country: Poland<br>Value: 10429.252<br>\", \"Date: 19-Feb<br>Country: Portugal<br>Value: 252.47<br>\", \"Date: 19-Feb<br>Country: Romania<br>Value: 1865.0<br>\", \"Date: 19-Feb<br>Country: Slovenia<br>Value: 295.858<br>\", \"Date: 19-Feb<br>Country: Slovakia<br>Value: 479.0<br>\", \"Date: 19-Feb<br>Country: Finland<br>Value: 981.0<br>\", \"Date: 19-Feb<br>Country: Sweden<br>Value: 272.0<br>\", \"Date: 19-Feb<br>Country: United Kingdom<br>Value: 707.068<br>\", \"Date: 19-Feb<br>Country: Norway<br>Value: 67.172<br>\", \"Date: 19-Feb<br>Country: Montenegro<br>Value: 146.04<br>\", \"Date: 19-Feb<br>Country: Serbia<br>Value: 3301.575<br>\", \"Date: 19-Feb<br>Country: Bosnia and Herzegovina<br>Value: 1224.871<br>\", \"Date: 19-Feb<br>Country: Ukraine<br>Value: 3596.2<br>\", \"Date: 19-Feb<br>Country: Moldova<br>Value: 2.78<br>\"], \"locations\": [\"BEL\", \"BGR\", \"DNK\", \"DEU\", \"EST\", \"IRL\", \"GRC\", \"ESP\", \"FRA\", \"HRV\", \"ITA\", \"CYP\", \"LVA\", \"LTU\", \"LUX\", \"HUN\", \"MLT\", \"NLD\", \"AUT\", \"POL\", \"PRT\", \"ROU\", \"SVN\", \"SVK\", \"FIN\", \"SWE\", \"GBR\", \"NOR\", \"MNE\", \"SRB\", \"BIH\", \"UKR\", \"MDA\"], \"name\": \"\", \"z\": [262.0, 2786.045, 261.22900000000004, 16125.421, 1526.832, null, 2412.84, 1217.0, 882.2310000000001, 57.0, 947.0, 2.229, 4.823, 28.486, 15.817, 706.822, null, 1267.0, 341.75300000000004, 10429.252, 252.47, 1865.0, 295.858, 479.0, 981.0, 272.0, 707.068, 67.172, 146.04, 3301.575, 1224.871, 3596.2, 2.78], \"type\": \"choropleth\"}], \"name\": \"19-Feb\"}, {\"data\": [{\"coloraxis\": \"coloraxis\", \"geo\": \"geo\", \"hovertemplate\": \"<b>%{hovertext}</b><br><br>Date=19-Mar<br>CODE=%{location}<br>Value=%{z}<extra></extra>\", \"hovertext\": [\"Date: 19-Mar<br>Country: Belgium<br>Value: 308.5<br>\", \"Date: 19-Mar<br>Country: Bulgaria<br>Value: 2151.791<br>\", \"Date: 19-Mar<br>Country: Denmark<br>Value: 214.463<br>\", \"Date: 19-Mar<br>Country: Germany<br>Value: 14784.518999999998<br>\", \"Date: 19-Mar<br>Country: Estonia<br>Value: 1499.15<br>\", \"Date: 19-Mar<br>Country: Ireland<br>Value: nan<br>\", \"Date: 19-Mar<br>Country: Greece<br>Value: 2465.2870000000003<br>\", \"Date: 19-Mar<br>Country: Spain<br>Value: 610.0<br>\", \"Date: 19-Mar<br>Country: France<br>Value: 856.732<br>\", \"Date: 19-Mar<br>Country: Croatia<br>Value: 57.0<br>\", \"Date: 19-Mar<br>Country: Italy<br>Value: 870.0<br>\", \"Date: 19-Mar<br>Country: Cyprus<br>Value: 1.7280000000000002<br>\", \"Date: 19-Mar<br>Country: Latvia<br>Value: 4.9030000000000005<br>\", \"Date: 19-Mar<br>Country: Lithuania<br>Value: 24.881<br>\", \"Date: 19-Mar<br>Country: Luxembourg<br>Value: 5.787999999999999<br>\", \"Date: 19-Mar<br>Country: Hungary<br>Value: 811.482<br>\", \"Date: 19-Mar<br>Country: Malta<br>Value: nan<br>\", \"Date: 19-Mar<br>Country: Netherlands<br>Value: 964.0<br>\", \"Date: 19-Mar<br>Country: Austria<br>Value: 321.47700000000003<br>\", \"Date: 19-Mar<br>Country: Poland<br>Value: 10090.5<br>\", \"Date: 19-Mar<br>Country: Portugal<br>Value: 241.99599999999998<br>\", \"Date: 19-Mar<br>Country: Romania<br>Value: 2025.0<br>\", \"Date: 19-Mar<br>Country: Slovenia<br>Value: 241.37900000000002<br>\", \"Date: 19-Mar<br>Country: Slovakia<br>Value: 523.0<br>\", \"Date: 19-Mar<br>Country: Finland<br>Value: 920.0<br>\", \"Date: 19-Mar<br>Country: Sweden<br>Value: 286.0<br>\", \"Date: 19-Mar<br>Country: United Kingdom<br>Value: 614.788<br>\", \"Date: 19-Mar<br>Country: Norway<br>Value: 67.172<br>\", \"Date: 19-Mar<br>Country: Montenegro<br>Value: 129.19<br>\", \"Date: 19-Mar<br>Country: Serbia<br>Value: 3646.015<br>\", \"Date: 19-Mar<br>Country: Bosnia and Herzegovina<br>Value: 1316.3970000000002<br>\", \"Date: 19-Mar<br>Country: Ukraine<br>Value: 4007.6<br>\", \"Date: 19-Mar<br>Country: Moldova<br>Value: 3.07<br>\"], \"locations\": [\"BEL\", \"BGR\", \"DNK\", \"DEU\", \"EST\", \"IRL\", \"GRC\", \"ESP\", \"FRA\", \"HRV\", \"ITA\", \"CYP\", \"LVA\", \"LTU\", \"LUX\", \"HUN\", \"MLT\", \"NLD\", \"AUT\", \"POL\", \"PRT\", \"ROU\", \"SVN\", \"SVK\", \"FIN\", \"SWE\", \"GBR\", \"NOR\", \"MNE\", \"SRB\", \"BIH\", \"UKR\", \"MDA\"], \"name\": \"\", \"z\": [308.5, 2151.791, 214.463, 14784.518999999998, 1499.15, null, 2465.2870000000003, 610.0, 856.732, 57.0, 870.0, 1.7280000000000002, 4.9030000000000005, 24.881, 5.787999999999999, 811.482, null, 964.0, 321.47700000000003, 10090.5, 241.99599999999998, 2025.0, 241.37900000000002, 523.0, 920.0, 286.0, 614.788, 67.172, 129.19, 3646.015, 1316.3970000000002, 4007.6, 3.07], \"type\": \"choropleth\"}], \"name\": \"19-Mar\"}, {\"data\": [{\"coloraxis\": \"coloraxis\", \"geo\": \"geo\", \"hovertemplate\": \"<b>%{hovertext}</b><br><br>Date=19-Apr<br>CODE=%{location}<br>Value=%{z}<extra></extra>\", \"hovertext\": [\"Date: 19-Apr<br>Country: Belgium<br>Value: 289.8<br>\", \"Date: 19-Apr<br>Country: Bulgaria<br>Value: 1893.0620000000001<br>\", \"Date: 19-Apr<br>Country: Denmark<br>Value: 152.496<br>\", \"Date: 19-Apr<br>Country: Germany<br>Value: 14476.671999999999<br>\", \"Date: 19-Apr<br>Country: Estonia<br>Value: 1978.0970000000002<br>\", \"Date: 19-Apr<br>Country: Ireland<br>Value: nan<br>\", \"Date: 19-Apr<br>Country: Greece<br>Value: 2302.042<br>\", \"Date: 19-Apr<br>Country: Spain<br>Value: 552.0<br>\", \"Date: 19-Apr<br>Country: France<br>Value: 842.175<br>\", \"Date: 19-Apr<br>Country: Croatia<br>Value: 54.0<br>\", \"Date: 19-Apr<br>Country: Italy<br>Value: 880.0<br>\", \"Date: 19-Apr<br>Country: Cyprus<br>Value: 0.0<br>\", \"Date: 19-Apr<br>Country: Latvia<br>Value: 6.09<br>\", \"Date: 19-Apr<br>Country: Lithuania<br>Value: 19.082<br>\", \"Date: 19-Apr<br>Country: Luxembourg<br>Value: 5.461<br>\", \"Date: 19-Apr<br>Country: Hungary<br>Value: 586.134<br>\", \"Date: 19-Apr<br>Country: Malta<br>Value: nan<br>\", \"Date: 19-Apr<br>Country: Netherlands<br>Value: 854.0<br>\", \"Date: 19-Apr<br>Country: Austria<br>Value: 383.414<br>\", \"Date: 19-Apr<br>Country: Poland<br>Value: 9301.062<br>\", \"Date: 19-Apr<br>Country: Portugal<br>Value: 220.78400000000002<br>\", \"Date: 19-Apr<br>Country: Romania<br>Value: 1984.0<br>\", \"Date: 19-Apr<br>Country: Slovenia<br>Value: 205.762<br>\", \"Date: 19-Apr<br>Country: Slovakia<br>Value: 488.0<br>\", \"Date: 19-Apr<br>Country: Finland<br>Value: 659.0<br>\", \"Date: 19-Apr<br>Country: Sweden<br>Value: 188.0<br>\", \"Date: 19-Apr<br>Country: United Kingdom<br>Value: 582.852<br>\", \"Date: 19-Apr<br>Country: Norway<br>Value: 67.172<br>\", \"Date: 19-Apr<br>Country: Montenegro<br>Value: 29.42<br>\", \"Date: 19-Apr<br>Country: Serbia<br>Value: 3324.678<br>\", \"Date: 19-Apr<br>Country: Bosnia and Herzegovina<br>Value: 945.039<br>\", \"Date: 19-Apr<br>Country: Ukraine<br>Value: 3817.0<br>\", \"Date: 19-Apr<br>Country: Moldova<br>Value: 16.85<br>\"], \"locations\": [\"BEL\", \"BGR\", \"DNK\", \"DEU\", \"EST\", \"IRL\", \"GRC\", \"ESP\", \"FRA\", \"HRV\", \"ITA\", \"CYP\", \"LVA\", \"LTU\", \"LUX\", \"HUN\", \"MLT\", \"NLD\", \"AUT\", \"POL\", \"PRT\", \"ROU\", \"SVN\", \"SVK\", \"FIN\", \"SWE\", \"GBR\", \"NOR\", \"MNE\", \"SRB\", \"BIH\", \"UKR\", \"MDA\"], \"name\": \"\", \"z\": [289.8, 1893.0620000000001, 152.496, 14476.671999999999, 1978.0970000000002, null, 2302.042, 552.0, 842.175, 54.0, 880.0, 0.0, 6.09, 19.082, 5.461, 586.134, null, 854.0, 383.414, 9301.062, 220.78400000000002, 1984.0, 205.762, 488.0, 659.0, 188.0, 582.852, 67.172, 29.42, 3324.678, 945.039, 3817.0, 16.85], \"type\": \"choropleth\"}], \"name\": \"19-Apr\"}, {\"data\": [{\"coloraxis\": \"coloraxis\", \"geo\": \"geo\", \"hovertemplate\": \"<b>%{hovertext}</b><br><br>Date=19-May<br>CODE=%{location}<br>Value=%{z}<extra></extra>\", \"hovertext\": [\"Date: 19-May<br>Country: Belgium<br>Value: 307.1<br>\", \"Date: 19-May<br>Country: Bulgaria<br>Value: 2383.2670000000003<br>\", \"Date: 19-May<br>Country: Denmark<br>Value: 82.9<br>\", \"Date: 19-May<br>Country: Germany<br>Value: 13781.01<br>\", \"Date: 19-May<br>Country: Estonia<br>Value: 1016.3960000000001<br>\", \"Date: 19-May<br>Country: Ireland<br>Value: nan<br>\", \"Date: 19-May<br>Country: Greece<br>Value: 1808.859<br>\", \"Date: 19-May<br>Country: Spain<br>Value: 442.0<br>\", \"Date: 19-May<br>Country: France<br>Value: 779.455<br>\", \"Date: 19-May<br>Country: Croatia<br>Value: 59.0<br>\", \"Date: 19-May<br>Country: Italy<br>Value: 742.0<br>\", \"Date: 19-May<br>Country: Cyprus<br>Value: 2.339<br>\", \"Date: 19-May<br>Country: Latvia<br>Value: 7.127999999999999<br>\", \"Date: 19-May<br>Country: Lithuania<br>Value: 27.276<br>\", \"Date: 19-May<br>Country: Luxembourg<br>Value: 5.742000000000001<br>\", \"Date: 19-May<br>Country: Hungary<br>Value: 467.543<br>\", \"Date: 19-May<br>Country: Malta<br>Value: nan<br>\", \"Date: 19-May<br>Country: Netherlands<br>Value: 783.0<br>\", \"Date: 19-May<br>Country: Austria<br>Value: 322.113<br>\", \"Date: 19-May<br>Country: Poland<br>Value: 9719.84<br>\", \"Date: 19-May<br>Country: Portugal<br>Value: 144.982<br>\", \"Date: 19-May<br>Country: Romania<br>Value: 1779.0<br>\", \"Date: 19-May<br>Country: Slovenia<br>Value: 237.926<br>\", \"Date: 19-May<br>Country: Slovakia<br>Value: 469.0<br>\", \"Date: 19-May<br>Country: Finland<br>Value: 546.0<br>\", \"Date: 19-May<br>Country: Sweden<br>Value: 193.0<br>\", \"Date: 19-May<br>Country: United Kingdom<br>Value: 442.155<br>\", \"Date: 19-May<br>Country: Norway<br>Value: 67.172<br>\", \"Date: 19-May<br>Country: Montenegro<br>Value: 44.43<br>\", \"Date: 19-May<br>Country: Serbia<br>Value: 2542.615<br>\", \"Date: 19-May<br>Country: Bosnia and Herzegovina<br>Value: 1083.484<br>\", \"Date: 19-May<br>Country: Ukraine<br>Value: 3675.9<br>\", \"Date: 19-May<br>Country: Moldova<br>Value: 1.73<br>\"], \"locations\": [\"BEL\", \"BGR\", \"DNK\", \"DEU\", \"EST\", \"IRL\", \"GRC\", \"ESP\", \"FRA\", \"HRV\", \"ITA\", \"CYP\", \"LVA\", \"LTU\", \"LUX\", \"HUN\", \"MLT\", \"NLD\", \"AUT\", \"POL\", \"PRT\", \"ROU\", \"SVN\", \"SVK\", \"FIN\", \"SWE\", \"GBR\", \"NOR\", \"MNE\", \"SRB\", \"BIH\", \"UKR\", \"MDA\"], \"name\": \"\", \"z\": [307.1, 2383.2670000000003, 82.9, 13781.01, 1016.3960000000001, null, 1808.859, 442.0, 779.455, 59.0, 742.0, 2.339, 7.127999999999999, 27.276, 5.742000000000001, 467.543, null, 783.0, 322.113, 9719.84, 144.982, 1779.0, 237.926, 469.0, 546.0, 193.0, 442.155, 67.172, 44.43, 2542.615, 1083.484, 3675.9, 1.73], \"type\": \"choropleth\"}], \"name\": \"19-May\"}, {\"data\": [{\"coloraxis\": \"coloraxis\", \"geo\": \"geo\", \"hovertemplate\": \"<b>%{hovertext}</b><br><br>Date=19-Jun<br>CODE=%{location}<br>Value=%{z}<extra></extra>\", \"hovertext\": [\"Date: 19-Jun<br>Country: Belgium<br>Value: 284.8<br>\", \"Date: 19-Jun<br>Country: Bulgaria<br>Value: 1490.606<br>\", \"Date: 19-Jun<br>Country: Denmark<br>Value: 29.656<br>\", \"Date: 19-Jun<br>Country: Germany<br>Value: 11630.969<br>\", \"Date: 19-Jun<br>Country: Estonia<br>Value: 776.92<br>\", \"Date: 19-Jun<br>Country: Ireland<br>Value: 19.305999999999997<br>\", \"Date: 19-Jun<br>Country: Greece<br>Value: 2131.196<br>\", \"Date: 19-Jun<br>Country: Spain<br>Value: 409.0<br>\", \"Date: 19-Jun<br>Country: France<br>Value: 762.123<br>\", \"Date: 19-Jun<br>Country: Croatia<br>Value: 57.0<br>\", \"Date: 19-Jun<br>Country: Italy<br>Value: 764.0<br>\", \"Date: 19-Jun<br>Country: Cyprus<br>Value: 3.455<br>\", \"Date: 19-Jun<br>Country: Latvia<br>Value: 2.3409999999999997<br>\", \"Date: 19-Jun<br>Country: Lithuania<br>Value: 22.05<br>\", \"Date: 19-Jun<br>Country: Luxembourg<br>Value: 13.248<br>\", \"Date: 19-Jun<br>Country: Hungary<br>Value: 569.11<br>\", \"Date: 19-Jun<br>Country: Malta<br>Value: nan<br>\", \"Date: 19-Jun<br>Country: Netherlands<br>Value: 654.181<br>\", \"Date: 19-Jun<br>Country: Austria<br>Value: 263.125<br>\", \"Date: 19-Jun<br>Country: Poland<br>Value: 9526.018<br>\", \"Date: 19-Jun<br>Country: Portugal<br>Value: 225.67<br>\", \"Date: 19-Jun<br>Country: Romania<br>Value: 1676.0<br>\", \"Date: 19-Jun<br>Country: Slovenia<br>Value: 241.907<br>\", \"Date: 19-Jun<br>Country: Slovakia<br>Value: 409.0<br>\", \"Date: 19-Jun<br>Country: Finland<br>Value: 390.0<br>\", \"Date: 19-Jun<br>Country: Sweden<br>Value: 207.0<br>\", \"Date: 19-Jun<br>Country: United Kingdom<br>Value: 449.281<br>\", \"Date: 19-Jun<br>Country: Norway<br>Value: 67.172<br>\", \"Date: 19-Jun<br>Country: Montenegro<br>Value: 96.43<br>\", \"Date: 19-Jun<br>Country: Serbia<br>Value: 2718.3190000000004<br>\", \"Date: 19-Jun<br>Country: Bosnia and Herzegovina<br>Value: 1047.931<br>\", \"Date: 19-Jun<br>Country: Ukraine<br>Value: 4202.1<br>\", \"Date: 19-Jun<br>Country: Moldova<br>Value: 7.851<br>\"], \"locations\": [\"BEL\", \"BGR\", \"DNK\", \"DEU\", \"EST\", \"IRL\", \"GRC\", \"ESP\", \"FRA\", \"HRV\", \"ITA\", \"CYP\", \"LVA\", \"LTU\", \"LUX\", \"HUN\", \"MLT\", \"NLD\", \"AUT\", \"POL\", \"PRT\", \"ROU\", \"SVN\", \"SVK\", \"FIN\", \"SWE\", \"GBR\", \"NOR\", \"MNE\", \"SRB\", \"BIH\", \"UKR\", \"MDA\"], \"name\": \"\", \"z\": [284.8, 1490.606, 29.656, 11630.969, 776.92, 19.305999999999997, 2131.196, 409.0, 762.123, 57.0, 764.0, 3.455, 2.3409999999999997, 22.05, 13.248, 569.11, null, 654.181, 263.125, 9526.018, 225.67, 1676.0, 241.907, 409.0, 390.0, 207.0, 449.281, 67.172, 96.43, 2718.3190000000004, 1047.931, 4202.1, 7.851], \"type\": \"choropleth\"}], \"name\": \"19-Jun\"}, {\"data\": [{\"coloraxis\": \"coloraxis\", \"geo\": \"geo\", \"hovertemplate\": \"<b>%{hovertext}</b><br><br>Date=19-Jul<br>CODE=%{location}<br>Value=%{z}<extra></extra>\", \"hovertext\": [\"Date: 19-Jul<br>Country: Belgium<br>Value: 305.5<br>\", \"Date: 19-Jul<br>Country: Bulgaria<br>Value: 2000.476<br>\", \"Date: 19-Jul<br>Country: Denmark<br>Value: 18.733<br>\", \"Date: 19-Jul<br>Country: Germany<br>Value: 12648.143999999998<br>\", \"Date: 19-Jul<br>Country: Estonia<br>Value: 771.5310000000001<br>\", \"Date: 19-Jul<br>Country: Ireland<br>Value: 21.531<br>\", \"Date: 19-Jul<br>Country: Greece<br>Value: 2121.157<br>\", \"Date: 19-Jul<br>Country: Spain<br>Value: 693.0<br>\", \"Date: 19-Jul<br>Country: France<br>Value: 881.319<br>\", \"Date: 19-Jul<br>Country: Croatia<br>Value: 58.0<br>\", \"Date: 19-Jul<br>Country: Italy<br>Value: 861.0<br>\", \"Date: 19-Jul<br>Country: Cyprus<br>Value: 4.898<br>\", \"Date: 19-Jul<br>Country: Latvia<br>Value: 5.5360000000000005<br>\", \"Date: 19-Jul<br>Country: Lithuania<br>Value: 11.069<br>\", \"Date: 19-Jul<br>Country: Luxembourg<br>Value: 7.141<br>\", \"Date: 19-Jul<br>Country: Hungary<br>Value: 792.424<br>\", \"Date: 19-Jul<br>Country: Malta<br>Value: nan<br>\", \"Date: 19-Jul<br>Country: Netherlands<br>Value: 722.395<br>\", \"Date: 19-Jul<br>Country: Austria<br>Value: 305.978<br>\", \"Date: 19-Jul<br>Country: Poland<br>Value: 10089.646999999999<br>\", \"Date: 19-Jul<br>Country: Portugal<br>Value: 314.795<br>\", \"Date: 19-Jul<br>Country: Romania<br>Value: 1949.0<br>\", \"Date: 19-Jul<br>Country: Slovenia<br>Value: 346.205<br>\", \"Date: 19-Jul<br>Country: Slovakia<br>Value: 443.0<br>\", \"Date: 19-Jul<br>Country: Finland<br>Value: 318.0<br>\", \"Date: 19-Jul<br>Country: Sweden<br>Value: 176.0<br>\", \"Date: 19-Jul<br>Country: United Kingdom<br>Value: 511.517<br>\", \"Date: 19-Jul<br>Country: Norway<br>Value: 67.172<br>\", \"Date: 19-Jul<br>Country: Montenegro<br>Value: 147.57<br>\", \"Date: 19-Jul<br>Country: Serbia<br>Value: 3002.442<br>\", \"Date: 19-Jul<br>Country: Bosnia and Herzegovina<br>Value: 1338.9589999999998<br>\", \"Date: 19-Jul<br>Country: Ukraine<br>Value: 3586.8<br>\", \"Date: 19-Jul<br>Country: Moldova<br>Value: 12.953<br>\"], \"locations\": [\"BEL\", \"BGR\", \"DNK\", \"DEU\", \"EST\", \"IRL\", \"GRC\", \"ESP\", \"FRA\", \"HRV\", \"ITA\", \"CYP\", \"LVA\", \"LTU\", \"LUX\", \"HUN\", \"MLT\", \"NLD\", \"AUT\", \"POL\", \"PRT\", \"ROU\", \"SVN\", \"SVK\", \"FIN\", \"SWE\", \"GBR\", \"NOR\", \"MNE\", \"SRB\", \"BIH\", \"UKR\", \"MDA\"], \"name\": \"\", \"z\": [305.5, 2000.476, 18.733, 12648.143999999998, 771.5310000000001, 21.531, 2121.157, 693.0, 881.319, 58.0, 861.0, 4.898, 5.5360000000000005, 11.069, 7.141, 792.424, null, 722.395, 305.978, 10089.646999999999, 314.795, 1949.0, 346.205, 443.0, 318.0, 176.0, 511.517, 67.172, 147.57, 3002.442, 1338.9589999999998, 3586.8, 12.953], \"type\": \"choropleth\"}], \"name\": \"19-Jul\"}, {\"data\": [{\"coloraxis\": \"coloraxis\", \"geo\": \"geo\", \"hovertemplate\": \"<b>%{hovertext}</b><br><br>Date=19-Aug<br>CODE=%{location}<br>Value=%{z}<extra></extra>\", \"hovertext\": [\"Date: 19-Aug<br>Country: Belgium<br>Value: 303.0<br>\", \"Date: 19-Aug<br>Country: Bulgaria<br>Value: 2078.488<br>\", \"Date: 19-Aug<br>Country: Denmark<br>Value: 27.787<br>\", \"Date: 19-Aug<br>Country: Germany<br>Value: 12863.388<br>\", \"Date: 19-Aug<br>Country: Estonia<br>Value: 760.421<br>\", \"Date: 19-Aug<br>Country: Ireland<br>Value: nan<br>\", \"Date: 19-Aug<br>Country: Greece<br>Value: 2113.78<br>\", \"Date: 19-Aug<br>Country: Spain<br>Value: 484.0<br>\", \"Date: 19-Aug<br>Country: France<br>Value: 889.495<br>\", \"Date: 19-Aug<br>Country: Croatia<br>Value: 60.0<br>\", \"Date: 19-Aug<br>Country: Italy<br>Value: 580.0<br>\", \"Date: 19-Aug<br>Country: Cyprus<br>Value: 4.4430000000000005<br>\", \"Date: 19-Aug<br>Country: Latvia<br>Value: 6.789<br>\", \"Date: 19-Aug<br>Country: Lithuania<br>Value: 22.863000000000003<br>\", \"Date: 19-Aug<br>Country: Luxembourg<br>Value: 7.715<br>\", \"Date: 19-Aug<br>Country: Hungary<br>Value: 664.128<br>\", \"Date: 19-Aug<br>Country: Malta<br>Value: nan<br>\", \"Date: 19-Aug<br>Country: Netherlands<br>Value: 517.5<br>\", \"Date: 19-Aug<br>Country: Austria<br>Value: 337.36400000000003<br>\", \"Date: 19-Aug<br>Country: Poland<br>Value: 9904.243<br>\", \"Date: 19-Aug<br>Country: Portugal<br>Value: 45.912<br>\", \"Date: 19-Aug<br>Country: Romania<br>Value: 1843.0<br>\", \"Date: 19-Aug<br>Country: Slovenia<br>Value: 246.532<br>\", \"Date: 19-Aug<br>Country: Slovakia<br>Value: 334.0<br>\", \"Date: 19-Aug<br>Country: Finland<br>Value: 381.0<br>\", \"Date: 19-Aug<br>Country: Sweden<br>Value: 174.0<br>\", \"Date: 19-Aug<br>Country: United Kingdom<br>Value: 511.44599999999997<br>\", \"Date: 19-Aug<br>Country: Norway<br>Value: 67.172<br>\", \"Date: 19-Aug<br>Country: Montenegro<br>Value: 161.95<br>\", \"Date: 19-Aug<br>Country: Serbia<br>Value: 3527.5840000000003<br>\", \"Date: 19-Aug<br>Country: Bosnia and Herzegovina<br>Value: 1226.64<br>\", \"Date: 19-Aug<br>Country: Ukraine<br>Value: 3670.2<br>\", \"Date: 19-Aug<br>Country: Moldova<br>Value: 6.7<br>\"], \"locations\": [\"BEL\", \"BGR\", \"DNK\", \"DEU\", \"EST\", \"IRL\", \"GRC\", \"ESP\", \"FRA\", \"HRV\", \"ITA\", \"CYP\", \"LVA\", \"LTU\", \"LUX\", \"HUN\", \"MLT\", \"NLD\", \"AUT\", \"POL\", \"PRT\", \"ROU\", \"SVN\", \"SVK\", \"FIN\", \"SWE\", \"GBR\", \"NOR\", \"MNE\", \"SRB\", \"BIH\", \"UKR\", \"MDA\"], \"name\": \"\", \"z\": [303.0, 2078.488, 27.787, 12863.388, 760.421, null, 2113.78, 484.0, 889.495, 60.0, 580.0, 4.4430000000000005, 6.789, 22.863000000000003, 7.715, 664.128, null, 517.5, 337.36400000000003, 9904.243, 45.912, 1843.0, 246.532, 334.0, 381.0, 174.0, 511.44599999999997, 67.172, 161.95, 3527.5840000000003, 1226.64, 3670.2, 6.7], \"type\": \"choropleth\"}], \"name\": \"19-Aug\"}, {\"data\": [{\"coloraxis\": \"coloraxis\", \"geo\": \"geo\", \"hovertemplate\": \"<b>%{hovertext}</b><br><br>Date=19-Sep<br>CODE=%{location}<br>Value=%{z}<extra></extra>\", \"hovertext\": [\"Date: 19-Sep<br>Country: Belgium<br>Value: 298.1<br>\", \"Date: 19-Sep<br>Country: Bulgaria<br>Value: 2499.393<br>\", \"Date: 19-Sep<br>Country: Denmark<br>Value: 39.675<br>\", \"Date: 19-Sep<br>Country: Germany<br>Value: 12535.235<br>\", \"Date: 19-Sep<br>Country: Estonia<br>Value: 1231.0910000000001<br>\", \"Date: 19-Sep<br>Country: Ireland<br>Value: nan<br>\", \"Date: 19-Sep<br>Country: Greece<br>Value: 1428.239<br>\", \"Date: 19-Sep<br>Country: Spain<br>Value: 452.0<br>\", \"Date: 19-Sep<br>Country: France<br>Value: 754.194<br>\", \"Date: 19-Sep<br>Country: Croatia<br>Value: 59.0<br>\", \"Date: 19-Sep<br>Country: Italy<br>Value: 920.0<br>\", \"Date: 19-Sep<br>Country: Cyprus<br>Value: 2.033<br>\", \"Date: 19-Sep<br>Country: Latvia<br>Value: 6.46<br>\", \"Date: 19-Sep<br>Country: Lithuania<br>Value: 35.421<br>\", \"Date: 19-Sep<br>Country: Luxembourg<br>Value: 5.336<br>\", \"Date: 19-Sep<br>Country: Hungary<br>Value: 756.58<br>\", \"Date: 19-Sep<br>Country: Malta<br>Value: nan<br>\", \"Date: 19-Sep<br>Country: Netherlands<br>Value: 1085.2<br>\", \"Date: 19-Sep<br>Country: Austria<br>Value: 269.536<br>\", \"Date: 19-Sep<br>Country: Poland<br>Value: 10142.493<br>\", \"Date: 19-Sep<br>Country: Portugal<br>Value: 21.848000000000003<br>\", \"Date: 19-Sep<br>Country: Romania<br>Value: 1768.0<br>\", \"Date: 19-Sep<br>Country: Slovenia<br>Value: 236.247<br>\", \"Date: 19-Sep<br>Country: Slovakia<br>Value: 348.0<br>\", \"Date: 19-Sep<br>Country: Finland<br>Value: 624.0<br>\", \"Date: 19-Sep<br>Country: Sweden<br>Value: 168.0<br>\", \"Date: 19-Sep<br>Country: United Kingdom<br>Value: 562.799<br>\", \"Date: 19-Sep<br>Country: Norway<br>Value: 67.172<br>\", \"Date: 19-Sep<br>Country: Montenegro<br>Value: 172.25<br>\", \"Date: 19-Sep<br>Country: Serbia<br>Value: 3355.208<br>\", \"Date: 19-Sep<br>Country: Bosnia and Herzegovina<br>Value: 1273.5410000000002<br>\", \"Date: 19-Sep<br>Country: Ukraine<br>Value: 3513.4<br>\", \"Date: 19-Sep<br>Country: Moldova<br>Value: 20.4<br>\"], \"locations\": [\"BEL\", \"BGR\", \"DNK\", \"DEU\", \"EST\", \"IRL\", \"GRC\", \"ESP\", \"FRA\", \"HRV\", \"ITA\", \"CYP\", \"LVA\", \"LTU\", \"LUX\", \"HUN\", \"MLT\", \"NLD\", \"AUT\", \"POL\", \"PRT\", \"ROU\", \"SVN\", \"SVK\", \"FIN\", \"SWE\", \"GBR\", \"NOR\", \"MNE\", \"SRB\", \"BIH\", \"UKR\", \"MDA\"], \"name\": \"\", \"z\": [298.1, 2499.393, 39.675, 12535.235, 1231.0910000000001, null, 1428.239, 452.0, 754.194, 59.0, 920.0, 2.033, 6.46, 35.421, 5.336, 756.58, null, 1085.2, 269.536, 10142.493, 21.848000000000003, 1768.0, 236.247, 348.0, 624.0, 168.0, 562.799, 67.172, 172.25, 3355.208, 1273.5410000000002, 3513.4, 20.4], \"type\": \"choropleth\"}], \"name\": \"19-Sep\"}, {\"data\": [{\"coloraxis\": \"coloraxis\", \"geo\": \"geo\", \"hovertemplate\": \"<b>%{hovertext}</b><br><br>Date=19-Oct<br>CODE=%{location}<br>Value=%{z}<extra></extra>\", \"hovertext\": [\"Date: 19-Oct<br>Country: Belgium<br>Value: 304.9<br>\", \"Date: 19-Oct<br>Country: Bulgaria<br>Value: 2849.2670000000003<br>\", \"Date: 19-Oct<br>Country: Denmark<br>Value: 76.64<br>\", \"Date: 19-Oct<br>Country: Germany<br>Value: 13341.255<br>\", \"Date: 19-Oct<br>Country: Estonia<br>Value: 1057.133<br>\", \"Date: 19-Oct<br>Country: Ireland<br>Value: nan<br>\", \"Date: 19-Oct<br>Country: Greece<br>Value: 1598.549<br>\", \"Date: 19-Oct<br>Country: Spain<br>Value: 587.0<br>\", \"Date: 19-Oct<br>Country: France<br>Value: 827.203<br>\", \"Date: 19-Oct<br>Country: Croatia<br>Value: 74.0<br>\", \"Date: 19-Oct<br>Country: Italy<br>Value: 944.0<br>\", \"Date: 19-Oct<br>Country: Cyprus<br>Value: 0.602<br>\", \"Date: 19-Oct<br>Country: Latvia<br>Value: 8.022<br>\", \"Date: 19-Oct<br>Country: Lithuania<br>Value: 29.959<br>\", \"Date: 19-Oct<br>Country: Luxembourg<br>Value: 3.299<br>\", \"Date: 19-Oct<br>Country: Hungary<br>Value: 757.653<br>\", \"Date: 19-Oct<br>Country: Malta<br>Value: nan<br>\", \"Date: 19-Oct<br>Country: Netherlands<br>Value: 858.659<br>\", \"Date: 19-Oct<br>Country: Austria<br>Value: 314.649<br>\", \"Date: 19-Oct<br>Country: Poland<br>Value: 10663.021<br>\", \"Date: 19-Oct<br>Country: Portugal<br>Value: 124.31<br>\", \"Date: 19-Oct<br>Country: Romania<br>Value: 1933.0<br>\", \"Date: 19-Oct<br>Country: Slovenia<br>Value: 406.972<br>\", \"Date: 19-Oct<br>Country: Slovakia<br>Value: 420.0<br>\", \"Date: 19-Oct<br>Country: Finland<br>Value: 813.0<br>\", \"Date: 19-Oct<br>Country: Sweden<br>Value: 253.0<br>\", \"Date: 19-Oct<br>Country: United Kingdom<br>Value: 628.289<br>\", \"Date: 19-Oct<br>Country: Norway<br>Value: 67.171<br>\", \"Date: 19-Oct<br>Country: Montenegro<br>Value: 167.17<br>\", \"Date: 19-Oct<br>Country: Serbia<br>Value: 3578.0679999999998<br>\", \"Date: 19-Oct<br>Country: Bosnia and Herzegovina<br>Value: 1125.586<br>\", \"Date: 19-Oct<br>Country: Ukraine<br>Value: 4015.9<br>\", \"Date: 19-Oct<br>Country: Moldova<br>Value: 23.7<br>\"], \"locations\": [\"BEL\", \"BGR\", \"DNK\", \"DEU\", \"EST\", \"IRL\", \"GRC\", \"ESP\", \"FRA\", \"HRV\", \"ITA\", \"CYP\", \"LVA\", \"LTU\", \"LUX\", \"HUN\", \"MLT\", \"NLD\", \"AUT\", \"POL\", \"PRT\", \"ROU\", \"SVN\", \"SVK\", \"FIN\", \"SWE\", \"GBR\", \"NOR\", \"MNE\", \"SRB\", \"BIH\", \"UKR\", \"MDA\"], \"name\": \"\", \"z\": [304.9, 2849.2670000000003, 76.64, 13341.255, 1057.133, null, 1598.549, 587.0, 827.203, 74.0, 944.0, 0.602, 8.022, 29.959, 3.299, 757.653, null, 858.659, 314.649, 10663.021, 124.31, 1933.0, 406.972, 420.0, 813.0, 253.0, 628.289, 67.171, 167.17, 3578.0679999999998, 1125.586, 4015.9, 23.7], \"type\": \"choropleth\"}], \"name\": \"19-Oct\"}, {\"data\": [{\"coloraxis\": \"coloraxis\", \"geo\": \"geo\", \"hovertemplate\": \"<b>%{hovertext}</b><br><br>Date=19-Nov<br>CODE=%{location}<br>Value=%{z}<extra></extra>\", \"hovertext\": [\"Date: 19-Nov<br>Country: Belgium<br>Value: 294.1<br>\", \"Date: 19-Nov<br>Country: Bulgaria<br>Value: 2436.261<br>\", \"Date: 19-Nov<br>Country: Denmark<br>Value: 148.261<br>\", \"Date: 19-Nov<br>Country: Germany<br>Value: 15115.941<br>\", \"Date: 19-Nov<br>Country: Estonia<br>Value: 1293.062<br>\", \"Date: 19-Nov<br>Country: Ireland<br>Value: nan<br>\", \"Date: 19-Nov<br>Country: Greece<br>Value: 2044.595<br>\", \"Date: 19-Nov<br>Country: Spain<br>Value: 449.0<br>\", \"Date: 19-Nov<br>Country: France<br>Value: 925.052<br>\", \"Date: 19-Nov<br>Country: Croatia<br>Value: 59.0<br>\", \"Date: 19-Nov<br>Country: Italy<br>Value: 910.0<br>\", \"Date: 19-Nov<br>Country: Cyprus<br>Value: 3.181<br>\", \"Date: 19-Nov<br>Country: Latvia<br>Value: 8.452<br>\", \"Date: 19-Nov<br>Country: Lithuania<br>Value: 23.375<br>\", \"Date: 19-Nov<br>Country: Luxembourg<br>Value: 5.4079999999999995<br>\", \"Date: 19-Nov<br>Country: Hungary<br>Value: 673.7339999999999<br>\", \"Date: 19-Nov<br>Country: Malta<br>Value: nan<br>\", \"Date: 19-Nov<br>Country: Netherlands<br>Value: 1030.2169999999999<br>\", \"Date: 19-Nov<br>Country: Austria<br>Value: 299.249<br>\", \"Date: 19-Nov<br>Country: Poland<br>Value: 9930.918<br>\", \"Date: 19-Nov<br>Country: Portugal<br>Value: 59.943000000000005<br>\", \"Date: 19-Nov<br>Country: Romania<br>Value: 1754.0<br>\", \"Date: 19-Nov<br>Country: Slovenia<br>Value: 279.314<br>\", \"Date: 19-Nov<br>Country: Slovakia<br>Value: 380.0<br>\", \"Date: 19-Nov<br>Country: Finland<br>Value: 881.0<br>\", \"Date: 19-Nov<br>Country: Sweden<br>Value: 258.0<br>\", \"Date: 19-Nov<br>Country: United Kingdom<br>Value: 894.173<br>\", \"Date: 19-Nov<br>Country: Norway<br>Value: 67.172<br>\", \"Date: 19-Nov<br>Country: Montenegro<br>Value: 122.39<br>\", \"Date: 19-Nov<br>Country: Serbia<br>Value: 3393.1<br>\", \"Date: 19-Nov<br>Country: Bosnia and Herzegovina<br>Value: 1389.6979999999999<br>\", \"Date: 19-Nov<br>Country: Ukraine<br>Value: 3109.8<br>\", \"Date: 19-Nov<br>Country: Moldova<br>Value: 11.0<br>\"], \"locations\": [\"BEL\", \"BGR\", \"DNK\", \"DEU\", \"EST\", \"IRL\", \"GRC\", \"ESP\", \"FRA\", \"HRV\", \"ITA\", \"CYP\", \"LVA\", \"LTU\", \"LUX\", \"HUN\", \"MLT\", \"NLD\", \"AUT\", \"POL\", \"PRT\", \"ROU\", \"SVN\", \"SVK\", \"FIN\", \"SWE\", \"GBR\", \"NOR\", \"MNE\", \"SRB\", \"BIH\", \"UKR\", \"MDA\"], \"name\": \"\", \"z\": [294.1, 2436.261, 148.261, 15115.941, 1293.062, null, 2044.595, 449.0, 925.052, 59.0, 910.0, 3.181, 8.452, 23.375, 5.4079999999999995, 673.7339999999999, null, 1030.2169999999999, 299.249, 9930.918, 59.943000000000005, 1754.0, 279.314, 380.0, 881.0, 258.0, 894.173, 67.172, 122.39, 3393.1, 1389.6979999999999, 3109.8, 11.0], \"type\": \"choropleth\"}], \"name\": \"19-Nov\"}, {\"data\": [{\"coloraxis\": \"coloraxis\", \"geo\": \"geo\", \"hovertemplate\": \"<b>%{hovertext}</b><br><br>Date=19-Dec<br>CODE=%{location}<br>Value=%{z}<extra></extra>\", \"hovertext\": [\"Date: 19-Dec<br>Country: Belgium<br>Value: 283.9<br>\", \"Date: 19-Dec<br>Country: Bulgaria<br>Value: 2657.902<br>\", \"Date: 19-Dec<br>Country: Denmark<br>Value: 186.28<br>\", \"Date: 19-Dec<br>Country: Germany<br>Value: 12623.124<br>\", \"Date: 19-Dec<br>Country: Estonia<br>Value: 1135.0610000000001<br>\", \"Date: 19-Dec<br>Country: Ireland<br>Value: nan<br>\", \"Date: 19-Dec<br>Country: Greece<br>Value: 2623.429<br>\", \"Date: 19-Dec<br>Country: Spain<br>Value: 310.0<br>\", \"Date: 19-Dec<br>Country: France<br>Value: 887.446<br>\", \"Date: 19-Dec<br>Country: Croatia<br>Value: 42.0<br>\", \"Date: 19-Dec<br>Country: Italy<br>Value: 762.0<br>\", \"Date: 19-Dec<br>Country: Cyprus<br>Value: 1.716<br>\", \"Date: 19-Dec<br>Country: Latvia<br>Value: 6.185<br>\", \"Date: 19-Dec<br>Country: Lithuania<br>Value: 20.737<br>\", \"Date: 19-Dec<br>Country: Luxembourg<br>Value: 4.146<br>\", \"Date: 19-Dec<br>Country: Hungary<br>Value: 647.548<br>\", \"Date: 19-Dec<br>Country: Malta<br>Value: nan<br>\", \"Date: 19-Dec<br>Country: Netherlands<br>Value: 958.513<br>\", \"Date: 19-Dec<br>Country: Austria<br>Value: 254.699<br>\", \"Date: 19-Dec<br>Country: Poland<br>Value: 9795.658000000001<br>\", \"Date: 19-Dec<br>Country: Portugal<br>Value: 47.763999999999996<br>\", \"Date: 19-Dec<br>Country: Romania<br>Value: 1799.0<br>\", \"Date: 19-Dec<br>Country: Slovenia<br>Value: 332.042<br>\", \"Date: 19-Dec<br>Country: Slovakia<br>Value: 429.0<br>\", \"Date: 19-Dec<br>Country: Finland<br>Value: 881.0<br>\", \"Date: 19-Dec<br>Country: Sweden<br>Value: 261.0<br>\", \"Date: 19-Dec<br>Country: United Kingdom<br>Value: 852.888<br>\", \"Date: 19-Dec<br>Country: Norway<br>Value: 67.172<br>\", \"Date: 19-Dec<br>Country: Montenegro<br>Value: 132.86700000000002<br>\", \"Date: 19-Dec<br>Country: Serbia<br>Value: 3553.535<br>\", \"Date: 19-Dec<br>Country: Bosnia and Herzegovina<br>Value: 1274.781<br>\", \"Date: 19-Dec<br>Country: Ukraine<br>Value: 3457.4<br>\", \"Date: 19-Dec<br>Country: Moldova<br>Value: 16.0<br>\"], \"locations\": [\"BEL\", \"BGR\", \"DNK\", \"DEU\", \"EST\", \"IRL\", \"GRC\", \"ESP\", \"FRA\", \"HRV\", \"ITA\", \"CYP\", \"LVA\", \"LTU\", \"LUX\", \"HUN\", \"MLT\", \"NLD\", \"AUT\", \"POL\", \"PRT\", \"ROU\", \"SVN\", \"SVK\", \"FIN\", \"SWE\", \"GBR\", \"NOR\", \"MNE\", \"SRB\", \"BIH\", \"UKR\", \"MDA\"], \"name\": \"\", \"z\": [283.9, 2657.902, 186.28, 12623.124, 1135.0610000000001, null, 2623.429, 310.0, 887.446, 42.0, 762.0, 1.716, 6.185, 20.737, 4.146, 647.548, null, 958.513, 254.699, 9795.658000000001, 47.763999999999996, 1799.0, 332.042, 429.0, 881.0, 261.0, 852.888, 67.172, 132.86700000000002, 3553.535, 1274.781, 3457.4, 16.0], \"type\": \"choropleth\"}], \"name\": \"19-Dec\"}, {\"data\": [{\"coloraxis\": \"coloraxis\", \"geo\": \"geo\", \"hovertemplate\": \"<b>%{hovertext}</b><br><br>Date=20-Jan<br>CODE=%{location}<br>Value=%{z}<extra></extra>\", \"hovertext\": [\"Date: 20-Jan<br>Country: Belgium<br>Value: 316.0<br>\", \"Date: 20-Jan<br>Country: Bulgaria<br>Value: 2422.37<br>\", \"Date: 20-Jan<br>Country: Denmark<br>Value: 185.685<br>\", \"Date: 20-Jan<br>Country: Germany<br>Value: 13935.938999999998<br>\", \"Date: 20-Jan<br>Country: Estonia<br>Value: 1072.025<br>\", \"Date: 20-Jan<br>Country: Ireland<br>Value: nan<br>\", \"Date: 20-Jan<br>Country: Greece<br>Value: 2727.138<br>\", \"Date: 20-Jan<br>Country: Spain<br>Value: 552.0<br>\", \"Date: 20-Jan<br>Country: France<br>Value: 888.7760000000001<br>\", \"Date: 20-Jan<br>Country: Croatia<br>Value: 27.0<br>\", \"Date: 20-Jan<br>Country: Italy<br>Value: nan<br>\", \"Date: 20-Jan<br>Country: Cyprus<br>Value: 0.285<br>\", \"Date: 20-Jan<br>Country: Latvia<br>Value: 3.4330000000000003<br>\", \"Date: 20-Jan<br>Country: Lithuania<br>Value: 24.443<br>\", \"Date: 20-Jan<br>Country: Luxembourg<br>Value: 4.956<br>\", \"Date: 20-Jan<br>Country: Hungary<br>Value: 663.7260000000001<br>\", \"Date: 20-Jan<br>Country: Malta<br>Value: nan<br>\", \"Date: 20-Jan<br>Country: Netherlands<br>Value: 616.3919999999999<br>\", \"Date: 20-Jan<br>Country: Austria<br>Value: 303.121<br>\", \"Date: 20-Jan<br>Country: Poland<br>Value: 9253.246<br>\", \"Date: 20-Jan<br>Country: Portugal<br>Value: 52.016999999999996<br>\", \"Date: 20-Jan<br>Country: Romania<br>Value: 1751.0<br>\", \"Date: 20-Jan<br>Country: Slovenia<br>Value: 259.95799999999997<br>\", \"Date: 20-Jan<br>Country: Slovakia<br>Value: 427.0<br>\", \"Date: 20-Jan<br>Country: Finland<br>Value: 972.0<br>\", \"Date: 20-Jan<br>Country: Sweden<br>Value: 287.0<br>\", \"Date: 20-Jan<br>Country: United Kingdom<br>Value: 1096.782<br>\", \"Date: 20-Jan<br>Country: Norway<br>Value: nan<br>\", \"Date: 20-Jan<br>Country: Montenegro<br>Value: nan<br>\", \"Date: 20-Jan<br>Country: Serbia<br>Value: 3519.7729999999997<br>\", \"Date: 20-Jan<br>Country: Bosnia and Herzegovina<br>Value: nan<br>\", \"Date: 20-Jan<br>Country: Ukraine<br>Value: nan<br>\", \"Date: 20-Jan<br>Country: Moldova<br>Value: 6.8<br>\"], \"locations\": [\"BEL\", \"BGR\", \"DNK\", \"DEU\", \"EST\", \"IRL\", \"GRC\", \"ESP\", \"FRA\", \"HRV\", \"ITA\", \"CYP\", \"LVA\", \"LTU\", \"LUX\", \"HUN\", \"MLT\", \"NLD\", \"AUT\", \"POL\", \"PRT\", \"ROU\", \"SVN\", \"SVK\", \"FIN\", \"SWE\", \"GBR\", \"NOR\", \"MNE\", \"SRB\", \"BIH\", \"UKR\", \"MDA\"], \"name\": \"\", \"z\": [316.0, 2422.37, 185.685, 13935.938999999998, 1072.025, null, 2727.138, 552.0, 888.7760000000001, 27.0, null, 0.285, 3.4330000000000003, 24.443, 4.956, 663.7260000000001, null, 616.3919999999999, 303.121, 9253.246, 52.016999999999996, 1751.0, 259.95799999999997, 427.0, 972.0, 287.0, 1096.782, null, null, 3519.7729999999997, null, null, 6.8], \"type\": \"choropleth\"}], \"name\": \"20-Jan\"}]);\n",
       "                        }).then(function(){\n",
       "                            \n",
       "var gd = document.getElementById('5facf217-cc9b-4376-a48b-6565bd3989f9');\n",
       "var x = new MutationObserver(function (mutations, observer) {{\n",
       "        var display = window.getComputedStyle(gd).display;\n",
       "        if (!display || display === 'none') {{\n",
       "            console.log([gd, 'removed!']);\n",
       "            Plotly.purge(gd);\n",
       "            observer.disconnect();\n",
       "        }}\n",
       "}});\n",
       "\n",
       "// Listen for the removal of the full notebook cells\n",
       "var notebookContainer = gd.closest('#notebook-container');\n",
       "if (notebookContainer) {{\n",
       "    x.observe(notebookContainer, {childList: true});\n",
       "}}\n",
       "\n",
       "// Listen for the clearing of the current output cell\n",
       "var outputEl = gd.closest('.output');\n",
       "if (outputEl) {{\n",
       "    x.observe(outputEl, {childList: true});\n",
       "}}\n",
       "\n",
       "                        })\n",
       "                };\n",
       "                });\n",
       "            </script>\n",
       "        </div>"
      ]
     },
     "metadata": {},
     "output_type": "display_data"
    }
   ],
   "source": [
    "import plotly.express as px\n",
    "\n",
    "df = data_tr_df\n",
    "max_value = max(df['Value'])\n",
    "min_value = min(df['Value'])\n",
    "hover_text = []\n",
    "for index, row in df.iterrows():\n",
    "    hover_text.append(('Date: {}<br>'+\n",
    "                       'Country: {}<br>'+\n",
    "                      'Value: {}<br>').format(row['Date'], \n",
    "                                            row['Country'],\n",
    "                                            row['Value']))\n",
    "df['hover_text'] = hover_text\n",
    "fig = px.choropleth(df, locations=\"CODE\",\n",
    "                    color=\"Value\", # \n",
    "                    hover_name=\"hover_text\",\n",
    "                    color_continuous_scale=px.colors.sequential.Plasma, animation_frame=\"Date\",\n",
    "                    range_color =[min_value,max_value],\n",
    "                    width=900, height=674)\n",
    "fig.update_geos( \n",
    "    showcoastlines=True, coastlinecolor=\"DarkBlue\",\n",
    "    showland=True, landcolor=\"LightGrey\",\n",
    "    showocean=True, oceancolor=\"LightBlue\",\n",
    "    showlakes=True, lakecolor=\"Blue\",\n",
    "    showrivers=True, rivercolor=\"Blue\",\n",
    "    showcountries=True, countrycolor=\"DarkBlue\"\n",
    ")\n",
    "fig.update_layout(title = 'Europe Gross inland delivery coal (all) - thousand tones<br>(hover for details)')\n",
    "fig.show()\n",
    "\n",
    "\n"
   ]
  },
  {
   "cell_type": "code",
   "execution_count": 24,
   "metadata": {},
   "outputs": [
    {
     "data": {
      "text/html": [
       "<div>\n",
       "<style scoped>\n",
       "    .dataframe tbody tr th:only-of-type {\n",
       "        vertical-align: middle;\n",
       "    }\n",
       "\n",
       "    .dataframe tbody tr th {\n",
       "        vertical-align: top;\n",
       "    }\n",
       "\n",
       "    .dataframe thead th {\n",
       "        text-align: right;\n",
       "    }\n",
       "</style>\n",
       "<table border=\"1\" class=\"dataframe\">\n",
       "  <thead>\n",
       "    <tr style=\"text-align: right;\">\n",
       "      <th></th>\n",
       "      <th>Country</th>\n",
       "      <th>GDP</th>\n",
       "      <th>Date</th>\n",
       "      <th>Value</th>\n",
       "      <th>Unit</th>\n",
       "    </tr>\n",
       "  </thead>\n",
       "  <tbody>\n",
       "    <tr>\n",
       "      <td>0</td>\n",
       "      <td>Belgium</td>\n",
       "      <td>527.80</td>\n",
       "      <td>19-Jan</td>\n",
       "      <td>307.100</td>\n",
       "      <td>thousand tones</td>\n",
       "    </tr>\n",
       "    <tr>\n",
       "      <td>1</td>\n",
       "      <td>Bulgaria</td>\n",
       "      <td>55.08</td>\n",
       "      <td>19-Jan</td>\n",
       "      <td>3659.659</td>\n",
       "      <td>thousand tones</td>\n",
       "    </tr>\n",
       "    <tr>\n",
       "      <td>2</td>\n",
       "      <td>Denmark</td>\n",
       "      <td>347.20</td>\n",
       "      <td>19-Jan</td>\n",
       "      <td>336.444</td>\n",
       "      <td>thousand tones</td>\n",
       "    </tr>\n",
       "    <tr>\n",
       "      <td>3</td>\n",
       "      <td>Germany</td>\n",
       "      <td>3820.00</td>\n",
       "      <td>19-Jan</td>\n",
       "      <td>16522.459</td>\n",
       "      <td>thousand tones</td>\n",
       "    </tr>\n",
       "    <tr>\n",
       "      <td>4</td>\n",
       "      <td>Estonia</td>\n",
       "      <td>26.36</td>\n",
       "      <td>19-Jan</td>\n",
       "      <td>1931.714</td>\n",
       "      <td>thousand tones</td>\n",
       "    </tr>\n",
       "  </tbody>\n",
       "</table>\n",
       "</div>"
      ],
      "text/plain": [
       "    Country      GDP    Date      Value            Unit\n",
       "0   Belgium   527.80  19-Jan    307.100  thousand tones\n",
       "1  Bulgaria    55.08  19-Jan   3659.659  thousand tones\n",
       "2   Denmark   347.20  19-Jan    336.444  thousand tones\n",
       "3   Germany  3820.00  19-Jan  16522.459  thousand tones\n",
       "4   Estonia    26.36  19-Jan   1931.714  thousand tones"
      ]
     },
     "execution_count": 24,
     "metadata": {},
     "output_type": "execute_result"
    }
   ],
   "source": [
    "to_export_df = df[['Country', 'GDP', 'Date', 'Value']]\n",
    "to_export_df['Unit'] = \"thousand tones\"\n",
    "to_export_df.head()"
   ]
  },
  {
   "cell_type": "code",
   "execution_count": 25,
   "metadata": {},
   "outputs": [],
   "source": [
    "to_export_df.to_csv(\"../data/processed/energy_gross_inland_deliveries_coal_all.csv\", index=False)"
   ]
  },
  {
   "cell_type": "markdown",
   "metadata": {},
   "source": [
    "#### Test"
   ]
  },
  {
   "cell_type": "code",
   "execution_count": 26,
   "metadata": {},
   "outputs": [
    {
     "data": {
      "text/html": [
       "<div>\n",
       "<style scoped>\n",
       "    .dataframe tbody tr th:only-of-type {\n",
       "        vertical-align: middle;\n",
       "    }\n",
       "\n",
       "    .dataframe tbody tr th {\n",
       "        vertical-align: top;\n",
       "    }\n",
       "\n",
       "    .dataframe thead th {\n",
       "        text-align: right;\n",
       "    }\n",
       "</style>\n",
       "<table border=\"1\" class=\"dataframe\">\n",
       "  <thead>\n",
       "    <tr style=\"text-align: right;\">\n",
       "      <th></th>\n",
       "      <th>Country</th>\n",
       "      <th>GDP</th>\n",
       "      <th>Date</th>\n",
       "      <th>Value</th>\n",
       "      <th>Unit</th>\n",
       "    </tr>\n",
       "  </thead>\n",
       "  <tbody>\n",
       "    <tr>\n",
       "      <td>0</td>\n",
       "      <td>Belgium</td>\n",
       "      <td>527.80</td>\n",
       "      <td>19-Jan</td>\n",
       "      <td>307.100</td>\n",
       "      <td>thousand tones</td>\n",
       "    </tr>\n",
       "    <tr>\n",
       "      <td>1</td>\n",
       "      <td>Bulgaria</td>\n",
       "      <td>55.08</td>\n",
       "      <td>19-Jan</td>\n",
       "      <td>3659.659</td>\n",
       "      <td>thousand tones</td>\n",
       "    </tr>\n",
       "    <tr>\n",
       "      <td>2</td>\n",
       "      <td>Denmark</td>\n",
       "      <td>347.20</td>\n",
       "      <td>19-Jan</td>\n",
       "      <td>336.444</td>\n",
       "      <td>thousand tones</td>\n",
       "    </tr>\n",
       "    <tr>\n",
       "      <td>3</td>\n",
       "      <td>Germany</td>\n",
       "      <td>3820.00</td>\n",
       "      <td>19-Jan</td>\n",
       "      <td>16522.459</td>\n",
       "      <td>thousand tones</td>\n",
       "    </tr>\n",
       "    <tr>\n",
       "      <td>4</td>\n",
       "      <td>Estonia</td>\n",
       "      <td>26.36</td>\n",
       "      <td>19-Jan</td>\n",
       "      <td>1931.714</td>\n",
       "      <td>thousand tones</td>\n",
       "    </tr>\n",
       "  </tbody>\n",
       "</table>\n",
       "</div>"
      ],
      "text/plain": [
       "    Country      GDP    Date      Value            Unit\n",
       "0   Belgium   527.80  19-Jan    307.100  thousand tones\n",
       "1  Bulgaria    55.08  19-Jan   3659.659  thousand tones\n",
       "2   Denmark   347.20  19-Jan    336.444  thousand tones\n",
       "3   Germany  3820.00  19-Jan  16522.459  thousand tones\n",
       "4   Estonia    26.36  19-Jan   1931.714  thousand tones"
      ]
     },
     "execution_count": 26,
     "metadata": {},
     "output_type": "execute_result"
    }
   ],
   "source": [
    "to_export_df = pd.read_csv(\"../data/processed/energy_gross_inland_deliveries_coal_all.csv\")\n",
    "to_export_df.head()"
   ]
  },
  {
   "cell_type": "markdown",
   "metadata": {},
   "source": [
    "## Refinery intake crude oil"
   ]
  },
  {
   "cell_type": "code",
   "execution_count": 27,
   "metadata": {},
   "outputs": [],
   "source": [
    "data_df = refinery_intake_crude_oil_df.merge(country_codes_df, on='Country')\n",
    "data_tr_df = data_df.melt(id_vars=[\"Country\", \"GDP\", \"CODE\"], \n",
    "        var_name=\"Date\", \n",
    "        value_name=\"Value\")\n",
    "data_tr_df['Value'] = data_tr_df['Value'].apply(lambda x: float(x))"
   ]
  },
  {
   "cell_type": "code",
   "execution_count": 28,
   "metadata": {},
   "outputs": [
    {
     "data": {
      "application/vnd.plotly.v1+json": {
       "config": {
        "plotlyServerURL": "https://plot.ly"
       },
       "data": [
        {
         "coloraxis": "coloraxis",
         "geo": "geo",
         "hovertemplate": "<b>%{hovertext}</b><br><br>Date=Jan-19<br>CODE=%{location}<br>Value=%{z}<extra></extra>",
         "hovertext": [
          "Date: Jan-19<br>Country: Belgium<br>Value: 3118.0<br>",
          "Date: Jan-19<br>Country: Bulgaria<br>Value: 577.0<br>",
          "Date: Jan-19<br>Country: Denmark<br>Value: 683.0<br>",
          "Date: Jan-19<br>Country: Germany<br>Value: 7535.170999999999<br>",
          "Date: Jan-19<br>Country: Estonia<br>Value: 0.0<br>",
          "Date: Jan-19<br>Country: Ireland<br>Value: 244.0<br>",
          "Date: Jan-19<br>Country: Greece<br>Value: 2016.0<br>",
          "Date: Jan-19<br>Country: Spain<br>Value: 5898.0<br>",
          "Date: Jan-19<br>Country: France<br>Value: 4784.0<br>",
          "Date: Jan-19<br>Country: Croatia<br>Value: 13.0<br>",
          "Date: Jan-19<br>Country: Italy<br>Value: 5395.0<br>",
          "Date: Jan-19<br>Country: Cyprus<br>Value: 0.0<br>",
          "Date: Jan-19<br>Country: Latvia<br>Value: 0.0<br>",
          "Date: Jan-19<br>Country: Lithuania<br>Value: 871.0<br>",
          "Date: Jan-19<br>Country: Luxembourg<br>Value: 0.0<br>",
          "Date: Jan-19<br>Country: Hungary<br>Value: 625.0<br>",
          "Date: Jan-19<br>Country: Malta<br>Value: 0.0<br>",
          "Date: Jan-19<br>Country: Netherlands<br>Value: 5032.0<br>",
          "Date: Jan-19<br>Country: Austria<br>Value: 803.0<br>",
          "Date: Jan-19<br>Country: Poland<br>Value: 2267.0<br>",
          "Date: Jan-19<br>Country: Portugal<br>Value: 940.0<br>",
          "Date: Jan-19<br>Country: Romania<br>Value: 1041.0<br>",
          "Date: Jan-19<br>Country: Slovenia<br>Value: 0.0<br>",
          "Date: Jan-19<br>Country: Slovakia<br>Value: 530.0<br>",
          "Date: Jan-19<br>Country: Finland<br>Value: 1026.0<br>",
          "Date: Jan-19<br>Country: Sweden<br>Value: 1535.0<br>",
          "Date: Jan-19<br>Country: United Kingdom<br>Value: 4654.0<br>",
          "Date: Jan-19<br>Country: Norway<br>Value: 1241.0<br>",
          "Date: Jan-19<br>Country: Montenegro<br>Value: nan<br>",
          "Date: Jan-19<br>Country: Albania<br>Value: 21.0<br>",
          "Date: Jan-19<br>Country: Turkey<br>Value: 2189.0<br>"
         ],
         "locations": [
          "BEL",
          "BGR",
          "DNK",
          "DEU",
          "EST",
          "IRL",
          "GRC",
          "ESP",
          "FRA",
          "HRV",
          "ITA",
          "CYP",
          "LVA",
          "LTU",
          "LUX",
          "HUN",
          "MLT",
          "NLD",
          "AUT",
          "POL",
          "PRT",
          "ROU",
          "SVN",
          "SVK",
          "FIN",
          "SWE",
          "GBR",
          "NOR",
          "MNE",
          "ALB",
          "TUR"
         ],
         "name": "",
         "type": "choropleth",
         "z": [
          3118,
          577,
          683,
          7535.170999999999,
          0,
          244,
          2016,
          5898,
          4784,
          13,
          5395,
          0,
          0,
          871,
          0,
          625,
          0,
          5032,
          803,
          2267,
          940,
          1041,
          0,
          530,
          1026,
          1535,
          4654,
          1241,
          null,
          21,
          2189
         ]
        }
       ],
       "frames": [
        {
         "data": [
          {
           "coloraxis": "coloraxis",
           "geo": "geo",
           "hovertemplate": "<b>%{hovertext}</b><br><br>Date=Jan-19<br>CODE=%{location}<br>Value=%{z}<extra></extra>",
           "hovertext": [
            "Date: Jan-19<br>Country: Belgium<br>Value: 3118.0<br>",
            "Date: Jan-19<br>Country: Bulgaria<br>Value: 577.0<br>",
            "Date: Jan-19<br>Country: Denmark<br>Value: 683.0<br>",
            "Date: Jan-19<br>Country: Germany<br>Value: 7535.170999999999<br>",
            "Date: Jan-19<br>Country: Estonia<br>Value: 0.0<br>",
            "Date: Jan-19<br>Country: Ireland<br>Value: 244.0<br>",
            "Date: Jan-19<br>Country: Greece<br>Value: 2016.0<br>",
            "Date: Jan-19<br>Country: Spain<br>Value: 5898.0<br>",
            "Date: Jan-19<br>Country: France<br>Value: 4784.0<br>",
            "Date: Jan-19<br>Country: Croatia<br>Value: 13.0<br>",
            "Date: Jan-19<br>Country: Italy<br>Value: 5395.0<br>",
            "Date: Jan-19<br>Country: Cyprus<br>Value: 0.0<br>",
            "Date: Jan-19<br>Country: Latvia<br>Value: 0.0<br>",
            "Date: Jan-19<br>Country: Lithuania<br>Value: 871.0<br>",
            "Date: Jan-19<br>Country: Luxembourg<br>Value: 0.0<br>",
            "Date: Jan-19<br>Country: Hungary<br>Value: 625.0<br>",
            "Date: Jan-19<br>Country: Malta<br>Value: 0.0<br>",
            "Date: Jan-19<br>Country: Netherlands<br>Value: 5032.0<br>",
            "Date: Jan-19<br>Country: Austria<br>Value: 803.0<br>",
            "Date: Jan-19<br>Country: Poland<br>Value: 2267.0<br>",
            "Date: Jan-19<br>Country: Portugal<br>Value: 940.0<br>",
            "Date: Jan-19<br>Country: Romania<br>Value: 1041.0<br>",
            "Date: Jan-19<br>Country: Slovenia<br>Value: 0.0<br>",
            "Date: Jan-19<br>Country: Slovakia<br>Value: 530.0<br>",
            "Date: Jan-19<br>Country: Finland<br>Value: 1026.0<br>",
            "Date: Jan-19<br>Country: Sweden<br>Value: 1535.0<br>",
            "Date: Jan-19<br>Country: United Kingdom<br>Value: 4654.0<br>",
            "Date: Jan-19<br>Country: Norway<br>Value: 1241.0<br>",
            "Date: Jan-19<br>Country: Montenegro<br>Value: nan<br>",
            "Date: Jan-19<br>Country: Albania<br>Value: 21.0<br>",
            "Date: Jan-19<br>Country: Turkey<br>Value: 2189.0<br>"
           ],
           "locations": [
            "BEL",
            "BGR",
            "DNK",
            "DEU",
            "EST",
            "IRL",
            "GRC",
            "ESP",
            "FRA",
            "HRV",
            "ITA",
            "CYP",
            "LVA",
            "LTU",
            "LUX",
            "HUN",
            "MLT",
            "NLD",
            "AUT",
            "POL",
            "PRT",
            "ROU",
            "SVN",
            "SVK",
            "FIN",
            "SWE",
            "GBR",
            "NOR",
            "MNE",
            "ALB",
            "TUR"
           ],
           "name": "",
           "type": "choropleth",
           "z": [
            3118,
            577,
            683,
            7535.170999999999,
            0,
            244,
            2016,
            5898,
            4784,
            13,
            5395,
            0,
            0,
            871,
            0,
            625,
            0,
            5032,
            803,
            2267,
            940,
            1041,
            0,
            530,
            1026,
            1535,
            4654,
            1241,
            null,
            21,
            2189
           ]
          }
         ],
         "name": "Jan-19"
        },
        {
         "data": [
          {
           "coloraxis": "coloraxis",
           "geo": "geo",
           "hovertemplate": "<b>%{hovertext}</b><br><br>Date=Feb-19<br>CODE=%{location}<br>Value=%{z}<extra></extra>",
           "hovertext": [
            "Date: Feb-19<br>Country: Belgium<br>Value: 2828.0<br>",
            "Date: Feb-19<br>Country: Bulgaria<br>Value: 527.0<br>",
            "Date: Feb-19<br>Country: Denmark<br>Value: 622.0<br>",
            "Date: Feb-19<br>Country: Germany<br>Value: 6502.018<br>",
            "Date: Feb-19<br>Country: Estonia<br>Value: 0.0<br>",
            "Date: Feb-19<br>Country: Ireland<br>Value: 203.0<br>",
            "Date: Feb-19<br>Country: Greece<br>Value: 1806.0<br>",
            "Date: Feb-19<br>Country: Spain<br>Value: 4961.0<br>",
            "Date: Feb-19<br>Country: France<br>Value: 4387.0<br>",
            "Date: Feb-19<br>Country: Croatia<br>Value: 60.0<br>",
            "Date: Feb-19<br>Country: Italy<br>Value: 4567.0<br>",
            "Date: Feb-19<br>Country: Cyprus<br>Value: 0.0<br>",
            "Date: Feb-19<br>Country: Latvia<br>Value: 0.0<br>",
            "Date: Feb-19<br>Country: Lithuania<br>Value: 605.0<br>",
            "Date: Feb-19<br>Country: Luxembourg<br>Value: 0.0<br>",
            "Date: Feb-19<br>Country: Hungary<br>Value: 536.0<br>",
            "Date: Feb-19<br>Country: Malta<br>Value: 0.0<br>",
            "Date: Feb-19<br>Country: Netherlands<br>Value: 4259.0<br>",
            "Date: Feb-19<br>Country: Austria<br>Value: 711.0<br>",
            "Date: Feb-19<br>Country: Poland<br>Value: 2154.0<br>",
            "Date: Feb-19<br>Country: Portugal<br>Value: 780.0<br>",
            "Date: Feb-19<br>Country: Romania<br>Value: 940.0<br>",
            "Date: Feb-19<br>Country: Slovenia<br>Value: 0.0<br>",
            "Date: Feb-19<br>Country: Slovakia<br>Value: 479.0<br>",
            "Date: Feb-19<br>Country: Finland<br>Value: 843.0<br>",
            "Date: Feb-19<br>Country: Sweden<br>Value: 1403.0<br>",
            "Date: Feb-19<br>Country: United Kingdom<br>Value: 4045.0<br>",
            "Date: Feb-19<br>Country: Norway<br>Value: 1175.0<br>",
            "Date: Feb-19<br>Country: Montenegro<br>Value: nan<br>",
            "Date: Feb-19<br>Country: Albania<br>Value: 32.0<br>",
            "Date: Feb-19<br>Country: Turkey<br>Value: 2456.0<br>"
           ],
           "locations": [
            "BEL",
            "BGR",
            "DNK",
            "DEU",
            "EST",
            "IRL",
            "GRC",
            "ESP",
            "FRA",
            "HRV",
            "ITA",
            "CYP",
            "LVA",
            "LTU",
            "LUX",
            "HUN",
            "MLT",
            "NLD",
            "AUT",
            "POL",
            "PRT",
            "ROU",
            "SVN",
            "SVK",
            "FIN",
            "SWE",
            "GBR",
            "NOR",
            "MNE",
            "ALB",
            "TUR"
           ],
           "name": "",
           "type": "choropleth",
           "z": [
            2828,
            527,
            622,
            6502.018,
            0,
            203,
            1806,
            4961,
            4387,
            60,
            4567,
            0,
            0,
            605,
            0,
            536,
            0,
            4259,
            711,
            2154,
            780,
            940,
            0,
            479,
            843,
            1403,
            4045,
            1175,
            null,
            32,
            2456
           ]
          }
         ],
         "name": "Feb-19"
        },
        {
         "data": [
          {
           "coloraxis": "coloraxis",
           "geo": "geo",
           "hovertemplate": "<b>%{hovertext}</b><br><br>Date=Mar-19<br>CODE=%{location}<br>Value=%{z}<extra></extra>",
           "hovertext": [
            "Date: Mar-19<br>Country: Belgium<br>Value: 3007.0<br>",
            "Date: Mar-19<br>Country: Bulgaria<br>Value: 347.0<br>",
            "Date: Mar-19<br>Country: Denmark<br>Value: 669.0<br>",
            "Date: Mar-19<br>Country: Germany<br>Value: 7179.975<br>",
            "Date: Mar-19<br>Country: Estonia<br>Value: 0.0<br>",
            "Date: Mar-19<br>Country: Ireland<br>Value: 230.0<br>",
            "Date: Mar-19<br>Country: Greece<br>Value: 2050.0<br>",
            "Date: Mar-19<br>Country: Spain<br>Value: 5805.0<br>",
            "Date: Mar-19<br>Country: France<br>Value: 4314.0<br>",
            "Date: Mar-19<br>Country: Croatia<br>Value: 92.0<br>",
            "Date: Mar-19<br>Country: Italy<br>Value: 5234.0<br>",
            "Date: Mar-19<br>Country: Cyprus<br>Value: 0.0<br>",
            "Date: Mar-19<br>Country: Latvia<br>Value: 0.0<br>",
            "Date: Mar-19<br>Country: Lithuania<br>Value: 746.0<br>",
            "Date: Mar-19<br>Country: Luxembourg<br>Value: 0.0<br>",
            "Date: Mar-19<br>Country: Hungary<br>Value: 616.0<br>",
            "Date: Mar-19<br>Country: Malta<br>Value: 0.0<br>",
            "Date: Mar-19<br>Country: Netherlands<br>Value: 4910.0<br>",
            "Date: Mar-19<br>Country: Austria<br>Value: 779.0<br>",
            "Date: Mar-19<br>Country: Poland<br>Value: 2345.0<br>",
            "Date: Mar-19<br>Country: Portugal<br>Value: 919.0<br>",
            "Date: Mar-19<br>Country: Romania<br>Value: 869.0<br>",
            "Date: Mar-19<br>Country: Slovenia<br>Value: 0.0<br>",
            "Date: Mar-19<br>Country: Slovakia<br>Value: 509.0<br>",
            "Date: Mar-19<br>Country: Finland<br>Value: 1020.0<br>",
            "Date: Mar-19<br>Country: Sweden<br>Value: 1300.0<br>",
            "Date: Mar-19<br>Country: United Kingdom<br>Value: 4190.0<br>",
            "Date: Mar-19<br>Country: Norway<br>Value: 1232.0<br>",
            "Date: Mar-19<br>Country: Montenegro<br>Value: nan<br>",
            "Date: Mar-19<br>Country: Albania<br>Value: 38.0<br>",
            "Date: Mar-19<br>Country: Turkey<br>Value: 2744.0<br>"
           ],
           "locations": [
            "BEL",
            "BGR",
            "DNK",
            "DEU",
            "EST",
            "IRL",
            "GRC",
            "ESP",
            "FRA",
            "HRV",
            "ITA",
            "CYP",
            "LVA",
            "LTU",
            "LUX",
            "HUN",
            "MLT",
            "NLD",
            "AUT",
            "POL",
            "PRT",
            "ROU",
            "SVN",
            "SVK",
            "FIN",
            "SWE",
            "GBR",
            "NOR",
            "MNE",
            "ALB",
            "TUR"
           ],
           "name": "",
           "type": "choropleth",
           "z": [
            3007,
            347,
            669,
            7179.975,
            0,
            230,
            2050,
            5805,
            4314,
            92,
            5234,
            0,
            0,
            746,
            0,
            616,
            0,
            4910,
            779,
            2345,
            919,
            869,
            0,
            509,
            1020,
            1300,
            4190,
            1232,
            null,
            38,
            2744
           ]
          }
         ],
         "name": "Mar-19"
        },
        {
         "data": [
          {
           "coloraxis": "coloraxis",
           "geo": "geo",
           "hovertemplate": "<b>%{hovertext}</b><br><br>Date=Apr-19<br>CODE=%{location}<br>Value=%{z}<extra></extra>",
           "hovertext": [
            "Date: Apr-19<br>Country: Belgium<br>Value: 2947.0<br>",
            "Date: Apr-19<br>Country: Bulgaria<br>Value: 565.0<br>",
            "Date: Apr-19<br>Country: Denmark<br>Value: 651.0<br>",
            "Date: Apr-19<br>Country: Germany<br>Value: 6870.24<br>",
            "Date: Apr-19<br>Country: Estonia<br>Value: 0.0<br>",
            "Date: Apr-19<br>Country: Ireland<br>Value: 203.0<br>",
            "Date: Apr-19<br>Country: Greece<br>Value: 1876.0<br>",
            "Date: Apr-19<br>Country: Spain<br>Value: 5681.0<br>",
            "Date: Apr-19<br>Country: France<br>Value: 4185.0<br>",
            "Date: Apr-19<br>Country: Croatia<br>Value: 19.0<br>",
            "Date: Apr-19<br>Country: Italy<br>Value: 5289.0<br>",
            "Date: Apr-19<br>Country: Cyprus<br>Value: 0.0<br>",
            "Date: Apr-19<br>Country: Latvia<br>Value: 0.0<br>",
            "Date: Apr-19<br>Country: Lithuania<br>Value: 719.0<br>",
            "Date: Apr-19<br>Country: Luxembourg<br>Value: 0.0<br>",
            "Date: Apr-19<br>Country: Hungary<br>Value: 627.0<br>",
            "Date: Apr-19<br>Country: Malta<br>Value: 0.0<br>",
            "Date: Apr-19<br>Country: Netherlands<br>Value: 4452.0<br>",
            "Date: Apr-19<br>Country: Austria<br>Value: 757.0<br>",
            "Date: Apr-19<br>Country: Poland<br>Value: 2273.0<br>",
            "Date: Apr-19<br>Country: Portugal<br>Value: 993.0<br>",
            "Date: Apr-19<br>Country: Romania<br>Value: 958.0<br>",
            "Date: Apr-19<br>Country: Slovenia<br>Value: 0.0<br>",
            "Date: Apr-19<br>Country: Slovakia<br>Value: 460.0<br>",
            "Date: Apr-19<br>Country: Finland<br>Value: 995.0<br>",
            "Date: Apr-19<br>Country: Sweden<br>Value: 1197.0<br>",
            "Date: Apr-19<br>Country: United Kingdom<br>Value: 4300.0<br>",
            "Date: Apr-19<br>Country: Norway<br>Value: 1229.0<br>",
            "Date: Apr-19<br>Country: Montenegro<br>Value: nan<br>",
            "Date: Apr-19<br>Country: Albania<br>Value: 37.0<br>",
            "Date: Apr-19<br>Country: Turkey<br>Value: 2820.0<br>"
           ],
           "locations": [
            "BEL",
            "BGR",
            "DNK",
            "DEU",
            "EST",
            "IRL",
            "GRC",
            "ESP",
            "FRA",
            "HRV",
            "ITA",
            "CYP",
            "LVA",
            "LTU",
            "LUX",
            "HUN",
            "MLT",
            "NLD",
            "AUT",
            "POL",
            "PRT",
            "ROU",
            "SVN",
            "SVK",
            "FIN",
            "SWE",
            "GBR",
            "NOR",
            "MNE",
            "ALB",
            "TUR"
           ],
           "name": "",
           "type": "choropleth",
           "z": [
            2947,
            565,
            651,
            6870.24,
            0,
            203,
            1876,
            5681,
            4185,
            19,
            5289,
            0,
            0,
            719,
            0,
            627,
            0,
            4452,
            757,
            2273,
            993,
            958,
            0,
            460,
            995,
            1197,
            4300,
            1229,
            null,
            37,
            2820
           ]
          }
         ],
         "name": "Apr-19"
        },
        {
         "data": [
          {
           "coloraxis": "coloraxis",
           "geo": "geo",
           "hovertemplate": "<b>%{hovertext}</b><br><br>Date=May-19<br>CODE=%{location}<br>Value=%{z}<extra></extra>",
           "hovertext": [
            "Date: May-19<br>Country: Belgium<br>Value: 2871.0<br>",
            "Date: May-19<br>Country: Bulgaria<br>Value: 625.0<br>",
            "Date: May-19<br>Country: Denmark<br>Value: 664.0<br>",
            "Date: May-19<br>Country: Germany<br>Value: 6848.166<br>",
            "Date: May-19<br>Country: Estonia<br>Value: 0.0<br>",
            "Date: May-19<br>Country: Ireland<br>Value: 48.0<br>",
            "Date: May-19<br>Country: Greece<br>Value: 1950.0<br>",
            "Date: May-19<br>Country: Spain<br>Value: 5480.0<br>",
            "Date: May-19<br>Country: France<br>Value: 4101.0<br>",
            "Date: May-19<br>Country: Croatia<br>Value: 81.0<br>",
            "Date: May-19<br>Country: Italy<br>Value: 5608.0<br>",
            "Date: May-19<br>Country: Cyprus<br>Value: 0.0<br>",
            "Date: May-19<br>Country: Latvia<br>Value: 0.0<br>",
            "Date: May-19<br>Country: Lithuania<br>Value: 839.0<br>",
            "Date: May-19<br>Country: Luxembourg<br>Value: 0.0<br>",
            "Date: May-19<br>Country: Hungary<br>Value: 589.0<br>",
            "Date: May-19<br>Country: Malta<br>Value: 0.0<br>",
            "Date: May-19<br>Country: Netherlands<br>Value: 4396.0<br>",
            "Date: May-19<br>Country: Austria<br>Value: 778.0<br>",
            "Date: May-19<br>Country: Poland<br>Value: 2204.0<br>",
            "Date: May-19<br>Country: Portugal<br>Value: 1122.0<br>",
            "Date: May-19<br>Country: Romania<br>Value: 1070.0<br>",
            "Date: May-19<br>Country: Slovenia<br>Value: 0.0<br>",
            "Date: May-19<br>Country: Slovakia<br>Value: 189.0<br>",
            "Date: May-19<br>Country: Finland<br>Value: 1070.0<br>",
            "Date: May-19<br>Country: Sweden<br>Value: 1200.0<br>",
            "Date: May-19<br>Country: United Kingdom<br>Value: 4224.0<br>",
            "Date: May-19<br>Country: Norway<br>Value: 1247.0<br>",
            "Date: May-19<br>Country: Montenegro<br>Value: nan<br>",
            "Date: May-19<br>Country: Albania<br>Value: 14.0<br>",
            "Date: May-19<br>Country: Turkey<br>Value: 2823.0<br>"
           ],
           "locations": [
            "BEL",
            "BGR",
            "DNK",
            "DEU",
            "EST",
            "IRL",
            "GRC",
            "ESP",
            "FRA",
            "HRV",
            "ITA",
            "CYP",
            "LVA",
            "LTU",
            "LUX",
            "HUN",
            "MLT",
            "NLD",
            "AUT",
            "POL",
            "PRT",
            "ROU",
            "SVN",
            "SVK",
            "FIN",
            "SWE",
            "GBR",
            "NOR",
            "MNE",
            "ALB",
            "TUR"
           ],
           "name": "",
           "type": "choropleth",
           "z": [
            2871,
            625,
            664,
            6848.166,
            0,
            48,
            1950,
            5480,
            4101,
            81,
            5608,
            0,
            0,
            839,
            0,
            589,
            0,
            4396,
            778,
            2204,
            1122,
            1070,
            0,
            189,
            1070,
            1200,
            4224,
            1247,
            null,
            14,
            2823
           ]
          }
         ],
         "name": "May-19"
        },
        {
         "data": [
          {
           "coloraxis": "coloraxis",
           "geo": "geo",
           "hovertemplate": "<b>%{hovertext}</b><br><br>Date=Jun-19<br>CODE=%{location}<br>Value=%{z}<extra></extra>",
           "hovertext": [
            "Date: Jun-19<br>Country: Belgium<br>Value: 2836.0<br>",
            "Date: Jun-19<br>Country: Bulgaria<br>Value: 598.0<br>",
            "Date: Jun-19<br>Country: Denmark<br>Value: 601.0<br>",
            "Date: Jun-19<br>Country: Germany<br>Value: 7007.769<br>",
            "Date: Jun-19<br>Country: Estonia<br>Value: 0.0<br>",
            "Date: Jun-19<br>Country: Ireland<br>Value: 74.0<br>",
            "Date: Jun-19<br>Country: Greece<br>Value: 1916.0<br>",
            "Date: Jun-19<br>Country: Spain<br>Value: 4992.0<br>",
            "Date: Jun-19<br>Country: France<br>Value: 3612.0<br>",
            "Date: Jun-19<br>Country: Croatia<br>Value: 327.0<br>",
            "Date: Jun-19<br>Country: Italy<br>Value: 5586.0<br>",
            "Date: Jun-19<br>Country: Cyprus<br>Value: 0.0<br>",
            "Date: Jun-19<br>Country: Latvia<br>Value: 0.0<br>",
            "Date: Jun-19<br>Country: Lithuania<br>Value: 852.0<br>",
            "Date: Jun-19<br>Country: Luxembourg<br>Value: 0.0<br>",
            "Date: Jun-19<br>Country: Hungary<br>Value: 607.0<br>",
            "Date: Jun-19<br>Country: Malta<br>Value: 0.0<br>",
            "Date: Jun-19<br>Country: Netherlands<br>Value: 3921.0<br>",
            "Date: Jun-19<br>Country: Austria<br>Value: 748.0<br>",
            "Date: Jun-19<br>Country: Poland<br>Value: 2271.0<br>",
            "Date: Jun-19<br>Country: Portugal<br>Value: 1042.0<br>",
            "Date: Jun-19<br>Country: Romania<br>Value: 1033.0<br>",
            "Date: Jun-19<br>Country: Slovenia<br>Value: 0.0<br>",
            "Date: Jun-19<br>Country: Slovakia<br>Value: 241.0<br>",
            "Date: Jun-19<br>Country: Finland<br>Value: 978.0<br>",
            "Date: Jun-19<br>Country: Sweden<br>Value: 1736.0<br>",
            "Date: Jun-19<br>Country: United Kingdom<br>Value: 3895.0<br>",
            "Date: Jun-19<br>Country: Norway<br>Value: 1277.0<br>",
            "Date: Jun-19<br>Country: Montenegro<br>Value: nan<br>",
            "Date: Jun-19<br>Country: Albania<br>Value: 50.0<br>",
            "Date: Jun-19<br>Country: Turkey<br>Value: 2488.0<br>"
           ],
           "locations": [
            "BEL",
            "BGR",
            "DNK",
            "DEU",
            "EST",
            "IRL",
            "GRC",
            "ESP",
            "FRA",
            "HRV",
            "ITA",
            "CYP",
            "LVA",
            "LTU",
            "LUX",
            "HUN",
            "MLT",
            "NLD",
            "AUT",
            "POL",
            "PRT",
            "ROU",
            "SVN",
            "SVK",
            "FIN",
            "SWE",
            "GBR",
            "NOR",
            "MNE",
            "ALB",
            "TUR"
           ],
           "name": "",
           "type": "choropleth",
           "z": [
            2836,
            598,
            601,
            7007.769,
            0,
            74,
            1916,
            4992,
            3612,
            327,
            5586,
            0,
            0,
            852,
            0,
            607,
            0,
            3921,
            748,
            2271,
            1042,
            1033,
            0,
            241,
            978,
            1736,
            3895,
            1277,
            null,
            50,
            2488
           ]
          }
         ],
         "name": "Jun-19"
        },
        {
         "data": [
          {
           "coloraxis": "coloraxis",
           "geo": "geo",
           "hovertemplate": "<b>%{hovertext}</b><br><br>Date=Jul-19<br>CODE=%{location}<br>Value=%{z}<extra></extra>",
           "hovertext": [
            "Date: Jul-19<br>Country: Belgium<br>Value: 2890.0<br>",
            "Date: Jul-19<br>Country: Bulgaria<br>Value: 617.0<br>",
            "Date: Jul-19<br>Country: Denmark<br>Value: 656.0<br>",
            "Date: Jul-19<br>Country: Germany<br>Value: 7803.238<br>",
            "Date: Jul-19<br>Country: Estonia<br>Value: 0.0<br>",
            "Date: Jul-19<br>Country: Ireland<br>Value: 230.0<br>",
            "Date: Jul-19<br>Country: Greece<br>Value: 2116.0<br>",
            "Date: Jul-19<br>Country: Spain<br>Value: 5517.0<br>",
            "Date: Jul-19<br>Country: France<br>Value: 4490.0<br>",
            "Date: Jul-19<br>Country: Croatia<br>Value: 387.0<br>",
            "Date: Jul-19<br>Country: Italy<br>Value: 6134.0<br>",
            "Date: Jul-19<br>Country: Cyprus<br>Value: 0.0<br>",
            "Date: Jul-19<br>Country: Latvia<br>Value: 0.0<br>",
            "Date: Jul-19<br>Country: Lithuania<br>Value: 880.0<br>",
            "Date: Jul-19<br>Country: Luxembourg<br>Value: 0.0<br>",
            "Date: Jul-19<br>Country: Hungary<br>Value: 549.0<br>",
            "Date: Jul-19<br>Country: Malta<br>Value: 0.0<br>",
            "Date: Jul-19<br>Country: Netherlands<br>Value: 4866.0<br>",
            "Date: Jul-19<br>Country: Austria<br>Value: 765.0<br>",
            "Date: Jul-19<br>Country: Poland<br>Value: 2397.0<br>",
            "Date: Jul-19<br>Country: Portugal<br>Value: 1170.0<br>",
            "Date: Jul-19<br>Country: Romania<br>Value: 1037.0<br>",
            "Date: Jul-19<br>Country: Slovenia<br>Value: 0.0<br>",
            "Date: Jul-19<br>Country: Slovakia<br>Value: 332.0<br>",
            "Date: Jul-19<br>Country: Finland<br>Value: 1032.0<br>",
            "Date: Jul-19<br>Country: Sweden<br>Value: 1811.0<br>",
            "Date: Jul-19<br>Country: United Kingdom<br>Value: 4379.0<br>",
            "Date: Jul-19<br>Country: Norway<br>Value: 1339.0<br>",
            "Date: Jul-19<br>Country: Montenegro<br>Value: nan<br>",
            "Date: Jul-19<br>Country: Albania<br>Value: 41.0<br>",
            "Date: Jul-19<br>Country: Turkey<br>Value: 3023.0<br>"
           ],
           "locations": [
            "BEL",
            "BGR",
            "DNK",
            "DEU",
            "EST",
            "IRL",
            "GRC",
            "ESP",
            "FRA",
            "HRV",
            "ITA",
            "CYP",
            "LVA",
            "LTU",
            "LUX",
            "HUN",
            "MLT",
            "NLD",
            "AUT",
            "POL",
            "PRT",
            "ROU",
            "SVN",
            "SVK",
            "FIN",
            "SWE",
            "GBR",
            "NOR",
            "MNE",
            "ALB",
            "TUR"
           ],
           "name": "",
           "type": "choropleth",
           "z": [
            2890,
            617,
            656,
            7803.238,
            0,
            230,
            2116,
            5517,
            4490,
            387,
            6134,
            0,
            0,
            880,
            0,
            549,
            0,
            4866,
            765,
            2397,
            1170,
            1037,
            0,
            332,
            1032,
            1811,
            4379,
            1339,
            null,
            41,
            3023
           ]
          }
         ],
         "name": "Jul-19"
        },
        {
         "data": [
          {
           "coloraxis": "coloraxis",
           "geo": "geo",
           "hovertemplate": "<b>%{hovertext}</b><br><br>Date=Aug-19<br>CODE=%{location}<br>Value=%{z}<extra></extra>",
           "hovertext": [
            "Date: Aug-19<br>Country: Belgium<br>Value: 2968.0<br>",
            "Date: Aug-19<br>Country: Bulgaria<br>Value: 613.0<br>",
            "Date: Aug-19<br>Country: Denmark<br>Value: 628.0<br>",
            "Date: Aug-19<br>Country: Germany<br>Value: 7505.33<br>",
            "Date: Aug-19<br>Country: Estonia<br>Value: 0.0<br>",
            "Date: Aug-19<br>Country: Ireland<br>Value: 257.0<br>",
            "Date: Aug-19<br>Country: Greece<br>Value: 2089.0<br>",
            "Date: Aug-19<br>Country: Spain<br>Value: 6000.0<br>",
            "Date: Aug-19<br>Country: France<br>Value: 4714.0<br>",
            "Date: Aug-19<br>Country: Croatia<br>Value: 388.0<br>",
            "Date: Aug-19<br>Country: Italy<br>Value: 6353.0<br>",
            "Date: Aug-19<br>Country: Cyprus<br>Value: 0.0<br>",
            "Date: Aug-19<br>Country: Latvia<br>Value: 0.0<br>",
            "Date: Aug-19<br>Country: Lithuania<br>Value: 881.0<br>",
            "Date: Aug-19<br>Country: Luxembourg<br>Value: 0.0<br>",
            "Date: Aug-19<br>Country: Hungary<br>Value: 528.0<br>",
            "Date: Aug-19<br>Country: Malta<br>Value: 0.0<br>",
            "Date: Aug-19<br>Country: Netherlands<br>Value: 4896.0<br>",
            "Date: Aug-19<br>Country: Austria<br>Value: 802.0<br>",
            "Date: Aug-19<br>Country: Poland<br>Value: 2361.0<br>",
            "Date: Aug-19<br>Country: Portugal<br>Value: 545.0<br>",
            "Date: Aug-19<br>Country: Romania<br>Value: 1043.0<br>",
            "Date: Aug-19<br>Country: Slovenia<br>Value: 0.0<br>",
            "Date: Aug-19<br>Country: Slovakia<br>Value: 433.0<br>",
            "Date: Aug-19<br>Country: Finland<br>Value: 1073.0<br>",
            "Date: Aug-19<br>Country: Sweden<br>Value: 1751.0<br>",
            "Date: Aug-19<br>Country: United Kingdom<br>Value: 4568.0<br>",
            "Date: Aug-19<br>Country: Norway<br>Value: 1211.0<br>",
            "Date: Aug-19<br>Country: Montenegro<br>Value: nan<br>",
            "Date: Aug-19<br>Country: Albania<br>Value: 40.0<br>",
            "Date: Aug-19<br>Country: Turkey<br>Value: 3168.0<br>"
           ],
           "locations": [
            "BEL",
            "BGR",
            "DNK",
            "DEU",
            "EST",
            "IRL",
            "GRC",
            "ESP",
            "FRA",
            "HRV",
            "ITA",
            "CYP",
            "LVA",
            "LTU",
            "LUX",
            "HUN",
            "MLT",
            "NLD",
            "AUT",
            "POL",
            "PRT",
            "ROU",
            "SVN",
            "SVK",
            "FIN",
            "SWE",
            "GBR",
            "NOR",
            "MNE",
            "ALB",
            "TUR"
           ],
           "name": "",
           "type": "choropleth",
           "z": [
            2968,
            613,
            628,
            7505.33,
            0,
            257,
            2089,
            6000,
            4714,
            388,
            6353,
            0,
            0,
            881,
            0,
            528,
            0,
            4896,
            802,
            2361,
            545,
            1043,
            0,
            433,
            1073,
            1751,
            4568,
            1211,
            null,
            40,
            3168
           ]
          }
         ],
         "name": "Aug-19"
        },
        {
         "data": [
          {
           "coloraxis": "coloraxis",
           "geo": "geo",
           "hovertemplate": "<b>%{hovertext}</b><br><br>Date=Sep-19<br>CODE=%{location}<br>Value=%{z}<extra></extra>",
           "hovertext": [
            "Date: Sep-19<br>Country: Belgium<br>Value: 2719.0<br>",
            "Date: Sep-19<br>Country: Bulgaria<br>Value: 574.0<br>",
            "Date: Sep-19<br>Country: Denmark<br>Value: 498.0<br>",
            "Date: Sep-19<br>Country: Germany<br>Value: 7201.172<br>",
            "Date: Sep-19<br>Country: Estonia<br>Value: 0.0<br>",
            "Date: Sep-19<br>Country: Ireland<br>Value: 270.0<br>",
            "Date: Sep-19<br>Country: Greece<br>Value: 1985.0<br>",
            "Date: Sep-19<br>Country: Spain<br>Value: 5279.0<br>",
            "Date: Sep-19<br>Country: France<br>Value: 3932.0<br>",
            "Date: Sep-19<br>Country: Croatia<br>Value: 269.0<br>",
            "Date: Sep-19<br>Country: Italy<br>Value: 6053.0<br>",
            "Date: Sep-19<br>Country: Cyprus<br>Value: 0.0<br>",
            "Date: Sep-19<br>Country: Latvia<br>Value: 0.0<br>",
            "Date: Sep-19<br>Country: Lithuania<br>Value: 835.0<br>",
            "Date: Sep-19<br>Country: Luxembourg<br>Value: 0.0<br>",
            "Date: Sep-19<br>Country: Hungary<br>Value: 326.0<br>",
            "Date: Sep-19<br>Country: Malta<br>Value: 0.0<br>",
            "Date: Sep-19<br>Country: Netherlands<br>Value: 4799.0<br>",
            "Date: Sep-19<br>Country: Austria<br>Value: 692.0<br>",
            "Date: Sep-19<br>Country: Poland<br>Value: 2253.0<br>",
            "Date: Sep-19<br>Country: Portugal<br>Value: 386.0<br>",
            "Date: Sep-19<br>Country: Romania<br>Value: 1038.0<br>",
            "Date: Sep-19<br>Country: Slovenia<br>Value: 0.0<br>",
            "Date: Sep-19<br>Country: Slovakia<br>Value: 513.0<br>",
            "Date: Sep-19<br>Country: Finland<br>Value: 913.0<br>",
            "Date: Sep-19<br>Country: Sweden<br>Value: 1120.0<br>",
            "Date: Sep-19<br>Country: United Kingdom<br>Value: 4159.0<br>",
            "Date: Sep-19<br>Country: Norway<br>Value: 1045.0<br>",
            "Date: Sep-19<br>Country: Montenegro<br>Value: nan<br>",
            "Date: Sep-19<br>Country: Albania<br>Value: 5.0<br>",
            "Date: Sep-19<br>Country: Turkey<br>Value: 3078.0<br>"
           ],
           "locations": [
            "BEL",
            "BGR",
            "DNK",
            "DEU",
            "EST",
            "IRL",
            "GRC",
            "ESP",
            "FRA",
            "HRV",
            "ITA",
            "CYP",
            "LVA",
            "LTU",
            "LUX",
            "HUN",
            "MLT",
            "NLD",
            "AUT",
            "POL",
            "PRT",
            "ROU",
            "SVN",
            "SVK",
            "FIN",
            "SWE",
            "GBR",
            "NOR",
            "MNE",
            "ALB",
            "TUR"
           ],
           "name": "",
           "type": "choropleth",
           "z": [
            2719,
            574,
            498,
            7201.172,
            0,
            270,
            1985,
            5279,
            3932,
            269,
            6053,
            0,
            0,
            835,
            0,
            326,
            0,
            4799,
            692,
            2253,
            386,
            1038,
            0,
            513,
            913,
            1120,
            4159,
            1045,
            null,
            5,
            3078
           ]
          }
         ],
         "name": "Sep-19"
        },
        {
         "data": [
          {
           "coloraxis": "coloraxis",
           "geo": "geo",
           "hovertemplate": "<b>%{hovertext}</b><br><br>Date=Oct-19<br>CODE=%{location}<br>Value=%{z}<extra></extra>",
           "hovertext": [
            "Date: Oct-19<br>Country: Belgium<br>Value: 2801.0<br>",
            "Date: Oct-19<br>Country: Bulgaria<br>Value: 646.0<br>",
            "Date: Oct-19<br>Country: Denmark<br>Value: 668.0<br>",
            "Date: Oct-19<br>Country: Germany<br>Value: 7653.534000000001<br>",
            "Date: Oct-19<br>Country: Estonia<br>Value: 0.0<br>",
            "Date: Oct-19<br>Country: Ireland<br>Value: 258.0<br>",
            "Date: Oct-19<br>Country: Greece<br>Value: 1751.0<br>",
            "Date: Oct-19<br>Country: Spain<br>Value: 5734.0<br>",
            "Date: Oct-19<br>Country: France<br>Value: 3444.0<br>",
            "Date: Oct-19<br>Country: Croatia<br>Value: 349.0<br>",
            "Date: Oct-19<br>Country: Italy<br>Value: 5672.0<br>",
            "Date: Oct-19<br>Country: Cyprus<br>Value: 0.0<br>",
            "Date: Oct-19<br>Country: Latvia<br>Value: 0.0<br>",
            "Date: Oct-19<br>Country: Lithuania<br>Value: 812.0<br>",
            "Date: Oct-19<br>Country: Luxembourg<br>Value: 0.0<br>",
            "Date: Oct-19<br>Country: Hungary<br>Value: 589.0<br>",
            "Date: Oct-19<br>Country: Malta<br>Value: 0.0<br>",
            "Date: Oct-19<br>Country: Netherlands<br>Value: 5025.0<br>",
            "Date: Oct-19<br>Country: Austria<br>Value: 813.0<br>",
            "Date: Oct-19<br>Country: Poland<br>Value: 2252.0<br>",
            "Date: Oct-19<br>Country: Portugal<br>Value: 923.0<br>",
            "Date: Oct-19<br>Country: Romania<br>Value: 1086.0<br>",
            "Date: Oct-19<br>Country: Slovenia<br>Value: 0.0<br>",
            "Date: Oct-19<br>Country: Slovakia<br>Value: 438.0<br>",
            "Date: Oct-19<br>Country: Finland<br>Value: 1054.0<br>",
            "Date: Oct-19<br>Country: Sweden<br>Value: 945.0<br>",
            "Date: Oct-19<br>Country: United Kingdom<br>Value: 4616.0<br>",
            "Date: Oct-19<br>Country: Norway<br>Value: 1028.0<br>",
            "Date: Oct-19<br>Country: Montenegro<br>Value: nan<br>",
            "Date: Oct-19<br>Country: Albania<br>Value: 5.0<br>",
            "Date: Oct-19<br>Country: Turkey<br>Value: 3087.0<br>"
           ],
           "locations": [
            "BEL",
            "BGR",
            "DNK",
            "DEU",
            "EST",
            "IRL",
            "GRC",
            "ESP",
            "FRA",
            "HRV",
            "ITA",
            "CYP",
            "LVA",
            "LTU",
            "LUX",
            "HUN",
            "MLT",
            "NLD",
            "AUT",
            "POL",
            "PRT",
            "ROU",
            "SVN",
            "SVK",
            "FIN",
            "SWE",
            "GBR",
            "NOR",
            "MNE",
            "ALB",
            "TUR"
           ],
           "name": "",
           "type": "choropleth",
           "z": [
            2801,
            646,
            668,
            7653.534000000001,
            0,
            258,
            1751,
            5734,
            3444,
            349,
            5672,
            0,
            0,
            812,
            0,
            589,
            0,
            5025,
            813,
            2252,
            923,
            1086,
            0,
            438,
            1054,
            945,
            4616,
            1028,
            null,
            5,
            3087
           ]
          }
         ],
         "name": "Oct-19"
        },
        {
         "data": [
          {
           "coloraxis": "coloraxis",
           "geo": "geo",
           "hovertemplate": "<b>%{hovertext}</b><br><br>Date=Nov-19<br>CODE=%{location}<br>Value=%{z}<extra></extra>",
           "hovertext": [
            "Date: Nov-19<br>Country: Belgium<br>Value: 2803.0<br>",
            "Date: Nov-19<br>Country: Bulgaria<br>Value: 585.0<br>",
            "Date: Nov-19<br>Country: Denmark<br>Value: 639.0<br>",
            "Date: Nov-19<br>Country: Germany<br>Value: 7292.838000000001<br>",
            "Date: Nov-19<br>Country: Estonia<br>Value: 0.0<br>",
            "Date: Nov-19<br>Country: Ireland<br>Value: 248.0<br>",
            "Date: Nov-19<br>Country: Greece<br>Value: 1586.0<br>",
            "Date: Nov-19<br>Country: Spain<br>Value: 4802.0<br>",
            "Date: Nov-19<br>Country: France<br>Value: 3258.0<br>",
            "Date: Nov-19<br>Country: Croatia<br>Value: 327.0<br>",
            "Date: Nov-19<br>Country: Italy<br>Value: 5517.0<br>",
            "Date: Nov-19<br>Country: Cyprus<br>Value: 0.0<br>",
            "Date: Nov-19<br>Country: Latvia<br>Value: 0.0<br>",
            "Date: Nov-19<br>Country: Lithuania<br>Value: 800.0<br>",
            "Date: Nov-19<br>Country: Luxembourg<br>Value: 0.0<br>",
            "Date: Nov-19<br>Country: Hungary<br>Value: 612.0<br>",
            "Date: Nov-19<br>Country: Malta<br>Value: 0.0<br>",
            "Date: Nov-19<br>Country: Netherlands<br>Value: 4478.0<br>",
            "Date: Nov-19<br>Country: Austria<br>Value: 712.6619999999999<br>",
            "Date: Nov-19<br>Country: Poland<br>Value: 2273.0<br>",
            "Date: Nov-19<br>Country: Portugal<br>Value: 1177.0<br>",
            "Date: Nov-19<br>Country: Romania<br>Value: 987.0<br>",
            "Date: Nov-19<br>Country: Slovenia<br>Value: 0.0<br>",
            "Date: Nov-19<br>Country: Slovakia<br>Value: 495.0<br>",
            "Date: Nov-19<br>Country: Finland<br>Value: 955.0<br>",
            "Date: Nov-19<br>Country: Sweden<br>Value: 1214.0<br>",
            "Date: Nov-19<br>Country: United Kingdom<br>Value: 4486.0<br>",
            "Date: Nov-19<br>Country: Norway<br>Value: 1252.0<br>",
            "Date: Nov-19<br>Country: Montenegro<br>Value: nan<br>",
            "Date: Nov-19<br>Country: Albania<br>Value: 4.0<br>",
            "Date: Nov-19<br>Country: Turkey<br>Value: 3023.0<br>"
           ],
           "locations": [
            "BEL",
            "BGR",
            "DNK",
            "DEU",
            "EST",
            "IRL",
            "GRC",
            "ESP",
            "FRA",
            "HRV",
            "ITA",
            "CYP",
            "LVA",
            "LTU",
            "LUX",
            "HUN",
            "MLT",
            "NLD",
            "AUT",
            "POL",
            "PRT",
            "ROU",
            "SVN",
            "SVK",
            "FIN",
            "SWE",
            "GBR",
            "NOR",
            "MNE",
            "ALB",
            "TUR"
           ],
           "name": "",
           "type": "choropleth",
           "z": [
            2803,
            585,
            639,
            7292.838000000001,
            0,
            248,
            1586,
            4802,
            3258,
            327,
            5517,
            0,
            0,
            800,
            0,
            612,
            0,
            4478,
            712.6619999999999,
            2273,
            1177,
            987,
            0,
            495,
            955,
            1214,
            4486,
            1252,
            null,
            4,
            3023
           ]
          }
         ],
         "name": "Nov-19"
        },
        {
         "data": [
          {
           "coloraxis": "coloraxis",
           "geo": "geo",
           "hovertemplate": "<b>%{hovertext}</b><br><br>Date=Dec-19<br>CODE=%{location}<br>Value=%{z}<extra></extra>",
           "hovertext": [
            "Date: Dec-19<br>Country: Belgium<br>Value: 2737.0<br>",
            "Date: Dec-19<br>Country: Bulgaria<br>Value: 557.0<br>",
            "Date: Dec-19<br>Country: Denmark<br>Value: 665.0<br>",
            "Date: Dec-19<br>Country: Germany<br>Value: 7613.188<br>",
            "Date: Dec-19<br>Country: Estonia<br>Value: 0.0<br>",
            "Date: Dec-19<br>Country: Ireland<br>Value: 265.0<br>",
            "Date: Dec-19<br>Country: Greece<br>Value: 1885.0<br>",
            "Date: Dec-19<br>Country: Spain<br>Value: 5499.0<br>",
            "Date: Dec-19<br>Country: France<br>Value: 3468.0<br>",
            "Date: Dec-19<br>Country: Croatia<br>Value: 279.0<br>",
            "Date: Dec-19<br>Country: Italy<br>Value: 5457.0<br>",
            "Date: Dec-19<br>Country: Cyprus<br>Value: 0.0<br>",
            "Date: Dec-19<br>Country: Latvia<br>Value: 0.0<br>",
            "Date: Dec-19<br>Country: Lithuania<br>Value: 674.0<br>",
            "Date: Dec-19<br>Country: Luxembourg<br>Value: 0.0<br>",
            "Date: Dec-19<br>Country: Hungary<br>Value: 603.0<br>",
            "Date: Dec-19<br>Country: Malta<br>Value: 0.0<br>",
            "Date: Dec-19<br>Country: Netherlands<br>Value: 4874.0<br>",
            "Date: Dec-19<br>Country: Austria<br>Value: 819.33<br>",
            "Date: Dec-19<br>Country: Poland<br>Value: 2136.0<br>",
            "Date: Dec-19<br>Country: Portugal<br>Value: 1183.0<br>",
            "Date: Dec-19<br>Country: Romania<br>Value: 1045.0<br>",
            "Date: Dec-19<br>Country: Slovenia<br>Value: 0.0<br>",
            "Date: Dec-19<br>Country: Slovakia<br>Value: 490.0<br>",
            "Date: Dec-19<br>Country: Finland<br>Value: 981.0<br>",
            "Date: Dec-19<br>Country: Sweden<br>Value: 1555.0<br>",
            "Date: Dec-19<br>Country: United Kingdom<br>Value: 4786.0<br>",
            "Date: Dec-19<br>Country: Norway<br>Value: 1248.0<br>",
            "Date: Dec-19<br>Country: Montenegro<br>Value: nan<br>",
            "Date: Dec-19<br>Country: Albania<br>Value: 4.0<br>",
            "Date: Dec-19<br>Country: Turkey<br>Value: 2716.0<br>"
           ],
           "locations": [
            "BEL",
            "BGR",
            "DNK",
            "DEU",
            "EST",
            "IRL",
            "GRC",
            "ESP",
            "FRA",
            "HRV",
            "ITA",
            "CYP",
            "LVA",
            "LTU",
            "LUX",
            "HUN",
            "MLT",
            "NLD",
            "AUT",
            "POL",
            "PRT",
            "ROU",
            "SVN",
            "SVK",
            "FIN",
            "SWE",
            "GBR",
            "NOR",
            "MNE",
            "ALB",
            "TUR"
           ],
           "name": "",
           "type": "choropleth",
           "z": [
            2737,
            557,
            665,
            7613.188,
            0,
            265,
            1885,
            5499,
            3468,
            279,
            5457,
            0,
            0,
            674,
            0,
            603,
            0,
            4874,
            819.33,
            2136,
            1183,
            1045,
            0,
            490,
            981,
            1555,
            4786,
            1248,
            null,
            4,
            2716
           ]
          }
         ],
         "name": "Dec-19"
        },
        {
         "data": [
          {
           "coloraxis": "coloraxis",
           "geo": "geo",
           "hovertemplate": "<b>%{hovertext}</b><br><br>Date=Jan-20<br>CODE=%{location}<br>Value=%{z}<extra></extra>",
           "hovertext": [
            "Date: Jan-20<br>Country: Belgium<br>Value: 2891.2<br>",
            "Date: Jan-20<br>Country: Bulgaria<br>Value: 569.434<br>",
            "Date: Jan-20<br>Country: Denmark<br>Value: 704.0<br>",
            "Date: Jan-20<br>Country: Germany<br>Value: 7685.233<br>",
            "Date: Jan-20<br>Country: Estonia<br>Value: nan<br>",
            "Date: Jan-20<br>Country: Ireland<br>Value: 260.612<br>",
            "Date: Jan-20<br>Country: Greece<br>Value: nan<br>",
            "Date: Jan-20<br>Country: Spain<br>Value: 5354.0<br>",
            "Date: Jan-20<br>Country: France<br>Value: 3111.0<br>",
            "Date: Jan-20<br>Country: Croatia<br>Value: 18.9<br>",
            "Date: Jan-20<br>Country: Italy<br>Value: 5501.943<br>",
            "Date: Jan-20<br>Country: Cyprus<br>Value: 0.0<br>",
            "Date: Jan-20<br>Country: Latvia<br>Value: 0.0<br>",
            "Date: Jan-20<br>Country: Lithuania<br>Value: 600.3<br>",
            "Date: Jan-20<br>Country: Luxembourg<br>Value: 0.0<br>",
            "Date: Jan-20<br>Country: Hungary<br>Value: 543.0<br>",
            "Date: Jan-20<br>Country: Malta<br>Value: 0.0<br>",
            "Date: Jan-20<br>Country: Netherlands<br>Value: nan<br>",
            "Date: Jan-20<br>Country: Austria<br>Value: 778.09<br>",
            "Date: Jan-20<br>Country: Poland<br>Value: 2278.919<br>",
            "Date: Jan-20<br>Country: Portugal<br>Value: 1173.427<br>",
            "Date: Jan-20<br>Country: Romania<br>Value: 1030.0<br>",
            "Date: Jan-20<br>Country: Slovenia<br>Value: 0.0<br>",
            "Date: Jan-20<br>Country: Slovakia<br>Value: nan<br>",
            "Date: Jan-20<br>Country: Finland<br>Value: 1044.0<br>",
            "Date: Jan-20<br>Country: Sweden<br>Value: 1650.703<br>",
            "Date: Jan-20<br>Country: United Kingdom<br>Value: 4851.0<br>",
            "Date: Jan-20<br>Country: Norway<br>Value: 708.432<br>",
            "Date: Jan-20<br>Country: Montenegro<br>Value: nan<br>",
            "Date: Jan-20<br>Country: Albania<br>Value: nan<br>",
            "Date: Jan-20<br>Country: Turkey<br>Value: 2808.417<br>"
           ],
           "locations": [
            "BEL",
            "BGR",
            "DNK",
            "DEU",
            "EST",
            "IRL",
            "GRC",
            "ESP",
            "FRA",
            "HRV",
            "ITA",
            "CYP",
            "LVA",
            "LTU",
            "LUX",
            "HUN",
            "MLT",
            "NLD",
            "AUT",
            "POL",
            "PRT",
            "ROU",
            "SVN",
            "SVK",
            "FIN",
            "SWE",
            "GBR",
            "NOR",
            "MNE",
            "ALB",
            "TUR"
           ],
           "name": "",
           "type": "choropleth",
           "z": [
            2891.2,
            569.434,
            704,
            7685.233,
            null,
            260.612,
            null,
            5354,
            3111,
            18.9,
            5501.943,
            0,
            0,
            600.3,
            0,
            543,
            0,
            null,
            778.09,
            2278.919,
            1173.427,
            1030,
            0,
            null,
            1044,
            1650.703,
            4851,
            708.432,
            null,
            null,
            2808.417
           ]
          }
         ],
         "name": "Jan-20"
        }
       ],
       "layout": {
        "coloraxis": {
         "cmax": 7803.238,
         "cmin": 0,
         "colorbar": {
          "title": {
           "text": "Value"
          }
         },
         "colorscale": [
          [
           0,
           "#0d0887"
          ],
          [
           0.1111111111111111,
           "#46039f"
          ],
          [
           0.2222222222222222,
           "#7201a8"
          ],
          [
           0.3333333333333333,
           "#9c179e"
          ],
          [
           0.4444444444444444,
           "#bd3786"
          ],
          [
           0.5555555555555556,
           "#d8576b"
          ],
          [
           0.6666666666666666,
           "#ed7953"
          ],
          [
           0.7777777777777778,
           "#fb9f3a"
          ],
          [
           0.8888888888888888,
           "#fdca26"
          ],
          [
           1,
           "#f0f921"
          ]
         ]
        },
        "geo": {
         "center": {},
         "coastlinecolor": "DarkBlue",
         "countrycolor": "DarkBlue",
         "domain": {
          "x": [
           0,
           1
          ],
          "y": [
           0,
           1
          ]
         },
         "lakecolor": "Blue",
         "landcolor": "LightGrey",
         "oceancolor": "LightBlue",
         "rivercolor": "Blue",
         "showcoastlines": true,
         "showcountries": true,
         "showlakes": true,
         "showland": true,
         "showocean": true,
         "showrivers": true
        },
        "height": 674,
        "legend": {
         "tracegroupgap": 0
        },
        "margin": {
         "t": 60
        },
        "sliders": [
         {
          "active": 0,
          "currentvalue": {
           "prefix": "Date="
          },
          "len": 0.9,
          "pad": {
           "b": 10,
           "t": 60
          },
          "steps": [
           {
            "args": [
             [
              "Jan-19"
             ],
             {
              "frame": {
               "duration": 0,
               "redraw": true
              },
              "fromcurrent": true,
              "mode": "immediate",
              "transition": {
               "duration": 0,
               "easing": "linear"
              }
             }
            ],
            "label": "Jan-19",
            "method": "animate"
           },
           {
            "args": [
             [
              "Feb-19"
             ],
             {
              "frame": {
               "duration": 0,
               "redraw": true
              },
              "fromcurrent": true,
              "mode": "immediate",
              "transition": {
               "duration": 0,
               "easing": "linear"
              }
             }
            ],
            "label": "Feb-19",
            "method": "animate"
           },
           {
            "args": [
             [
              "Mar-19"
             ],
             {
              "frame": {
               "duration": 0,
               "redraw": true
              },
              "fromcurrent": true,
              "mode": "immediate",
              "transition": {
               "duration": 0,
               "easing": "linear"
              }
             }
            ],
            "label": "Mar-19",
            "method": "animate"
           },
           {
            "args": [
             [
              "Apr-19"
             ],
             {
              "frame": {
               "duration": 0,
               "redraw": true
              },
              "fromcurrent": true,
              "mode": "immediate",
              "transition": {
               "duration": 0,
               "easing": "linear"
              }
             }
            ],
            "label": "Apr-19",
            "method": "animate"
           },
           {
            "args": [
             [
              "May-19"
             ],
             {
              "frame": {
               "duration": 0,
               "redraw": true
              },
              "fromcurrent": true,
              "mode": "immediate",
              "transition": {
               "duration": 0,
               "easing": "linear"
              }
             }
            ],
            "label": "May-19",
            "method": "animate"
           },
           {
            "args": [
             [
              "Jun-19"
             ],
             {
              "frame": {
               "duration": 0,
               "redraw": true
              },
              "fromcurrent": true,
              "mode": "immediate",
              "transition": {
               "duration": 0,
               "easing": "linear"
              }
             }
            ],
            "label": "Jun-19",
            "method": "animate"
           },
           {
            "args": [
             [
              "Jul-19"
             ],
             {
              "frame": {
               "duration": 0,
               "redraw": true
              },
              "fromcurrent": true,
              "mode": "immediate",
              "transition": {
               "duration": 0,
               "easing": "linear"
              }
             }
            ],
            "label": "Jul-19",
            "method": "animate"
           },
           {
            "args": [
             [
              "Aug-19"
             ],
             {
              "frame": {
               "duration": 0,
               "redraw": true
              },
              "fromcurrent": true,
              "mode": "immediate",
              "transition": {
               "duration": 0,
               "easing": "linear"
              }
             }
            ],
            "label": "Aug-19",
            "method": "animate"
           },
           {
            "args": [
             [
              "Sep-19"
             ],
             {
              "frame": {
               "duration": 0,
               "redraw": true
              },
              "fromcurrent": true,
              "mode": "immediate",
              "transition": {
               "duration": 0,
               "easing": "linear"
              }
             }
            ],
            "label": "Sep-19",
            "method": "animate"
           },
           {
            "args": [
             [
              "Oct-19"
             ],
             {
              "frame": {
               "duration": 0,
               "redraw": true
              },
              "fromcurrent": true,
              "mode": "immediate",
              "transition": {
               "duration": 0,
               "easing": "linear"
              }
             }
            ],
            "label": "Oct-19",
            "method": "animate"
           },
           {
            "args": [
             [
              "Nov-19"
             ],
             {
              "frame": {
               "duration": 0,
               "redraw": true
              },
              "fromcurrent": true,
              "mode": "immediate",
              "transition": {
               "duration": 0,
               "easing": "linear"
              }
             }
            ],
            "label": "Nov-19",
            "method": "animate"
           },
           {
            "args": [
             [
              "Dec-19"
             ],
             {
              "frame": {
               "duration": 0,
               "redraw": true
              },
              "fromcurrent": true,
              "mode": "immediate",
              "transition": {
               "duration": 0,
               "easing": "linear"
              }
             }
            ],
            "label": "Dec-19",
            "method": "animate"
           },
           {
            "args": [
             [
              "Jan-20"
             ],
             {
              "frame": {
               "duration": 0,
               "redraw": true
              },
              "fromcurrent": true,
              "mode": "immediate",
              "transition": {
               "duration": 0,
               "easing": "linear"
              }
             }
            ],
            "label": "Jan-20",
            "method": "animate"
           }
          ],
          "x": 0.1,
          "xanchor": "left",
          "y": 0,
          "yanchor": "top"
         }
        ],
        "template": {
         "data": {
          "bar": [
           {
            "error_x": {
             "color": "#2a3f5f"
            },
            "error_y": {
             "color": "#2a3f5f"
            },
            "marker": {
             "line": {
              "color": "#E5ECF6",
              "width": 0.5
             }
            },
            "type": "bar"
           }
          ],
          "barpolar": [
           {
            "marker": {
             "line": {
              "color": "#E5ECF6",
              "width": 0.5
             }
            },
            "type": "barpolar"
           }
          ],
          "carpet": [
           {
            "aaxis": {
             "endlinecolor": "#2a3f5f",
             "gridcolor": "white",
             "linecolor": "white",
             "minorgridcolor": "white",
             "startlinecolor": "#2a3f5f"
            },
            "baxis": {
             "endlinecolor": "#2a3f5f",
             "gridcolor": "white",
             "linecolor": "white",
             "minorgridcolor": "white",
             "startlinecolor": "#2a3f5f"
            },
            "type": "carpet"
           }
          ],
          "choropleth": [
           {
            "colorbar": {
             "outlinewidth": 0,
             "ticks": ""
            },
            "type": "choropleth"
           }
          ],
          "contour": [
           {
            "colorbar": {
             "outlinewidth": 0,
             "ticks": ""
            },
            "colorscale": [
             [
              0,
              "#0d0887"
             ],
             [
              0.1111111111111111,
              "#46039f"
             ],
             [
              0.2222222222222222,
              "#7201a8"
             ],
             [
              0.3333333333333333,
              "#9c179e"
             ],
             [
              0.4444444444444444,
              "#bd3786"
             ],
             [
              0.5555555555555556,
              "#d8576b"
             ],
             [
              0.6666666666666666,
              "#ed7953"
             ],
             [
              0.7777777777777778,
              "#fb9f3a"
             ],
             [
              0.8888888888888888,
              "#fdca26"
             ],
             [
              1,
              "#f0f921"
             ]
            ],
            "type": "contour"
           }
          ],
          "contourcarpet": [
           {
            "colorbar": {
             "outlinewidth": 0,
             "ticks": ""
            },
            "type": "contourcarpet"
           }
          ],
          "heatmap": [
           {
            "colorbar": {
             "outlinewidth": 0,
             "ticks": ""
            },
            "colorscale": [
             [
              0,
              "#0d0887"
             ],
             [
              0.1111111111111111,
              "#46039f"
             ],
             [
              0.2222222222222222,
              "#7201a8"
             ],
             [
              0.3333333333333333,
              "#9c179e"
             ],
             [
              0.4444444444444444,
              "#bd3786"
             ],
             [
              0.5555555555555556,
              "#d8576b"
             ],
             [
              0.6666666666666666,
              "#ed7953"
             ],
             [
              0.7777777777777778,
              "#fb9f3a"
             ],
             [
              0.8888888888888888,
              "#fdca26"
             ],
             [
              1,
              "#f0f921"
             ]
            ],
            "type": "heatmap"
           }
          ],
          "heatmapgl": [
           {
            "colorbar": {
             "outlinewidth": 0,
             "ticks": ""
            },
            "colorscale": [
             [
              0,
              "#0d0887"
             ],
             [
              0.1111111111111111,
              "#46039f"
             ],
             [
              0.2222222222222222,
              "#7201a8"
             ],
             [
              0.3333333333333333,
              "#9c179e"
             ],
             [
              0.4444444444444444,
              "#bd3786"
             ],
             [
              0.5555555555555556,
              "#d8576b"
             ],
             [
              0.6666666666666666,
              "#ed7953"
             ],
             [
              0.7777777777777778,
              "#fb9f3a"
             ],
             [
              0.8888888888888888,
              "#fdca26"
             ],
             [
              1,
              "#f0f921"
             ]
            ],
            "type": "heatmapgl"
           }
          ],
          "histogram": [
           {
            "marker": {
             "colorbar": {
              "outlinewidth": 0,
              "ticks": ""
             }
            },
            "type": "histogram"
           }
          ],
          "histogram2d": [
           {
            "colorbar": {
             "outlinewidth": 0,
             "ticks": ""
            },
            "colorscale": [
             [
              0,
              "#0d0887"
             ],
             [
              0.1111111111111111,
              "#46039f"
             ],
             [
              0.2222222222222222,
              "#7201a8"
             ],
             [
              0.3333333333333333,
              "#9c179e"
             ],
             [
              0.4444444444444444,
              "#bd3786"
             ],
             [
              0.5555555555555556,
              "#d8576b"
             ],
             [
              0.6666666666666666,
              "#ed7953"
             ],
             [
              0.7777777777777778,
              "#fb9f3a"
             ],
             [
              0.8888888888888888,
              "#fdca26"
             ],
             [
              1,
              "#f0f921"
             ]
            ],
            "type": "histogram2d"
           }
          ],
          "histogram2dcontour": [
           {
            "colorbar": {
             "outlinewidth": 0,
             "ticks": ""
            },
            "colorscale": [
             [
              0,
              "#0d0887"
             ],
             [
              0.1111111111111111,
              "#46039f"
             ],
             [
              0.2222222222222222,
              "#7201a8"
             ],
             [
              0.3333333333333333,
              "#9c179e"
             ],
             [
              0.4444444444444444,
              "#bd3786"
             ],
             [
              0.5555555555555556,
              "#d8576b"
             ],
             [
              0.6666666666666666,
              "#ed7953"
             ],
             [
              0.7777777777777778,
              "#fb9f3a"
             ],
             [
              0.8888888888888888,
              "#fdca26"
             ],
             [
              1,
              "#f0f921"
             ]
            ],
            "type": "histogram2dcontour"
           }
          ],
          "mesh3d": [
           {
            "colorbar": {
             "outlinewidth": 0,
             "ticks": ""
            },
            "type": "mesh3d"
           }
          ],
          "parcoords": [
           {
            "line": {
             "colorbar": {
              "outlinewidth": 0,
              "ticks": ""
             }
            },
            "type": "parcoords"
           }
          ],
          "pie": [
           {
            "automargin": true,
            "type": "pie"
           }
          ],
          "scatter": [
           {
            "marker": {
             "colorbar": {
              "outlinewidth": 0,
              "ticks": ""
             }
            },
            "type": "scatter"
           }
          ],
          "scatter3d": [
           {
            "line": {
             "colorbar": {
              "outlinewidth": 0,
              "ticks": ""
             }
            },
            "marker": {
             "colorbar": {
              "outlinewidth": 0,
              "ticks": ""
             }
            },
            "type": "scatter3d"
           }
          ],
          "scattercarpet": [
           {
            "marker": {
             "colorbar": {
              "outlinewidth": 0,
              "ticks": ""
             }
            },
            "type": "scattercarpet"
           }
          ],
          "scattergeo": [
           {
            "marker": {
             "colorbar": {
              "outlinewidth": 0,
              "ticks": ""
             }
            },
            "type": "scattergeo"
           }
          ],
          "scattergl": [
           {
            "marker": {
             "colorbar": {
              "outlinewidth": 0,
              "ticks": ""
             }
            },
            "type": "scattergl"
           }
          ],
          "scattermapbox": [
           {
            "marker": {
             "colorbar": {
              "outlinewidth": 0,
              "ticks": ""
             }
            },
            "type": "scattermapbox"
           }
          ],
          "scatterpolar": [
           {
            "marker": {
             "colorbar": {
              "outlinewidth": 0,
              "ticks": ""
             }
            },
            "type": "scatterpolar"
           }
          ],
          "scatterpolargl": [
           {
            "marker": {
             "colorbar": {
              "outlinewidth": 0,
              "ticks": ""
             }
            },
            "type": "scatterpolargl"
           }
          ],
          "scatterternary": [
           {
            "marker": {
             "colorbar": {
              "outlinewidth": 0,
              "ticks": ""
             }
            },
            "type": "scatterternary"
           }
          ],
          "surface": [
           {
            "colorbar": {
             "outlinewidth": 0,
             "ticks": ""
            },
            "colorscale": [
             [
              0,
              "#0d0887"
             ],
             [
              0.1111111111111111,
              "#46039f"
             ],
             [
              0.2222222222222222,
              "#7201a8"
             ],
             [
              0.3333333333333333,
              "#9c179e"
             ],
             [
              0.4444444444444444,
              "#bd3786"
             ],
             [
              0.5555555555555556,
              "#d8576b"
             ],
             [
              0.6666666666666666,
              "#ed7953"
             ],
             [
              0.7777777777777778,
              "#fb9f3a"
             ],
             [
              0.8888888888888888,
              "#fdca26"
             ],
             [
              1,
              "#f0f921"
             ]
            ],
            "type": "surface"
           }
          ],
          "table": [
           {
            "cells": {
             "fill": {
              "color": "#EBF0F8"
             },
             "line": {
              "color": "white"
             }
            },
            "header": {
             "fill": {
              "color": "#C8D4E3"
             },
             "line": {
              "color": "white"
             }
            },
            "type": "table"
           }
          ]
         },
         "layout": {
          "annotationdefaults": {
           "arrowcolor": "#2a3f5f",
           "arrowhead": 0,
           "arrowwidth": 1
          },
          "coloraxis": {
           "colorbar": {
            "outlinewidth": 0,
            "ticks": ""
           }
          },
          "colorscale": {
           "diverging": [
            [
             0,
             "#8e0152"
            ],
            [
             0.1,
             "#c51b7d"
            ],
            [
             0.2,
             "#de77ae"
            ],
            [
             0.3,
             "#f1b6da"
            ],
            [
             0.4,
             "#fde0ef"
            ],
            [
             0.5,
             "#f7f7f7"
            ],
            [
             0.6,
             "#e6f5d0"
            ],
            [
             0.7,
             "#b8e186"
            ],
            [
             0.8,
             "#7fbc41"
            ],
            [
             0.9,
             "#4d9221"
            ],
            [
             1,
             "#276419"
            ]
           ],
           "sequential": [
            [
             0,
             "#0d0887"
            ],
            [
             0.1111111111111111,
             "#46039f"
            ],
            [
             0.2222222222222222,
             "#7201a8"
            ],
            [
             0.3333333333333333,
             "#9c179e"
            ],
            [
             0.4444444444444444,
             "#bd3786"
            ],
            [
             0.5555555555555556,
             "#d8576b"
            ],
            [
             0.6666666666666666,
             "#ed7953"
            ],
            [
             0.7777777777777778,
             "#fb9f3a"
            ],
            [
             0.8888888888888888,
             "#fdca26"
            ],
            [
             1,
             "#f0f921"
            ]
           ],
           "sequentialminus": [
            [
             0,
             "#0d0887"
            ],
            [
             0.1111111111111111,
             "#46039f"
            ],
            [
             0.2222222222222222,
             "#7201a8"
            ],
            [
             0.3333333333333333,
             "#9c179e"
            ],
            [
             0.4444444444444444,
             "#bd3786"
            ],
            [
             0.5555555555555556,
             "#d8576b"
            ],
            [
             0.6666666666666666,
             "#ed7953"
            ],
            [
             0.7777777777777778,
             "#fb9f3a"
            ],
            [
             0.8888888888888888,
             "#fdca26"
            ],
            [
             1,
             "#f0f921"
            ]
           ]
          },
          "colorway": [
           "#636efa",
           "#EF553B",
           "#00cc96",
           "#ab63fa",
           "#FFA15A",
           "#19d3f3",
           "#FF6692",
           "#B6E880",
           "#FF97FF",
           "#FECB52"
          ],
          "font": {
           "color": "#2a3f5f"
          },
          "geo": {
           "bgcolor": "white",
           "lakecolor": "white",
           "landcolor": "#E5ECF6",
           "showlakes": true,
           "showland": true,
           "subunitcolor": "white"
          },
          "hoverlabel": {
           "align": "left"
          },
          "hovermode": "closest",
          "mapbox": {
           "style": "light"
          },
          "paper_bgcolor": "white",
          "plot_bgcolor": "#E5ECF6",
          "polar": {
           "angularaxis": {
            "gridcolor": "white",
            "linecolor": "white",
            "ticks": ""
           },
           "bgcolor": "#E5ECF6",
           "radialaxis": {
            "gridcolor": "white",
            "linecolor": "white",
            "ticks": ""
           }
          },
          "scene": {
           "xaxis": {
            "backgroundcolor": "#E5ECF6",
            "gridcolor": "white",
            "gridwidth": 2,
            "linecolor": "white",
            "showbackground": true,
            "ticks": "",
            "zerolinecolor": "white"
           },
           "yaxis": {
            "backgroundcolor": "#E5ECF6",
            "gridcolor": "white",
            "gridwidth": 2,
            "linecolor": "white",
            "showbackground": true,
            "ticks": "",
            "zerolinecolor": "white"
           },
           "zaxis": {
            "backgroundcolor": "#E5ECF6",
            "gridcolor": "white",
            "gridwidth": 2,
            "linecolor": "white",
            "showbackground": true,
            "ticks": "",
            "zerolinecolor": "white"
           }
          },
          "shapedefaults": {
           "line": {
            "color": "#2a3f5f"
           }
          },
          "ternary": {
           "aaxis": {
            "gridcolor": "white",
            "linecolor": "white",
            "ticks": ""
           },
           "baxis": {
            "gridcolor": "white",
            "linecolor": "white",
            "ticks": ""
           },
           "bgcolor": "#E5ECF6",
           "caxis": {
            "gridcolor": "white",
            "linecolor": "white",
            "ticks": ""
           }
          },
          "title": {
           "x": 0.05
          },
          "xaxis": {
           "automargin": true,
           "gridcolor": "white",
           "linecolor": "white",
           "ticks": "",
           "title": {
            "standoff": 15
           },
           "zerolinecolor": "white",
           "zerolinewidth": 2
          },
          "yaxis": {
           "automargin": true,
           "gridcolor": "white",
           "linecolor": "white",
           "ticks": "",
           "title": {
            "standoff": 15
           },
           "zerolinecolor": "white",
           "zerolinewidth": 2
          }
         }
        },
        "title": {
         "text": "Europe Refinery intake crude oil (all)<br>(hover for details)"
        },
        "updatemenus": [
         {
          "buttons": [
           {
            "args": [
             null,
             {
              "frame": {
               "duration": 500,
               "redraw": true
              },
              "fromcurrent": true,
              "mode": "immediate",
              "transition": {
               "duration": 500,
               "easing": "linear"
              }
             }
            ],
            "label": "&#9654;",
            "method": "animate"
           },
           {
            "args": [
             [
              null
             ],
             {
              "frame": {
               "duration": 0,
               "redraw": true
              },
              "fromcurrent": true,
              "mode": "immediate",
              "transition": {
               "duration": 0,
               "easing": "linear"
              }
             }
            ],
            "label": "&#9724;",
            "method": "animate"
           }
          ],
          "direction": "left",
          "pad": {
           "r": 10,
           "t": 70
          },
          "showactive": false,
          "type": "buttons",
          "x": 0.1,
          "xanchor": "right",
          "y": 0,
          "yanchor": "top"
         }
        ],
        "width": 900
       }
      },
      "text/html": [
       "<div>\n",
       "        \n",
       "        \n",
       "            <div id=\"38e3f499-abd1-42b4-8074-059573603e77\" class=\"plotly-graph-div\" style=\"height:674px; width:900px;\"></div>\n",
       "            <script type=\"text/javascript\">\n",
       "                require([\"plotly\"], function(Plotly) {\n",
       "                    window.PLOTLYENV=window.PLOTLYENV || {};\n",
       "                    \n",
       "                if (document.getElementById(\"38e3f499-abd1-42b4-8074-059573603e77\")) {\n",
       "                    Plotly.newPlot(\n",
       "                        '38e3f499-abd1-42b4-8074-059573603e77',\n",
       "                        [{\"coloraxis\": \"coloraxis\", \"geo\": \"geo\", \"hovertemplate\": \"<b>%{hovertext}</b><br><br>Date=Jan-19<br>CODE=%{location}<br>Value=%{z}<extra></extra>\", \"hovertext\": [\"Date: Jan-19<br>Country: Belgium<br>Value: 3118.0<br>\", \"Date: Jan-19<br>Country: Bulgaria<br>Value: 577.0<br>\", \"Date: Jan-19<br>Country: Denmark<br>Value: 683.0<br>\", \"Date: Jan-19<br>Country: Germany<br>Value: 7535.170999999999<br>\", \"Date: Jan-19<br>Country: Estonia<br>Value: 0.0<br>\", \"Date: Jan-19<br>Country: Ireland<br>Value: 244.0<br>\", \"Date: Jan-19<br>Country: Greece<br>Value: 2016.0<br>\", \"Date: Jan-19<br>Country: Spain<br>Value: 5898.0<br>\", \"Date: Jan-19<br>Country: France<br>Value: 4784.0<br>\", \"Date: Jan-19<br>Country: Croatia<br>Value: 13.0<br>\", \"Date: Jan-19<br>Country: Italy<br>Value: 5395.0<br>\", \"Date: Jan-19<br>Country: Cyprus<br>Value: 0.0<br>\", \"Date: Jan-19<br>Country: Latvia<br>Value: 0.0<br>\", \"Date: Jan-19<br>Country: Lithuania<br>Value: 871.0<br>\", \"Date: Jan-19<br>Country: Luxembourg<br>Value: 0.0<br>\", \"Date: Jan-19<br>Country: Hungary<br>Value: 625.0<br>\", \"Date: Jan-19<br>Country: Malta<br>Value: 0.0<br>\", \"Date: Jan-19<br>Country: Netherlands<br>Value: 5032.0<br>\", \"Date: Jan-19<br>Country: Austria<br>Value: 803.0<br>\", \"Date: Jan-19<br>Country: Poland<br>Value: 2267.0<br>\", \"Date: Jan-19<br>Country: Portugal<br>Value: 940.0<br>\", \"Date: Jan-19<br>Country: Romania<br>Value: 1041.0<br>\", \"Date: Jan-19<br>Country: Slovenia<br>Value: 0.0<br>\", \"Date: Jan-19<br>Country: Slovakia<br>Value: 530.0<br>\", \"Date: Jan-19<br>Country: Finland<br>Value: 1026.0<br>\", \"Date: Jan-19<br>Country: Sweden<br>Value: 1535.0<br>\", \"Date: Jan-19<br>Country: United Kingdom<br>Value: 4654.0<br>\", \"Date: Jan-19<br>Country: Norway<br>Value: 1241.0<br>\", \"Date: Jan-19<br>Country: Montenegro<br>Value: nan<br>\", \"Date: Jan-19<br>Country: Albania<br>Value: 21.0<br>\", \"Date: Jan-19<br>Country: Turkey<br>Value: 2189.0<br>\"], \"locations\": [\"BEL\", \"BGR\", \"DNK\", \"DEU\", \"EST\", \"IRL\", \"GRC\", \"ESP\", \"FRA\", \"HRV\", \"ITA\", \"CYP\", \"LVA\", \"LTU\", \"LUX\", \"HUN\", \"MLT\", \"NLD\", \"AUT\", \"POL\", \"PRT\", \"ROU\", \"SVN\", \"SVK\", \"FIN\", \"SWE\", \"GBR\", \"NOR\", \"MNE\", \"ALB\", \"TUR\"], \"name\": \"\", \"type\": \"choropleth\", \"z\": [3118.0, 577.0, 683.0, 7535.170999999999, 0.0, 244.0, 2016.0, 5898.0, 4784.0, 13.0, 5395.0, 0.0, 0.0, 871.0, 0.0, 625.0, 0.0, 5032.0, 803.0, 2267.0, 940.0, 1041.0, 0.0, 530.0, 1026.0, 1535.0, 4654.0, 1241.0, null, 21.0, 2189.0]}],\n",
       "                        {\"coloraxis\": {\"cmax\": 7803.238, \"cmin\": 0.0, \"colorbar\": {\"title\": {\"text\": \"Value\"}}, \"colorscale\": [[0.0, \"#0d0887\"], [0.1111111111111111, \"#46039f\"], [0.2222222222222222, \"#7201a8\"], [0.3333333333333333, \"#9c179e\"], [0.4444444444444444, \"#bd3786\"], [0.5555555555555556, \"#d8576b\"], [0.6666666666666666, \"#ed7953\"], [0.7777777777777778, \"#fb9f3a\"], [0.8888888888888888, \"#fdca26\"], [1.0, \"#f0f921\"]]}, \"geo\": {\"center\": {}, \"coastlinecolor\": \"DarkBlue\", \"countrycolor\": \"DarkBlue\", \"domain\": {\"x\": [0.0, 1.0], \"y\": [0.0, 1.0]}, \"lakecolor\": \"Blue\", \"landcolor\": \"LightGrey\", \"oceancolor\": \"LightBlue\", \"rivercolor\": \"Blue\", \"showcoastlines\": true, \"showcountries\": true, \"showlakes\": true, \"showland\": true, \"showocean\": true, \"showrivers\": true}, \"height\": 674, \"legend\": {\"tracegroupgap\": 0}, \"margin\": {\"t\": 60}, \"sliders\": [{\"active\": 0, \"currentvalue\": {\"prefix\": \"Date=\"}, \"len\": 0.9, \"pad\": {\"b\": 10, \"t\": 60}, \"steps\": [{\"args\": [[\"Jan-19\"], {\"frame\": {\"duration\": 0, \"redraw\": true}, \"fromcurrent\": true, \"mode\": \"immediate\", \"transition\": {\"duration\": 0, \"easing\": \"linear\"}}], \"label\": \"Jan-19\", \"method\": \"animate\"}, {\"args\": [[\"Feb-19\"], {\"frame\": {\"duration\": 0, \"redraw\": true}, \"fromcurrent\": true, \"mode\": \"immediate\", \"transition\": {\"duration\": 0, \"easing\": \"linear\"}}], \"label\": \"Feb-19\", \"method\": \"animate\"}, {\"args\": [[\"Mar-19\"], {\"frame\": {\"duration\": 0, \"redraw\": true}, \"fromcurrent\": true, \"mode\": \"immediate\", \"transition\": {\"duration\": 0, \"easing\": \"linear\"}}], \"label\": \"Mar-19\", \"method\": \"animate\"}, {\"args\": [[\"Apr-19\"], {\"frame\": {\"duration\": 0, \"redraw\": true}, \"fromcurrent\": true, \"mode\": \"immediate\", \"transition\": {\"duration\": 0, \"easing\": \"linear\"}}], \"label\": \"Apr-19\", \"method\": \"animate\"}, {\"args\": [[\"May-19\"], {\"frame\": {\"duration\": 0, \"redraw\": true}, \"fromcurrent\": true, \"mode\": \"immediate\", \"transition\": {\"duration\": 0, \"easing\": \"linear\"}}], \"label\": \"May-19\", \"method\": \"animate\"}, {\"args\": [[\"Jun-19\"], {\"frame\": {\"duration\": 0, \"redraw\": true}, \"fromcurrent\": true, \"mode\": \"immediate\", \"transition\": {\"duration\": 0, \"easing\": \"linear\"}}], \"label\": \"Jun-19\", \"method\": \"animate\"}, {\"args\": [[\"Jul-19\"], {\"frame\": {\"duration\": 0, \"redraw\": true}, \"fromcurrent\": true, \"mode\": \"immediate\", \"transition\": {\"duration\": 0, \"easing\": \"linear\"}}], \"label\": \"Jul-19\", \"method\": \"animate\"}, {\"args\": [[\"Aug-19\"], {\"frame\": {\"duration\": 0, \"redraw\": true}, \"fromcurrent\": true, \"mode\": \"immediate\", \"transition\": {\"duration\": 0, \"easing\": \"linear\"}}], \"label\": \"Aug-19\", \"method\": \"animate\"}, {\"args\": [[\"Sep-19\"], {\"frame\": {\"duration\": 0, \"redraw\": true}, \"fromcurrent\": true, \"mode\": \"immediate\", \"transition\": {\"duration\": 0, \"easing\": \"linear\"}}], \"label\": \"Sep-19\", \"method\": \"animate\"}, {\"args\": [[\"Oct-19\"], {\"frame\": {\"duration\": 0, \"redraw\": true}, \"fromcurrent\": true, \"mode\": \"immediate\", \"transition\": {\"duration\": 0, \"easing\": \"linear\"}}], \"label\": \"Oct-19\", \"method\": \"animate\"}, {\"args\": [[\"Nov-19\"], {\"frame\": {\"duration\": 0, \"redraw\": true}, \"fromcurrent\": true, \"mode\": \"immediate\", \"transition\": {\"duration\": 0, \"easing\": \"linear\"}}], \"label\": \"Nov-19\", \"method\": \"animate\"}, {\"args\": [[\"Dec-19\"], {\"frame\": {\"duration\": 0, \"redraw\": true}, \"fromcurrent\": true, \"mode\": \"immediate\", \"transition\": {\"duration\": 0, \"easing\": \"linear\"}}], \"label\": \"Dec-19\", \"method\": \"animate\"}, {\"args\": [[\"Jan-20\"], {\"frame\": {\"duration\": 0, \"redraw\": true}, \"fromcurrent\": true, \"mode\": \"immediate\", \"transition\": {\"duration\": 0, \"easing\": \"linear\"}}], \"label\": \"Jan-20\", \"method\": \"animate\"}], \"x\": 0.1, \"xanchor\": \"left\", \"y\": 0, \"yanchor\": \"top\"}], \"template\": {\"data\": {\"bar\": [{\"error_x\": {\"color\": \"#2a3f5f\"}, \"error_y\": {\"color\": \"#2a3f5f\"}, \"marker\": {\"line\": {\"color\": \"#E5ECF6\", \"width\": 0.5}}, \"type\": \"bar\"}], \"barpolar\": [{\"marker\": {\"line\": {\"color\": \"#E5ECF6\", \"width\": 0.5}}, \"type\": \"barpolar\"}], \"carpet\": [{\"aaxis\": {\"endlinecolor\": \"#2a3f5f\", \"gridcolor\": \"white\", \"linecolor\": \"white\", \"minorgridcolor\": \"white\", \"startlinecolor\": \"#2a3f5f\"}, \"baxis\": {\"endlinecolor\": \"#2a3f5f\", \"gridcolor\": \"white\", \"linecolor\": \"white\", \"minorgridcolor\": \"white\", \"startlinecolor\": \"#2a3f5f\"}, \"type\": \"carpet\"}], \"choropleth\": [{\"colorbar\": {\"outlinewidth\": 0, \"ticks\": \"\"}, \"type\": \"choropleth\"}], \"contour\": [{\"colorbar\": {\"outlinewidth\": 0, \"ticks\": \"\"}, \"colorscale\": [[0.0, \"#0d0887\"], [0.1111111111111111, \"#46039f\"], [0.2222222222222222, \"#7201a8\"], [0.3333333333333333, \"#9c179e\"], [0.4444444444444444, \"#bd3786\"], [0.5555555555555556, \"#d8576b\"], [0.6666666666666666, \"#ed7953\"], [0.7777777777777778, \"#fb9f3a\"], [0.8888888888888888, \"#fdca26\"], [1.0, \"#f0f921\"]], \"type\": \"contour\"}], \"contourcarpet\": [{\"colorbar\": {\"outlinewidth\": 0, \"ticks\": \"\"}, \"type\": \"contourcarpet\"}], \"heatmap\": [{\"colorbar\": {\"outlinewidth\": 0, \"ticks\": \"\"}, \"colorscale\": [[0.0, \"#0d0887\"], [0.1111111111111111, \"#46039f\"], [0.2222222222222222, \"#7201a8\"], [0.3333333333333333, \"#9c179e\"], [0.4444444444444444, \"#bd3786\"], [0.5555555555555556, \"#d8576b\"], [0.6666666666666666, \"#ed7953\"], [0.7777777777777778, \"#fb9f3a\"], [0.8888888888888888, \"#fdca26\"], [1.0, \"#f0f921\"]], \"type\": \"heatmap\"}], \"heatmapgl\": [{\"colorbar\": {\"outlinewidth\": 0, \"ticks\": \"\"}, \"colorscale\": [[0.0, \"#0d0887\"], [0.1111111111111111, \"#46039f\"], [0.2222222222222222, \"#7201a8\"], [0.3333333333333333, \"#9c179e\"], [0.4444444444444444, \"#bd3786\"], [0.5555555555555556, \"#d8576b\"], [0.6666666666666666, \"#ed7953\"], [0.7777777777777778, \"#fb9f3a\"], [0.8888888888888888, \"#fdca26\"], [1.0, \"#f0f921\"]], \"type\": \"heatmapgl\"}], \"histogram\": [{\"marker\": {\"colorbar\": {\"outlinewidth\": 0, \"ticks\": \"\"}}, \"type\": \"histogram\"}], \"histogram2d\": [{\"colorbar\": {\"outlinewidth\": 0, \"ticks\": \"\"}, \"colorscale\": [[0.0, \"#0d0887\"], [0.1111111111111111, \"#46039f\"], [0.2222222222222222, \"#7201a8\"], [0.3333333333333333, \"#9c179e\"], [0.4444444444444444, \"#bd3786\"], [0.5555555555555556, \"#d8576b\"], [0.6666666666666666, \"#ed7953\"], [0.7777777777777778, \"#fb9f3a\"], [0.8888888888888888, \"#fdca26\"], [1.0, \"#f0f921\"]], \"type\": \"histogram2d\"}], \"histogram2dcontour\": [{\"colorbar\": {\"outlinewidth\": 0, \"ticks\": \"\"}, \"colorscale\": [[0.0, \"#0d0887\"], [0.1111111111111111, \"#46039f\"], [0.2222222222222222, \"#7201a8\"], [0.3333333333333333, \"#9c179e\"], [0.4444444444444444, \"#bd3786\"], [0.5555555555555556, \"#d8576b\"], [0.6666666666666666, \"#ed7953\"], [0.7777777777777778, \"#fb9f3a\"], [0.8888888888888888, \"#fdca26\"], [1.0, \"#f0f921\"]], \"type\": \"histogram2dcontour\"}], \"mesh3d\": [{\"colorbar\": {\"outlinewidth\": 0, \"ticks\": \"\"}, \"type\": \"mesh3d\"}], \"parcoords\": [{\"line\": {\"colorbar\": {\"outlinewidth\": 0, \"ticks\": \"\"}}, \"type\": \"parcoords\"}], \"pie\": [{\"automargin\": true, \"type\": \"pie\"}], \"scatter\": [{\"marker\": {\"colorbar\": {\"outlinewidth\": 0, \"ticks\": \"\"}}, \"type\": \"scatter\"}], \"scatter3d\": [{\"line\": {\"colorbar\": {\"outlinewidth\": 0, \"ticks\": \"\"}}, \"marker\": {\"colorbar\": {\"outlinewidth\": 0, \"ticks\": \"\"}}, \"type\": \"scatter3d\"}], \"scattercarpet\": [{\"marker\": {\"colorbar\": {\"outlinewidth\": 0, \"ticks\": \"\"}}, \"type\": \"scattercarpet\"}], \"scattergeo\": [{\"marker\": {\"colorbar\": {\"outlinewidth\": 0, \"ticks\": \"\"}}, \"type\": \"scattergeo\"}], \"scattergl\": [{\"marker\": {\"colorbar\": {\"outlinewidth\": 0, \"ticks\": \"\"}}, \"type\": \"scattergl\"}], \"scattermapbox\": [{\"marker\": {\"colorbar\": {\"outlinewidth\": 0, \"ticks\": \"\"}}, \"type\": \"scattermapbox\"}], \"scatterpolar\": [{\"marker\": {\"colorbar\": {\"outlinewidth\": 0, \"ticks\": \"\"}}, \"type\": \"scatterpolar\"}], \"scatterpolargl\": [{\"marker\": {\"colorbar\": {\"outlinewidth\": 0, \"ticks\": \"\"}}, \"type\": \"scatterpolargl\"}], \"scatterternary\": [{\"marker\": {\"colorbar\": {\"outlinewidth\": 0, \"ticks\": \"\"}}, \"type\": \"scatterternary\"}], \"surface\": [{\"colorbar\": {\"outlinewidth\": 0, \"ticks\": \"\"}, \"colorscale\": [[0.0, \"#0d0887\"], [0.1111111111111111, \"#46039f\"], [0.2222222222222222, \"#7201a8\"], [0.3333333333333333, \"#9c179e\"], [0.4444444444444444, \"#bd3786\"], [0.5555555555555556, \"#d8576b\"], [0.6666666666666666, \"#ed7953\"], [0.7777777777777778, \"#fb9f3a\"], [0.8888888888888888, \"#fdca26\"], [1.0, \"#f0f921\"]], \"type\": \"surface\"}], \"table\": [{\"cells\": {\"fill\": {\"color\": \"#EBF0F8\"}, \"line\": {\"color\": \"white\"}}, \"header\": {\"fill\": {\"color\": \"#C8D4E3\"}, \"line\": {\"color\": \"white\"}}, \"type\": \"table\"}]}, \"layout\": {\"annotationdefaults\": {\"arrowcolor\": \"#2a3f5f\", \"arrowhead\": 0, \"arrowwidth\": 1}, \"coloraxis\": {\"colorbar\": {\"outlinewidth\": 0, \"ticks\": \"\"}}, \"colorscale\": {\"diverging\": [[0, \"#8e0152\"], [0.1, \"#c51b7d\"], [0.2, \"#de77ae\"], [0.3, \"#f1b6da\"], [0.4, \"#fde0ef\"], [0.5, \"#f7f7f7\"], [0.6, \"#e6f5d0\"], [0.7, \"#b8e186\"], [0.8, \"#7fbc41\"], [0.9, \"#4d9221\"], [1, \"#276419\"]], \"sequential\": [[0.0, \"#0d0887\"], [0.1111111111111111, \"#46039f\"], [0.2222222222222222, \"#7201a8\"], [0.3333333333333333, \"#9c179e\"], [0.4444444444444444, \"#bd3786\"], [0.5555555555555556, \"#d8576b\"], [0.6666666666666666, \"#ed7953\"], [0.7777777777777778, \"#fb9f3a\"], [0.8888888888888888, \"#fdca26\"], [1.0, \"#f0f921\"]], \"sequentialminus\": [[0.0, \"#0d0887\"], [0.1111111111111111, \"#46039f\"], [0.2222222222222222, \"#7201a8\"], [0.3333333333333333, \"#9c179e\"], [0.4444444444444444, \"#bd3786\"], [0.5555555555555556, \"#d8576b\"], [0.6666666666666666, \"#ed7953\"], [0.7777777777777778, \"#fb9f3a\"], [0.8888888888888888, \"#fdca26\"], [1.0, \"#f0f921\"]]}, \"colorway\": [\"#636efa\", \"#EF553B\", \"#00cc96\", \"#ab63fa\", \"#FFA15A\", \"#19d3f3\", \"#FF6692\", \"#B6E880\", \"#FF97FF\", \"#FECB52\"], \"font\": {\"color\": \"#2a3f5f\"}, \"geo\": {\"bgcolor\": \"white\", \"lakecolor\": \"white\", \"landcolor\": \"#E5ECF6\", \"showlakes\": true, \"showland\": true, \"subunitcolor\": \"white\"}, \"hoverlabel\": {\"align\": \"left\"}, \"hovermode\": \"closest\", \"mapbox\": {\"style\": \"light\"}, \"paper_bgcolor\": \"white\", \"plot_bgcolor\": \"#E5ECF6\", \"polar\": {\"angularaxis\": {\"gridcolor\": \"white\", \"linecolor\": \"white\", \"ticks\": \"\"}, \"bgcolor\": \"#E5ECF6\", \"radialaxis\": {\"gridcolor\": \"white\", \"linecolor\": \"white\", \"ticks\": \"\"}}, \"scene\": {\"xaxis\": {\"backgroundcolor\": \"#E5ECF6\", \"gridcolor\": \"white\", \"gridwidth\": 2, \"linecolor\": \"white\", \"showbackground\": true, \"ticks\": \"\", \"zerolinecolor\": \"white\"}, \"yaxis\": {\"backgroundcolor\": \"#E5ECF6\", \"gridcolor\": \"white\", \"gridwidth\": 2, \"linecolor\": \"white\", \"showbackground\": true, \"ticks\": \"\", \"zerolinecolor\": \"white\"}, \"zaxis\": {\"backgroundcolor\": \"#E5ECF6\", \"gridcolor\": \"white\", \"gridwidth\": 2, \"linecolor\": \"white\", \"showbackground\": true, \"ticks\": \"\", \"zerolinecolor\": \"white\"}}, \"shapedefaults\": {\"line\": {\"color\": \"#2a3f5f\"}}, \"ternary\": {\"aaxis\": {\"gridcolor\": \"white\", \"linecolor\": \"white\", \"ticks\": \"\"}, \"baxis\": {\"gridcolor\": \"white\", \"linecolor\": \"white\", \"ticks\": \"\"}, \"bgcolor\": \"#E5ECF6\", \"caxis\": {\"gridcolor\": \"white\", \"linecolor\": \"white\", \"ticks\": \"\"}}, \"title\": {\"x\": 0.05}, \"xaxis\": {\"automargin\": true, \"gridcolor\": \"white\", \"linecolor\": \"white\", \"ticks\": \"\", \"title\": {\"standoff\": 15}, \"zerolinecolor\": \"white\", \"zerolinewidth\": 2}, \"yaxis\": {\"automargin\": true, \"gridcolor\": \"white\", \"linecolor\": \"white\", \"ticks\": \"\", \"title\": {\"standoff\": 15}, \"zerolinecolor\": \"white\", \"zerolinewidth\": 2}}}, \"title\": {\"text\": \"Europe Refinery intake crude oil (all)<br>(hover for details)\"}, \"updatemenus\": [{\"buttons\": [{\"args\": [null, {\"frame\": {\"duration\": 500, \"redraw\": true}, \"fromcurrent\": true, \"mode\": \"immediate\", \"transition\": {\"duration\": 500, \"easing\": \"linear\"}}], \"label\": \"&#9654;\", \"method\": \"animate\"}, {\"args\": [[null], {\"frame\": {\"duration\": 0, \"redraw\": true}, \"fromcurrent\": true, \"mode\": \"immediate\", \"transition\": {\"duration\": 0, \"easing\": \"linear\"}}], \"label\": \"&#9724;\", \"method\": \"animate\"}], \"direction\": \"left\", \"pad\": {\"r\": 10, \"t\": 70}, \"showactive\": false, \"type\": \"buttons\", \"x\": 0.1, \"xanchor\": \"right\", \"y\": 0, \"yanchor\": \"top\"}], \"width\": 900},\n",
       "                        {\"responsive\": true}\n",
       "                    ).then(function(){\n",
       "                            Plotly.addFrames('38e3f499-abd1-42b4-8074-059573603e77', [{\"data\": [{\"coloraxis\": \"coloraxis\", \"geo\": \"geo\", \"hovertemplate\": \"<b>%{hovertext}</b><br><br>Date=Jan-19<br>CODE=%{location}<br>Value=%{z}<extra></extra>\", \"hovertext\": [\"Date: Jan-19<br>Country: Belgium<br>Value: 3118.0<br>\", \"Date: Jan-19<br>Country: Bulgaria<br>Value: 577.0<br>\", \"Date: Jan-19<br>Country: Denmark<br>Value: 683.0<br>\", \"Date: Jan-19<br>Country: Germany<br>Value: 7535.170999999999<br>\", \"Date: Jan-19<br>Country: Estonia<br>Value: 0.0<br>\", \"Date: Jan-19<br>Country: Ireland<br>Value: 244.0<br>\", \"Date: Jan-19<br>Country: Greece<br>Value: 2016.0<br>\", \"Date: Jan-19<br>Country: Spain<br>Value: 5898.0<br>\", \"Date: Jan-19<br>Country: France<br>Value: 4784.0<br>\", \"Date: Jan-19<br>Country: Croatia<br>Value: 13.0<br>\", \"Date: Jan-19<br>Country: Italy<br>Value: 5395.0<br>\", \"Date: Jan-19<br>Country: Cyprus<br>Value: 0.0<br>\", \"Date: Jan-19<br>Country: Latvia<br>Value: 0.0<br>\", \"Date: Jan-19<br>Country: Lithuania<br>Value: 871.0<br>\", \"Date: Jan-19<br>Country: Luxembourg<br>Value: 0.0<br>\", \"Date: Jan-19<br>Country: Hungary<br>Value: 625.0<br>\", \"Date: Jan-19<br>Country: Malta<br>Value: 0.0<br>\", \"Date: Jan-19<br>Country: Netherlands<br>Value: 5032.0<br>\", \"Date: Jan-19<br>Country: Austria<br>Value: 803.0<br>\", \"Date: Jan-19<br>Country: Poland<br>Value: 2267.0<br>\", \"Date: Jan-19<br>Country: Portugal<br>Value: 940.0<br>\", \"Date: Jan-19<br>Country: Romania<br>Value: 1041.0<br>\", \"Date: Jan-19<br>Country: Slovenia<br>Value: 0.0<br>\", \"Date: Jan-19<br>Country: Slovakia<br>Value: 530.0<br>\", \"Date: Jan-19<br>Country: Finland<br>Value: 1026.0<br>\", \"Date: Jan-19<br>Country: Sweden<br>Value: 1535.0<br>\", \"Date: Jan-19<br>Country: United Kingdom<br>Value: 4654.0<br>\", \"Date: Jan-19<br>Country: Norway<br>Value: 1241.0<br>\", \"Date: Jan-19<br>Country: Montenegro<br>Value: nan<br>\", \"Date: Jan-19<br>Country: Albania<br>Value: 21.0<br>\", \"Date: Jan-19<br>Country: Turkey<br>Value: 2189.0<br>\"], \"locations\": [\"BEL\", \"BGR\", \"DNK\", \"DEU\", \"EST\", \"IRL\", \"GRC\", \"ESP\", \"FRA\", \"HRV\", \"ITA\", \"CYP\", \"LVA\", \"LTU\", \"LUX\", \"HUN\", \"MLT\", \"NLD\", \"AUT\", \"POL\", \"PRT\", \"ROU\", \"SVN\", \"SVK\", \"FIN\", \"SWE\", \"GBR\", \"NOR\", \"MNE\", \"ALB\", \"TUR\"], \"name\": \"\", \"z\": [3118.0, 577.0, 683.0, 7535.170999999999, 0.0, 244.0, 2016.0, 5898.0, 4784.0, 13.0, 5395.0, 0.0, 0.0, 871.0, 0.0, 625.0, 0.0, 5032.0, 803.0, 2267.0, 940.0, 1041.0, 0.0, 530.0, 1026.0, 1535.0, 4654.0, 1241.0, null, 21.0, 2189.0], \"type\": \"choropleth\"}], \"name\": \"Jan-19\"}, {\"data\": [{\"coloraxis\": \"coloraxis\", \"geo\": \"geo\", \"hovertemplate\": \"<b>%{hovertext}</b><br><br>Date=Feb-19<br>CODE=%{location}<br>Value=%{z}<extra></extra>\", \"hovertext\": [\"Date: Feb-19<br>Country: Belgium<br>Value: 2828.0<br>\", \"Date: Feb-19<br>Country: Bulgaria<br>Value: 527.0<br>\", \"Date: Feb-19<br>Country: Denmark<br>Value: 622.0<br>\", \"Date: Feb-19<br>Country: Germany<br>Value: 6502.018<br>\", \"Date: Feb-19<br>Country: Estonia<br>Value: 0.0<br>\", \"Date: Feb-19<br>Country: Ireland<br>Value: 203.0<br>\", \"Date: Feb-19<br>Country: Greece<br>Value: 1806.0<br>\", \"Date: Feb-19<br>Country: Spain<br>Value: 4961.0<br>\", \"Date: Feb-19<br>Country: France<br>Value: 4387.0<br>\", \"Date: Feb-19<br>Country: Croatia<br>Value: 60.0<br>\", \"Date: Feb-19<br>Country: Italy<br>Value: 4567.0<br>\", \"Date: Feb-19<br>Country: Cyprus<br>Value: 0.0<br>\", \"Date: Feb-19<br>Country: Latvia<br>Value: 0.0<br>\", \"Date: Feb-19<br>Country: Lithuania<br>Value: 605.0<br>\", \"Date: Feb-19<br>Country: Luxembourg<br>Value: 0.0<br>\", \"Date: Feb-19<br>Country: Hungary<br>Value: 536.0<br>\", \"Date: Feb-19<br>Country: Malta<br>Value: 0.0<br>\", \"Date: Feb-19<br>Country: Netherlands<br>Value: 4259.0<br>\", \"Date: Feb-19<br>Country: Austria<br>Value: 711.0<br>\", \"Date: Feb-19<br>Country: Poland<br>Value: 2154.0<br>\", \"Date: Feb-19<br>Country: Portugal<br>Value: 780.0<br>\", \"Date: Feb-19<br>Country: Romania<br>Value: 940.0<br>\", \"Date: Feb-19<br>Country: Slovenia<br>Value: 0.0<br>\", \"Date: Feb-19<br>Country: Slovakia<br>Value: 479.0<br>\", \"Date: Feb-19<br>Country: Finland<br>Value: 843.0<br>\", \"Date: Feb-19<br>Country: Sweden<br>Value: 1403.0<br>\", \"Date: Feb-19<br>Country: United Kingdom<br>Value: 4045.0<br>\", \"Date: Feb-19<br>Country: Norway<br>Value: 1175.0<br>\", \"Date: Feb-19<br>Country: Montenegro<br>Value: nan<br>\", \"Date: Feb-19<br>Country: Albania<br>Value: 32.0<br>\", \"Date: Feb-19<br>Country: Turkey<br>Value: 2456.0<br>\"], \"locations\": [\"BEL\", \"BGR\", \"DNK\", \"DEU\", \"EST\", \"IRL\", \"GRC\", \"ESP\", \"FRA\", \"HRV\", \"ITA\", \"CYP\", \"LVA\", \"LTU\", \"LUX\", \"HUN\", \"MLT\", \"NLD\", \"AUT\", \"POL\", \"PRT\", \"ROU\", \"SVN\", \"SVK\", \"FIN\", \"SWE\", \"GBR\", \"NOR\", \"MNE\", \"ALB\", \"TUR\"], \"name\": \"\", \"z\": [2828.0, 527.0, 622.0, 6502.018, 0.0, 203.0, 1806.0, 4961.0, 4387.0, 60.0, 4567.0, 0.0, 0.0, 605.0, 0.0, 536.0, 0.0, 4259.0, 711.0, 2154.0, 780.0, 940.0, 0.0, 479.0, 843.0, 1403.0, 4045.0, 1175.0, null, 32.0, 2456.0], \"type\": \"choropleth\"}], \"name\": \"Feb-19\"}, {\"data\": [{\"coloraxis\": \"coloraxis\", \"geo\": \"geo\", \"hovertemplate\": \"<b>%{hovertext}</b><br><br>Date=Mar-19<br>CODE=%{location}<br>Value=%{z}<extra></extra>\", \"hovertext\": [\"Date: Mar-19<br>Country: Belgium<br>Value: 3007.0<br>\", \"Date: Mar-19<br>Country: Bulgaria<br>Value: 347.0<br>\", \"Date: Mar-19<br>Country: Denmark<br>Value: 669.0<br>\", \"Date: Mar-19<br>Country: Germany<br>Value: 7179.975<br>\", \"Date: Mar-19<br>Country: Estonia<br>Value: 0.0<br>\", \"Date: Mar-19<br>Country: Ireland<br>Value: 230.0<br>\", \"Date: Mar-19<br>Country: Greece<br>Value: 2050.0<br>\", \"Date: Mar-19<br>Country: Spain<br>Value: 5805.0<br>\", \"Date: Mar-19<br>Country: France<br>Value: 4314.0<br>\", \"Date: Mar-19<br>Country: Croatia<br>Value: 92.0<br>\", \"Date: Mar-19<br>Country: Italy<br>Value: 5234.0<br>\", \"Date: Mar-19<br>Country: Cyprus<br>Value: 0.0<br>\", \"Date: Mar-19<br>Country: Latvia<br>Value: 0.0<br>\", \"Date: Mar-19<br>Country: Lithuania<br>Value: 746.0<br>\", \"Date: Mar-19<br>Country: Luxembourg<br>Value: 0.0<br>\", \"Date: Mar-19<br>Country: Hungary<br>Value: 616.0<br>\", \"Date: Mar-19<br>Country: Malta<br>Value: 0.0<br>\", \"Date: Mar-19<br>Country: Netherlands<br>Value: 4910.0<br>\", \"Date: Mar-19<br>Country: Austria<br>Value: 779.0<br>\", \"Date: Mar-19<br>Country: Poland<br>Value: 2345.0<br>\", \"Date: Mar-19<br>Country: Portugal<br>Value: 919.0<br>\", \"Date: Mar-19<br>Country: Romania<br>Value: 869.0<br>\", \"Date: Mar-19<br>Country: Slovenia<br>Value: 0.0<br>\", \"Date: Mar-19<br>Country: Slovakia<br>Value: 509.0<br>\", \"Date: Mar-19<br>Country: Finland<br>Value: 1020.0<br>\", \"Date: Mar-19<br>Country: Sweden<br>Value: 1300.0<br>\", \"Date: Mar-19<br>Country: United Kingdom<br>Value: 4190.0<br>\", \"Date: Mar-19<br>Country: Norway<br>Value: 1232.0<br>\", \"Date: Mar-19<br>Country: Montenegro<br>Value: nan<br>\", \"Date: Mar-19<br>Country: Albania<br>Value: 38.0<br>\", \"Date: Mar-19<br>Country: Turkey<br>Value: 2744.0<br>\"], \"locations\": [\"BEL\", \"BGR\", \"DNK\", \"DEU\", \"EST\", \"IRL\", \"GRC\", \"ESP\", \"FRA\", \"HRV\", \"ITA\", \"CYP\", \"LVA\", \"LTU\", \"LUX\", \"HUN\", \"MLT\", \"NLD\", \"AUT\", \"POL\", \"PRT\", \"ROU\", \"SVN\", \"SVK\", \"FIN\", \"SWE\", \"GBR\", \"NOR\", \"MNE\", \"ALB\", \"TUR\"], \"name\": \"\", \"z\": [3007.0, 347.0, 669.0, 7179.975, 0.0, 230.0, 2050.0, 5805.0, 4314.0, 92.0, 5234.0, 0.0, 0.0, 746.0, 0.0, 616.0, 0.0, 4910.0, 779.0, 2345.0, 919.0, 869.0, 0.0, 509.0, 1020.0, 1300.0, 4190.0, 1232.0, null, 38.0, 2744.0], \"type\": \"choropleth\"}], \"name\": \"Mar-19\"}, {\"data\": [{\"coloraxis\": \"coloraxis\", \"geo\": \"geo\", \"hovertemplate\": \"<b>%{hovertext}</b><br><br>Date=Apr-19<br>CODE=%{location}<br>Value=%{z}<extra></extra>\", \"hovertext\": [\"Date: Apr-19<br>Country: Belgium<br>Value: 2947.0<br>\", \"Date: Apr-19<br>Country: Bulgaria<br>Value: 565.0<br>\", \"Date: Apr-19<br>Country: Denmark<br>Value: 651.0<br>\", \"Date: Apr-19<br>Country: Germany<br>Value: 6870.24<br>\", \"Date: Apr-19<br>Country: Estonia<br>Value: 0.0<br>\", \"Date: Apr-19<br>Country: Ireland<br>Value: 203.0<br>\", \"Date: Apr-19<br>Country: Greece<br>Value: 1876.0<br>\", \"Date: Apr-19<br>Country: Spain<br>Value: 5681.0<br>\", \"Date: Apr-19<br>Country: France<br>Value: 4185.0<br>\", \"Date: Apr-19<br>Country: Croatia<br>Value: 19.0<br>\", \"Date: Apr-19<br>Country: Italy<br>Value: 5289.0<br>\", \"Date: Apr-19<br>Country: Cyprus<br>Value: 0.0<br>\", \"Date: Apr-19<br>Country: Latvia<br>Value: 0.0<br>\", \"Date: Apr-19<br>Country: Lithuania<br>Value: 719.0<br>\", \"Date: Apr-19<br>Country: Luxembourg<br>Value: 0.0<br>\", \"Date: Apr-19<br>Country: Hungary<br>Value: 627.0<br>\", \"Date: Apr-19<br>Country: Malta<br>Value: 0.0<br>\", \"Date: Apr-19<br>Country: Netherlands<br>Value: 4452.0<br>\", \"Date: Apr-19<br>Country: Austria<br>Value: 757.0<br>\", \"Date: Apr-19<br>Country: Poland<br>Value: 2273.0<br>\", \"Date: Apr-19<br>Country: Portugal<br>Value: 993.0<br>\", \"Date: Apr-19<br>Country: Romania<br>Value: 958.0<br>\", \"Date: Apr-19<br>Country: Slovenia<br>Value: 0.0<br>\", \"Date: Apr-19<br>Country: Slovakia<br>Value: 460.0<br>\", \"Date: Apr-19<br>Country: Finland<br>Value: 995.0<br>\", \"Date: Apr-19<br>Country: Sweden<br>Value: 1197.0<br>\", \"Date: Apr-19<br>Country: United Kingdom<br>Value: 4300.0<br>\", \"Date: Apr-19<br>Country: Norway<br>Value: 1229.0<br>\", \"Date: Apr-19<br>Country: Montenegro<br>Value: nan<br>\", \"Date: Apr-19<br>Country: Albania<br>Value: 37.0<br>\", \"Date: Apr-19<br>Country: Turkey<br>Value: 2820.0<br>\"], \"locations\": [\"BEL\", \"BGR\", \"DNK\", \"DEU\", \"EST\", \"IRL\", \"GRC\", \"ESP\", \"FRA\", \"HRV\", \"ITA\", \"CYP\", \"LVA\", \"LTU\", \"LUX\", \"HUN\", \"MLT\", \"NLD\", \"AUT\", \"POL\", \"PRT\", \"ROU\", \"SVN\", \"SVK\", \"FIN\", \"SWE\", \"GBR\", \"NOR\", \"MNE\", \"ALB\", \"TUR\"], \"name\": \"\", \"z\": [2947.0, 565.0, 651.0, 6870.24, 0.0, 203.0, 1876.0, 5681.0, 4185.0, 19.0, 5289.0, 0.0, 0.0, 719.0, 0.0, 627.0, 0.0, 4452.0, 757.0, 2273.0, 993.0, 958.0, 0.0, 460.0, 995.0, 1197.0, 4300.0, 1229.0, null, 37.0, 2820.0], \"type\": \"choropleth\"}], \"name\": \"Apr-19\"}, {\"data\": [{\"coloraxis\": \"coloraxis\", \"geo\": \"geo\", \"hovertemplate\": \"<b>%{hovertext}</b><br><br>Date=May-19<br>CODE=%{location}<br>Value=%{z}<extra></extra>\", \"hovertext\": [\"Date: May-19<br>Country: Belgium<br>Value: 2871.0<br>\", \"Date: May-19<br>Country: Bulgaria<br>Value: 625.0<br>\", \"Date: May-19<br>Country: Denmark<br>Value: 664.0<br>\", \"Date: May-19<br>Country: Germany<br>Value: 6848.166<br>\", \"Date: May-19<br>Country: Estonia<br>Value: 0.0<br>\", \"Date: May-19<br>Country: Ireland<br>Value: 48.0<br>\", \"Date: May-19<br>Country: Greece<br>Value: 1950.0<br>\", \"Date: May-19<br>Country: Spain<br>Value: 5480.0<br>\", \"Date: May-19<br>Country: France<br>Value: 4101.0<br>\", \"Date: May-19<br>Country: Croatia<br>Value: 81.0<br>\", \"Date: May-19<br>Country: Italy<br>Value: 5608.0<br>\", \"Date: May-19<br>Country: Cyprus<br>Value: 0.0<br>\", \"Date: May-19<br>Country: Latvia<br>Value: 0.0<br>\", \"Date: May-19<br>Country: Lithuania<br>Value: 839.0<br>\", \"Date: May-19<br>Country: Luxembourg<br>Value: 0.0<br>\", \"Date: May-19<br>Country: Hungary<br>Value: 589.0<br>\", \"Date: May-19<br>Country: Malta<br>Value: 0.0<br>\", \"Date: May-19<br>Country: Netherlands<br>Value: 4396.0<br>\", \"Date: May-19<br>Country: Austria<br>Value: 778.0<br>\", \"Date: May-19<br>Country: Poland<br>Value: 2204.0<br>\", \"Date: May-19<br>Country: Portugal<br>Value: 1122.0<br>\", \"Date: May-19<br>Country: Romania<br>Value: 1070.0<br>\", \"Date: May-19<br>Country: Slovenia<br>Value: 0.0<br>\", \"Date: May-19<br>Country: Slovakia<br>Value: 189.0<br>\", \"Date: May-19<br>Country: Finland<br>Value: 1070.0<br>\", \"Date: May-19<br>Country: Sweden<br>Value: 1200.0<br>\", \"Date: May-19<br>Country: United Kingdom<br>Value: 4224.0<br>\", \"Date: May-19<br>Country: Norway<br>Value: 1247.0<br>\", \"Date: May-19<br>Country: Montenegro<br>Value: nan<br>\", \"Date: May-19<br>Country: Albania<br>Value: 14.0<br>\", \"Date: May-19<br>Country: Turkey<br>Value: 2823.0<br>\"], \"locations\": [\"BEL\", \"BGR\", \"DNK\", \"DEU\", \"EST\", \"IRL\", \"GRC\", \"ESP\", \"FRA\", \"HRV\", \"ITA\", \"CYP\", \"LVA\", \"LTU\", \"LUX\", \"HUN\", \"MLT\", \"NLD\", \"AUT\", \"POL\", \"PRT\", \"ROU\", \"SVN\", \"SVK\", \"FIN\", \"SWE\", \"GBR\", \"NOR\", \"MNE\", \"ALB\", \"TUR\"], \"name\": \"\", \"z\": [2871.0, 625.0, 664.0, 6848.166, 0.0, 48.0, 1950.0, 5480.0, 4101.0, 81.0, 5608.0, 0.0, 0.0, 839.0, 0.0, 589.0, 0.0, 4396.0, 778.0, 2204.0, 1122.0, 1070.0, 0.0, 189.0, 1070.0, 1200.0, 4224.0, 1247.0, null, 14.0, 2823.0], \"type\": \"choropleth\"}], \"name\": \"May-19\"}, {\"data\": [{\"coloraxis\": \"coloraxis\", \"geo\": \"geo\", \"hovertemplate\": \"<b>%{hovertext}</b><br><br>Date=Jun-19<br>CODE=%{location}<br>Value=%{z}<extra></extra>\", \"hovertext\": [\"Date: Jun-19<br>Country: Belgium<br>Value: 2836.0<br>\", \"Date: Jun-19<br>Country: Bulgaria<br>Value: 598.0<br>\", \"Date: Jun-19<br>Country: Denmark<br>Value: 601.0<br>\", \"Date: Jun-19<br>Country: Germany<br>Value: 7007.769<br>\", \"Date: Jun-19<br>Country: Estonia<br>Value: 0.0<br>\", \"Date: Jun-19<br>Country: Ireland<br>Value: 74.0<br>\", \"Date: Jun-19<br>Country: Greece<br>Value: 1916.0<br>\", \"Date: Jun-19<br>Country: Spain<br>Value: 4992.0<br>\", \"Date: Jun-19<br>Country: France<br>Value: 3612.0<br>\", \"Date: Jun-19<br>Country: Croatia<br>Value: 327.0<br>\", \"Date: Jun-19<br>Country: Italy<br>Value: 5586.0<br>\", \"Date: Jun-19<br>Country: Cyprus<br>Value: 0.0<br>\", \"Date: Jun-19<br>Country: Latvia<br>Value: 0.0<br>\", \"Date: Jun-19<br>Country: Lithuania<br>Value: 852.0<br>\", \"Date: Jun-19<br>Country: Luxembourg<br>Value: 0.0<br>\", \"Date: Jun-19<br>Country: Hungary<br>Value: 607.0<br>\", \"Date: Jun-19<br>Country: Malta<br>Value: 0.0<br>\", \"Date: Jun-19<br>Country: Netherlands<br>Value: 3921.0<br>\", \"Date: Jun-19<br>Country: Austria<br>Value: 748.0<br>\", \"Date: Jun-19<br>Country: Poland<br>Value: 2271.0<br>\", \"Date: Jun-19<br>Country: Portugal<br>Value: 1042.0<br>\", \"Date: Jun-19<br>Country: Romania<br>Value: 1033.0<br>\", \"Date: Jun-19<br>Country: Slovenia<br>Value: 0.0<br>\", \"Date: Jun-19<br>Country: Slovakia<br>Value: 241.0<br>\", \"Date: Jun-19<br>Country: Finland<br>Value: 978.0<br>\", \"Date: Jun-19<br>Country: Sweden<br>Value: 1736.0<br>\", \"Date: Jun-19<br>Country: United Kingdom<br>Value: 3895.0<br>\", \"Date: Jun-19<br>Country: Norway<br>Value: 1277.0<br>\", \"Date: Jun-19<br>Country: Montenegro<br>Value: nan<br>\", \"Date: Jun-19<br>Country: Albania<br>Value: 50.0<br>\", \"Date: Jun-19<br>Country: Turkey<br>Value: 2488.0<br>\"], \"locations\": [\"BEL\", \"BGR\", \"DNK\", \"DEU\", \"EST\", \"IRL\", \"GRC\", \"ESP\", \"FRA\", \"HRV\", \"ITA\", \"CYP\", \"LVA\", \"LTU\", \"LUX\", \"HUN\", \"MLT\", \"NLD\", \"AUT\", \"POL\", \"PRT\", \"ROU\", \"SVN\", \"SVK\", \"FIN\", \"SWE\", \"GBR\", \"NOR\", \"MNE\", \"ALB\", \"TUR\"], \"name\": \"\", \"z\": [2836.0, 598.0, 601.0, 7007.769, 0.0, 74.0, 1916.0, 4992.0, 3612.0, 327.0, 5586.0, 0.0, 0.0, 852.0, 0.0, 607.0, 0.0, 3921.0, 748.0, 2271.0, 1042.0, 1033.0, 0.0, 241.0, 978.0, 1736.0, 3895.0, 1277.0, null, 50.0, 2488.0], \"type\": \"choropleth\"}], \"name\": \"Jun-19\"}, {\"data\": [{\"coloraxis\": \"coloraxis\", \"geo\": \"geo\", \"hovertemplate\": \"<b>%{hovertext}</b><br><br>Date=Jul-19<br>CODE=%{location}<br>Value=%{z}<extra></extra>\", \"hovertext\": [\"Date: Jul-19<br>Country: Belgium<br>Value: 2890.0<br>\", \"Date: Jul-19<br>Country: Bulgaria<br>Value: 617.0<br>\", \"Date: Jul-19<br>Country: Denmark<br>Value: 656.0<br>\", \"Date: Jul-19<br>Country: Germany<br>Value: 7803.238<br>\", \"Date: Jul-19<br>Country: Estonia<br>Value: 0.0<br>\", \"Date: Jul-19<br>Country: Ireland<br>Value: 230.0<br>\", \"Date: Jul-19<br>Country: Greece<br>Value: 2116.0<br>\", \"Date: Jul-19<br>Country: Spain<br>Value: 5517.0<br>\", \"Date: Jul-19<br>Country: France<br>Value: 4490.0<br>\", \"Date: Jul-19<br>Country: Croatia<br>Value: 387.0<br>\", \"Date: Jul-19<br>Country: Italy<br>Value: 6134.0<br>\", \"Date: Jul-19<br>Country: Cyprus<br>Value: 0.0<br>\", \"Date: Jul-19<br>Country: Latvia<br>Value: 0.0<br>\", \"Date: Jul-19<br>Country: Lithuania<br>Value: 880.0<br>\", \"Date: Jul-19<br>Country: Luxembourg<br>Value: 0.0<br>\", \"Date: Jul-19<br>Country: Hungary<br>Value: 549.0<br>\", \"Date: Jul-19<br>Country: Malta<br>Value: 0.0<br>\", \"Date: Jul-19<br>Country: Netherlands<br>Value: 4866.0<br>\", \"Date: Jul-19<br>Country: Austria<br>Value: 765.0<br>\", \"Date: Jul-19<br>Country: Poland<br>Value: 2397.0<br>\", \"Date: Jul-19<br>Country: Portugal<br>Value: 1170.0<br>\", \"Date: Jul-19<br>Country: Romania<br>Value: 1037.0<br>\", \"Date: Jul-19<br>Country: Slovenia<br>Value: 0.0<br>\", \"Date: Jul-19<br>Country: Slovakia<br>Value: 332.0<br>\", \"Date: Jul-19<br>Country: Finland<br>Value: 1032.0<br>\", \"Date: Jul-19<br>Country: Sweden<br>Value: 1811.0<br>\", \"Date: Jul-19<br>Country: United Kingdom<br>Value: 4379.0<br>\", \"Date: Jul-19<br>Country: Norway<br>Value: 1339.0<br>\", \"Date: Jul-19<br>Country: Montenegro<br>Value: nan<br>\", \"Date: Jul-19<br>Country: Albania<br>Value: 41.0<br>\", \"Date: Jul-19<br>Country: Turkey<br>Value: 3023.0<br>\"], \"locations\": [\"BEL\", \"BGR\", \"DNK\", \"DEU\", \"EST\", \"IRL\", \"GRC\", \"ESP\", \"FRA\", \"HRV\", \"ITA\", \"CYP\", \"LVA\", \"LTU\", \"LUX\", \"HUN\", \"MLT\", \"NLD\", \"AUT\", \"POL\", \"PRT\", \"ROU\", \"SVN\", \"SVK\", \"FIN\", \"SWE\", \"GBR\", \"NOR\", \"MNE\", \"ALB\", \"TUR\"], \"name\": \"\", \"z\": [2890.0, 617.0, 656.0, 7803.238, 0.0, 230.0, 2116.0, 5517.0, 4490.0, 387.0, 6134.0, 0.0, 0.0, 880.0, 0.0, 549.0, 0.0, 4866.0, 765.0, 2397.0, 1170.0, 1037.0, 0.0, 332.0, 1032.0, 1811.0, 4379.0, 1339.0, null, 41.0, 3023.0], \"type\": \"choropleth\"}], \"name\": \"Jul-19\"}, {\"data\": [{\"coloraxis\": \"coloraxis\", \"geo\": \"geo\", \"hovertemplate\": \"<b>%{hovertext}</b><br><br>Date=Aug-19<br>CODE=%{location}<br>Value=%{z}<extra></extra>\", \"hovertext\": [\"Date: Aug-19<br>Country: Belgium<br>Value: 2968.0<br>\", \"Date: Aug-19<br>Country: Bulgaria<br>Value: 613.0<br>\", \"Date: Aug-19<br>Country: Denmark<br>Value: 628.0<br>\", \"Date: Aug-19<br>Country: Germany<br>Value: 7505.33<br>\", \"Date: Aug-19<br>Country: Estonia<br>Value: 0.0<br>\", \"Date: Aug-19<br>Country: Ireland<br>Value: 257.0<br>\", \"Date: Aug-19<br>Country: Greece<br>Value: 2089.0<br>\", \"Date: Aug-19<br>Country: Spain<br>Value: 6000.0<br>\", \"Date: Aug-19<br>Country: France<br>Value: 4714.0<br>\", \"Date: Aug-19<br>Country: Croatia<br>Value: 388.0<br>\", \"Date: Aug-19<br>Country: Italy<br>Value: 6353.0<br>\", \"Date: Aug-19<br>Country: Cyprus<br>Value: 0.0<br>\", \"Date: Aug-19<br>Country: Latvia<br>Value: 0.0<br>\", \"Date: Aug-19<br>Country: Lithuania<br>Value: 881.0<br>\", \"Date: Aug-19<br>Country: Luxembourg<br>Value: 0.0<br>\", \"Date: Aug-19<br>Country: Hungary<br>Value: 528.0<br>\", \"Date: Aug-19<br>Country: Malta<br>Value: 0.0<br>\", \"Date: Aug-19<br>Country: Netherlands<br>Value: 4896.0<br>\", \"Date: Aug-19<br>Country: Austria<br>Value: 802.0<br>\", \"Date: Aug-19<br>Country: Poland<br>Value: 2361.0<br>\", \"Date: Aug-19<br>Country: Portugal<br>Value: 545.0<br>\", \"Date: Aug-19<br>Country: Romania<br>Value: 1043.0<br>\", \"Date: Aug-19<br>Country: Slovenia<br>Value: 0.0<br>\", \"Date: Aug-19<br>Country: Slovakia<br>Value: 433.0<br>\", \"Date: Aug-19<br>Country: Finland<br>Value: 1073.0<br>\", \"Date: Aug-19<br>Country: Sweden<br>Value: 1751.0<br>\", \"Date: Aug-19<br>Country: United Kingdom<br>Value: 4568.0<br>\", \"Date: Aug-19<br>Country: Norway<br>Value: 1211.0<br>\", \"Date: Aug-19<br>Country: Montenegro<br>Value: nan<br>\", \"Date: Aug-19<br>Country: Albania<br>Value: 40.0<br>\", \"Date: Aug-19<br>Country: Turkey<br>Value: 3168.0<br>\"], \"locations\": [\"BEL\", \"BGR\", \"DNK\", \"DEU\", \"EST\", \"IRL\", \"GRC\", \"ESP\", \"FRA\", \"HRV\", \"ITA\", \"CYP\", \"LVA\", \"LTU\", \"LUX\", \"HUN\", \"MLT\", \"NLD\", \"AUT\", \"POL\", \"PRT\", \"ROU\", \"SVN\", \"SVK\", \"FIN\", \"SWE\", \"GBR\", \"NOR\", \"MNE\", \"ALB\", \"TUR\"], \"name\": \"\", \"z\": [2968.0, 613.0, 628.0, 7505.33, 0.0, 257.0, 2089.0, 6000.0, 4714.0, 388.0, 6353.0, 0.0, 0.0, 881.0, 0.0, 528.0, 0.0, 4896.0, 802.0, 2361.0, 545.0, 1043.0, 0.0, 433.0, 1073.0, 1751.0, 4568.0, 1211.0, null, 40.0, 3168.0], \"type\": \"choropleth\"}], \"name\": \"Aug-19\"}, {\"data\": [{\"coloraxis\": \"coloraxis\", \"geo\": \"geo\", \"hovertemplate\": \"<b>%{hovertext}</b><br><br>Date=Sep-19<br>CODE=%{location}<br>Value=%{z}<extra></extra>\", \"hovertext\": [\"Date: Sep-19<br>Country: Belgium<br>Value: 2719.0<br>\", \"Date: Sep-19<br>Country: Bulgaria<br>Value: 574.0<br>\", \"Date: Sep-19<br>Country: Denmark<br>Value: 498.0<br>\", \"Date: Sep-19<br>Country: Germany<br>Value: 7201.172<br>\", \"Date: Sep-19<br>Country: Estonia<br>Value: 0.0<br>\", \"Date: Sep-19<br>Country: Ireland<br>Value: 270.0<br>\", \"Date: Sep-19<br>Country: Greece<br>Value: 1985.0<br>\", \"Date: Sep-19<br>Country: Spain<br>Value: 5279.0<br>\", \"Date: Sep-19<br>Country: France<br>Value: 3932.0<br>\", \"Date: Sep-19<br>Country: Croatia<br>Value: 269.0<br>\", \"Date: Sep-19<br>Country: Italy<br>Value: 6053.0<br>\", \"Date: Sep-19<br>Country: Cyprus<br>Value: 0.0<br>\", \"Date: Sep-19<br>Country: Latvia<br>Value: 0.0<br>\", \"Date: Sep-19<br>Country: Lithuania<br>Value: 835.0<br>\", \"Date: Sep-19<br>Country: Luxembourg<br>Value: 0.0<br>\", \"Date: Sep-19<br>Country: Hungary<br>Value: 326.0<br>\", \"Date: Sep-19<br>Country: Malta<br>Value: 0.0<br>\", \"Date: Sep-19<br>Country: Netherlands<br>Value: 4799.0<br>\", \"Date: Sep-19<br>Country: Austria<br>Value: 692.0<br>\", \"Date: Sep-19<br>Country: Poland<br>Value: 2253.0<br>\", \"Date: Sep-19<br>Country: Portugal<br>Value: 386.0<br>\", \"Date: Sep-19<br>Country: Romania<br>Value: 1038.0<br>\", \"Date: Sep-19<br>Country: Slovenia<br>Value: 0.0<br>\", \"Date: Sep-19<br>Country: Slovakia<br>Value: 513.0<br>\", \"Date: Sep-19<br>Country: Finland<br>Value: 913.0<br>\", \"Date: Sep-19<br>Country: Sweden<br>Value: 1120.0<br>\", \"Date: Sep-19<br>Country: United Kingdom<br>Value: 4159.0<br>\", \"Date: Sep-19<br>Country: Norway<br>Value: 1045.0<br>\", \"Date: Sep-19<br>Country: Montenegro<br>Value: nan<br>\", \"Date: Sep-19<br>Country: Albania<br>Value: 5.0<br>\", \"Date: Sep-19<br>Country: Turkey<br>Value: 3078.0<br>\"], \"locations\": [\"BEL\", \"BGR\", \"DNK\", \"DEU\", \"EST\", \"IRL\", \"GRC\", \"ESP\", \"FRA\", \"HRV\", \"ITA\", \"CYP\", \"LVA\", \"LTU\", \"LUX\", \"HUN\", \"MLT\", \"NLD\", \"AUT\", \"POL\", \"PRT\", \"ROU\", \"SVN\", \"SVK\", \"FIN\", \"SWE\", \"GBR\", \"NOR\", \"MNE\", \"ALB\", \"TUR\"], \"name\": \"\", \"z\": [2719.0, 574.0, 498.0, 7201.172, 0.0, 270.0, 1985.0, 5279.0, 3932.0, 269.0, 6053.0, 0.0, 0.0, 835.0, 0.0, 326.0, 0.0, 4799.0, 692.0, 2253.0, 386.0, 1038.0, 0.0, 513.0, 913.0, 1120.0, 4159.0, 1045.0, null, 5.0, 3078.0], \"type\": \"choropleth\"}], \"name\": \"Sep-19\"}, {\"data\": [{\"coloraxis\": \"coloraxis\", \"geo\": \"geo\", \"hovertemplate\": \"<b>%{hovertext}</b><br><br>Date=Oct-19<br>CODE=%{location}<br>Value=%{z}<extra></extra>\", \"hovertext\": [\"Date: Oct-19<br>Country: Belgium<br>Value: 2801.0<br>\", \"Date: Oct-19<br>Country: Bulgaria<br>Value: 646.0<br>\", \"Date: Oct-19<br>Country: Denmark<br>Value: 668.0<br>\", \"Date: Oct-19<br>Country: Germany<br>Value: 7653.534000000001<br>\", \"Date: Oct-19<br>Country: Estonia<br>Value: 0.0<br>\", \"Date: Oct-19<br>Country: Ireland<br>Value: 258.0<br>\", \"Date: Oct-19<br>Country: Greece<br>Value: 1751.0<br>\", \"Date: Oct-19<br>Country: Spain<br>Value: 5734.0<br>\", \"Date: Oct-19<br>Country: France<br>Value: 3444.0<br>\", \"Date: Oct-19<br>Country: Croatia<br>Value: 349.0<br>\", \"Date: Oct-19<br>Country: Italy<br>Value: 5672.0<br>\", \"Date: Oct-19<br>Country: Cyprus<br>Value: 0.0<br>\", \"Date: Oct-19<br>Country: Latvia<br>Value: 0.0<br>\", \"Date: Oct-19<br>Country: Lithuania<br>Value: 812.0<br>\", \"Date: Oct-19<br>Country: Luxembourg<br>Value: 0.0<br>\", \"Date: Oct-19<br>Country: Hungary<br>Value: 589.0<br>\", \"Date: Oct-19<br>Country: Malta<br>Value: 0.0<br>\", \"Date: Oct-19<br>Country: Netherlands<br>Value: 5025.0<br>\", \"Date: Oct-19<br>Country: Austria<br>Value: 813.0<br>\", \"Date: Oct-19<br>Country: Poland<br>Value: 2252.0<br>\", \"Date: Oct-19<br>Country: Portugal<br>Value: 923.0<br>\", \"Date: Oct-19<br>Country: Romania<br>Value: 1086.0<br>\", \"Date: Oct-19<br>Country: Slovenia<br>Value: 0.0<br>\", \"Date: Oct-19<br>Country: Slovakia<br>Value: 438.0<br>\", \"Date: Oct-19<br>Country: Finland<br>Value: 1054.0<br>\", \"Date: Oct-19<br>Country: Sweden<br>Value: 945.0<br>\", \"Date: Oct-19<br>Country: United Kingdom<br>Value: 4616.0<br>\", \"Date: Oct-19<br>Country: Norway<br>Value: 1028.0<br>\", \"Date: Oct-19<br>Country: Montenegro<br>Value: nan<br>\", \"Date: Oct-19<br>Country: Albania<br>Value: 5.0<br>\", \"Date: Oct-19<br>Country: Turkey<br>Value: 3087.0<br>\"], \"locations\": [\"BEL\", \"BGR\", \"DNK\", \"DEU\", \"EST\", \"IRL\", \"GRC\", \"ESP\", \"FRA\", \"HRV\", \"ITA\", \"CYP\", \"LVA\", \"LTU\", \"LUX\", \"HUN\", \"MLT\", \"NLD\", \"AUT\", \"POL\", \"PRT\", \"ROU\", \"SVN\", \"SVK\", \"FIN\", \"SWE\", \"GBR\", \"NOR\", \"MNE\", \"ALB\", \"TUR\"], \"name\": \"\", \"z\": [2801.0, 646.0, 668.0, 7653.534000000001, 0.0, 258.0, 1751.0, 5734.0, 3444.0, 349.0, 5672.0, 0.0, 0.0, 812.0, 0.0, 589.0, 0.0, 5025.0, 813.0, 2252.0, 923.0, 1086.0, 0.0, 438.0, 1054.0, 945.0, 4616.0, 1028.0, null, 5.0, 3087.0], \"type\": \"choropleth\"}], \"name\": \"Oct-19\"}, {\"data\": [{\"coloraxis\": \"coloraxis\", \"geo\": \"geo\", \"hovertemplate\": \"<b>%{hovertext}</b><br><br>Date=Nov-19<br>CODE=%{location}<br>Value=%{z}<extra></extra>\", \"hovertext\": [\"Date: Nov-19<br>Country: Belgium<br>Value: 2803.0<br>\", \"Date: Nov-19<br>Country: Bulgaria<br>Value: 585.0<br>\", \"Date: Nov-19<br>Country: Denmark<br>Value: 639.0<br>\", \"Date: Nov-19<br>Country: Germany<br>Value: 7292.838000000001<br>\", \"Date: Nov-19<br>Country: Estonia<br>Value: 0.0<br>\", \"Date: Nov-19<br>Country: Ireland<br>Value: 248.0<br>\", \"Date: Nov-19<br>Country: Greece<br>Value: 1586.0<br>\", \"Date: Nov-19<br>Country: Spain<br>Value: 4802.0<br>\", \"Date: Nov-19<br>Country: France<br>Value: 3258.0<br>\", \"Date: Nov-19<br>Country: Croatia<br>Value: 327.0<br>\", \"Date: Nov-19<br>Country: Italy<br>Value: 5517.0<br>\", \"Date: Nov-19<br>Country: Cyprus<br>Value: 0.0<br>\", \"Date: Nov-19<br>Country: Latvia<br>Value: 0.0<br>\", \"Date: Nov-19<br>Country: Lithuania<br>Value: 800.0<br>\", \"Date: Nov-19<br>Country: Luxembourg<br>Value: 0.0<br>\", \"Date: Nov-19<br>Country: Hungary<br>Value: 612.0<br>\", \"Date: Nov-19<br>Country: Malta<br>Value: 0.0<br>\", \"Date: Nov-19<br>Country: Netherlands<br>Value: 4478.0<br>\", \"Date: Nov-19<br>Country: Austria<br>Value: 712.6619999999999<br>\", \"Date: Nov-19<br>Country: Poland<br>Value: 2273.0<br>\", \"Date: Nov-19<br>Country: Portugal<br>Value: 1177.0<br>\", \"Date: Nov-19<br>Country: Romania<br>Value: 987.0<br>\", \"Date: Nov-19<br>Country: Slovenia<br>Value: 0.0<br>\", \"Date: Nov-19<br>Country: Slovakia<br>Value: 495.0<br>\", \"Date: Nov-19<br>Country: Finland<br>Value: 955.0<br>\", \"Date: Nov-19<br>Country: Sweden<br>Value: 1214.0<br>\", \"Date: Nov-19<br>Country: United Kingdom<br>Value: 4486.0<br>\", \"Date: Nov-19<br>Country: Norway<br>Value: 1252.0<br>\", \"Date: Nov-19<br>Country: Montenegro<br>Value: nan<br>\", \"Date: Nov-19<br>Country: Albania<br>Value: 4.0<br>\", \"Date: Nov-19<br>Country: Turkey<br>Value: 3023.0<br>\"], \"locations\": [\"BEL\", \"BGR\", \"DNK\", \"DEU\", \"EST\", \"IRL\", \"GRC\", \"ESP\", \"FRA\", \"HRV\", \"ITA\", \"CYP\", \"LVA\", \"LTU\", \"LUX\", \"HUN\", \"MLT\", \"NLD\", \"AUT\", \"POL\", \"PRT\", \"ROU\", \"SVN\", \"SVK\", \"FIN\", \"SWE\", \"GBR\", \"NOR\", \"MNE\", \"ALB\", \"TUR\"], \"name\": \"\", \"z\": [2803.0, 585.0, 639.0, 7292.838000000001, 0.0, 248.0, 1586.0, 4802.0, 3258.0, 327.0, 5517.0, 0.0, 0.0, 800.0, 0.0, 612.0, 0.0, 4478.0, 712.6619999999999, 2273.0, 1177.0, 987.0, 0.0, 495.0, 955.0, 1214.0, 4486.0, 1252.0, null, 4.0, 3023.0], \"type\": \"choropleth\"}], \"name\": \"Nov-19\"}, {\"data\": [{\"coloraxis\": \"coloraxis\", \"geo\": \"geo\", \"hovertemplate\": \"<b>%{hovertext}</b><br><br>Date=Dec-19<br>CODE=%{location}<br>Value=%{z}<extra></extra>\", \"hovertext\": [\"Date: Dec-19<br>Country: Belgium<br>Value: 2737.0<br>\", \"Date: Dec-19<br>Country: Bulgaria<br>Value: 557.0<br>\", \"Date: Dec-19<br>Country: Denmark<br>Value: 665.0<br>\", \"Date: Dec-19<br>Country: Germany<br>Value: 7613.188<br>\", \"Date: Dec-19<br>Country: Estonia<br>Value: 0.0<br>\", \"Date: Dec-19<br>Country: Ireland<br>Value: 265.0<br>\", \"Date: Dec-19<br>Country: Greece<br>Value: 1885.0<br>\", \"Date: Dec-19<br>Country: Spain<br>Value: 5499.0<br>\", \"Date: Dec-19<br>Country: France<br>Value: 3468.0<br>\", \"Date: Dec-19<br>Country: Croatia<br>Value: 279.0<br>\", \"Date: Dec-19<br>Country: Italy<br>Value: 5457.0<br>\", \"Date: Dec-19<br>Country: Cyprus<br>Value: 0.0<br>\", \"Date: Dec-19<br>Country: Latvia<br>Value: 0.0<br>\", \"Date: Dec-19<br>Country: Lithuania<br>Value: 674.0<br>\", \"Date: Dec-19<br>Country: Luxembourg<br>Value: 0.0<br>\", \"Date: Dec-19<br>Country: Hungary<br>Value: 603.0<br>\", \"Date: Dec-19<br>Country: Malta<br>Value: 0.0<br>\", \"Date: Dec-19<br>Country: Netherlands<br>Value: 4874.0<br>\", \"Date: Dec-19<br>Country: Austria<br>Value: 819.33<br>\", \"Date: Dec-19<br>Country: Poland<br>Value: 2136.0<br>\", \"Date: Dec-19<br>Country: Portugal<br>Value: 1183.0<br>\", \"Date: Dec-19<br>Country: Romania<br>Value: 1045.0<br>\", \"Date: Dec-19<br>Country: Slovenia<br>Value: 0.0<br>\", \"Date: Dec-19<br>Country: Slovakia<br>Value: 490.0<br>\", \"Date: Dec-19<br>Country: Finland<br>Value: 981.0<br>\", \"Date: Dec-19<br>Country: Sweden<br>Value: 1555.0<br>\", \"Date: Dec-19<br>Country: United Kingdom<br>Value: 4786.0<br>\", \"Date: Dec-19<br>Country: Norway<br>Value: 1248.0<br>\", \"Date: Dec-19<br>Country: Montenegro<br>Value: nan<br>\", \"Date: Dec-19<br>Country: Albania<br>Value: 4.0<br>\", \"Date: Dec-19<br>Country: Turkey<br>Value: 2716.0<br>\"], \"locations\": [\"BEL\", \"BGR\", \"DNK\", \"DEU\", \"EST\", \"IRL\", \"GRC\", \"ESP\", \"FRA\", \"HRV\", \"ITA\", \"CYP\", \"LVA\", \"LTU\", \"LUX\", \"HUN\", \"MLT\", \"NLD\", \"AUT\", \"POL\", \"PRT\", \"ROU\", \"SVN\", \"SVK\", \"FIN\", \"SWE\", \"GBR\", \"NOR\", \"MNE\", \"ALB\", \"TUR\"], \"name\": \"\", \"z\": [2737.0, 557.0, 665.0, 7613.188, 0.0, 265.0, 1885.0, 5499.0, 3468.0, 279.0, 5457.0, 0.0, 0.0, 674.0, 0.0, 603.0, 0.0, 4874.0, 819.33, 2136.0, 1183.0, 1045.0, 0.0, 490.0, 981.0, 1555.0, 4786.0, 1248.0, null, 4.0, 2716.0], \"type\": \"choropleth\"}], \"name\": \"Dec-19\"}, {\"data\": [{\"coloraxis\": \"coloraxis\", \"geo\": \"geo\", \"hovertemplate\": \"<b>%{hovertext}</b><br><br>Date=Jan-20<br>CODE=%{location}<br>Value=%{z}<extra></extra>\", \"hovertext\": [\"Date: Jan-20<br>Country: Belgium<br>Value: 2891.2<br>\", \"Date: Jan-20<br>Country: Bulgaria<br>Value: 569.434<br>\", \"Date: Jan-20<br>Country: Denmark<br>Value: 704.0<br>\", \"Date: Jan-20<br>Country: Germany<br>Value: 7685.233<br>\", \"Date: Jan-20<br>Country: Estonia<br>Value: nan<br>\", \"Date: Jan-20<br>Country: Ireland<br>Value: 260.612<br>\", \"Date: Jan-20<br>Country: Greece<br>Value: nan<br>\", \"Date: Jan-20<br>Country: Spain<br>Value: 5354.0<br>\", \"Date: Jan-20<br>Country: France<br>Value: 3111.0<br>\", \"Date: Jan-20<br>Country: Croatia<br>Value: 18.9<br>\", \"Date: Jan-20<br>Country: Italy<br>Value: 5501.943<br>\", \"Date: Jan-20<br>Country: Cyprus<br>Value: 0.0<br>\", \"Date: Jan-20<br>Country: Latvia<br>Value: 0.0<br>\", \"Date: Jan-20<br>Country: Lithuania<br>Value: 600.3<br>\", \"Date: Jan-20<br>Country: Luxembourg<br>Value: 0.0<br>\", \"Date: Jan-20<br>Country: Hungary<br>Value: 543.0<br>\", \"Date: Jan-20<br>Country: Malta<br>Value: 0.0<br>\", \"Date: Jan-20<br>Country: Netherlands<br>Value: nan<br>\", \"Date: Jan-20<br>Country: Austria<br>Value: 778.09<br>\", \"Date: Jan-20<br>Country: Poland<br>Value: 2278.919<br>\", \"Date: Jan-20<br>Country: Portugal<br>Value: 1173.427<br>\", \"Date: Jan-20<br>Country: Romania<br>Value: 1030.0<br>\", \"Date: Jan-20<br>Country: Slovenia<br>Value: 0.0<br>\", \"Date: Jan-20<br>Country: Slovakia<br>Value: nan<br>\", \"Date: Jan-20<br>Country: Finland<br>Value: 1044.0<br>\", \"Date: Jan-20<br>Country: Sweden<br>Value: 1650.703<br>\", \"Date: Jan-20<br>Country: United Kingdom<br>Value: 4851.0<br>\", \"Date: Jan-20<br>Country: Norway<br>Value: 708.432<br>\", \"Date: Jan-20<br>Country: Montenegro<br>Value: nan<br>\", \"Date: Jan-20<br>Country: Albania<br>Value: nan<br>\", \"Date: Jan-20<br>Country: Turkey<br>Value: 2808.417<br>\"], \"locations\": [\"BEL\", \"BGR\", \"DNK\", \"DEU\", \"EST\", \"IRL\", \"GRC\", \"ESP\", \"FRA\", \"HRV\", \"ITA\", \"CYP\", \"LVA\", \"LTU\", \"LUX\", \"HUN\", \"MLT\", \"NLD\", \"AUT\", \"POL\", \"PRT\", \"ROU\", \"SVN\", \"SVK\", \"FIN\", \"SWE\", \"GBR\", \"NOR\", \"MNE\", \"ALB\", \"TUR\"], \"name\": \"\", \"z\": [2891.2, 569.434, 704.0, 7685.233, null, 260.612, null, 5354.0, 3111.0, 18.9, 5501.943, 0.0, 0.0, 600.3, 0.0, 543.0, 0.0, null, 778.09, 2278.919, 1173.427, 1030.0, 0.0, null, 1044.0, 1650.703, 4851.0, 708.432, null, null, 2808.417], \"type\": \"choropleth\"}], \"name\": \"Jan-20\"}]);\n",
       "                        }).then(function(){\n",
       "                            \n",
       "var gd = document.getElementById('38e3f499-abd1-42b4-8074-059573603e77');\n",
       "var x = new MutationObserver(function (mutations, observer) {{\n",
       "        var display = window.getComputedStyle(gd).display;\n",
       "        if (!display || display === 'none') {{\n",
       "            console.log([gd, 'removed!']);\n",
       "            Plotly.purge(gd);\n",
       "            observer.disconnect();\n",
       "        }}\n",
       "}});\n",
       "\n",
       "// Listen for the removal of the full notebook cells\n",
       "var notebookContainer = gd.closest('#notebook-container');\n",
       "if (notebookContainer) {{\n",
       "    x.observe(notebookContainer, {childList: true});\n",
       "}}\n",
       "\n",
       "// Listen for the clearing of the current output cell\n",
       "var outputEl = gd.closest('.output');\n",
       "if (outputEl) {{\n",
       "    x.observe(outputEl, {childList: true});\n",
       "}}\n",
       "\n",
       "                        })\n",
       "                };\n",
       "                });\n",
       "            </script>\n",
       "        </div>"
      ]
     },
     "metadata": {},
     "output_type": "display_data"
    }
   ],
   "source": [
    "import plotly.express as px\n",
    "df = data_tr_df\n",
    "max_value = max(df['Value'])\n",
    "min_value = min(df['Value'])\n",
    "hover_text = []\n",
    "for index, row in df.iterrows():\n",
    "    hover_text.append(('Date: {}<br>'+\n",
    "                       'Country: {}<br>'+\n",
    "                      'Value: {}<br>').format(row['Date'], \n",
    "                                            row['Country'],\n",
    "                                            row['Value']))\n",
    "df['hover_text'] = hover_text\n",
    "fig = px.choropleth(df, locations=\"CODE\",\n",
    "                    color=\"Value\", # \n",
    "                    hover_name=\"hover_text\",\n",
    "                    color_continuous_scale=px.colors.sequential.Plasma, animation_frame=\"Date\",\n",
    "                    range_color =[min_value,max_value],\n",
    "                    width=900, height=674)\n",
    "fig.update_geos( \n",
    "    showcoastlines=True, coastlinecolor=\"DarkBlue\",\n",
    "    showland=True, landcolor=\"LightGrey\",\n",
    "    showocean=True, oceancolor=\"LightBlue\",\n",
    "    showlakes=True, lakecolor=\"Blue\",\n",
    "    showrivers=True, rivercolor=\"Blue\",\n",
    "    showcountries=True, countrycolor=\"DarkBlue\"\n",
    ")\n",
    "fig.update_layout(title = 'Europe Refinery intake crude oil (all)<br>(hover for details)')\n",
    "fig.show()\n"
   ]
  },
  {
   "cell_type": "code",
   "execution_count": 29,
   "metadata": {},
   "outputs": [
    {
     "data": {
      "text/html": [
       "<div>\n",
       "<style scoped>\n",
       "    .dataframe tbody tr th:only-of-type {\n",
       "        vertical-align: middle;\n",
       "    }\n",
       "\n",
       "    .dataframe tbody tr th {\n",
       "        vertical-align: top;\n",
       "    }\n",
       "\n",
       "    .dataframe thead th {\n",
       "        text-align: right;\n",
       "    }\n",
       "</style>\n",
       "<table border=\"1\" class=\"dataframe\">\n",
       "  <thead>\n",
       "    <tr style=\"text-align: right;\">\n",
       "      <th></th>\n",
       "      <th>Country</th>\n",
       "      <th>GDP</th>\n",
       "      <th>Date</th>\n",
       "      <th>Value</th>\n",
       "      <th>Unit</th>\n",
       "    </tr>\n",
       "  </thead>\n",
       "  <tbody>\n",
       "    <tr>\n",
       "      <td>0</td>\n",
       "      <td>Belgium</td>\n",
       "      <td>527.80</td>\n",
       "      <td>Jan-19</td>\n",
       "      <td>3118.000</td>\n",
       "      <td>thousand tones</td>\n",
       "    </tr>\n",
       "    <tr>\n",
       "      <td>1</td>\n",
       "      <td>Bulgaria</td>\n",
       "      <td>55.08</td>\n",
       "      <td>Jan-19</td>\n",
       "      <td>577.000</td>\n",
       "      <td>thousand tones</td>\n",
       "    </tr>\n",
       "    <tr>\n",
       "      <td>2</td>\n",
       "      <td>Denmark</td>\n",
       "      <td>347.20</td>\n",
       "      <td>Jan-19</td>\n",
       "      <td>683.000</td>\n",
       "      <td>thousand tones</td>\n",
       "    </tr>\n",
       "    <tr>\n",
       "      <td>3</td>\n",
       "      <td>Germany</td>\n",
       "      <td>3820.00</td>\n",
       "      <td>Jan-19</td>\n",
       "      <td>7535.171</td>\n",
       "      <td>thousand tones</td>\n",
       "    </tr>\n",
       "    <tr>\n",
       "      <td>4</td>\n",
       "      <td>Estonia</td>\n",
       "      <td>26.36</td>\n",
       "      <td>Jan-19</td>\n",
       "      <td>0.000</td>\n",
       "      <td>thousand tones</td>\n",
       "    </tr>\n",
       "  </tbody>\n",
       "</table>\n",
       "</div>"
      ],
      "text/plain": [
       "    Country      GDP    Date     Value            Unit\n",
       "0   Belgium   527.80  Jan-19  3118.000  thousand tones\n",
       "1  Bulgaria    55.08  Jan-19   577.000  thousand tones\n",
       "2   Denmark   347.20  Jan-19   683.000  thousand tones\n",
       "3   Germany  3820.00  Jan-19  7535.171  thousand tones\n",
       "4   Estonia    26.36  Jan-19     0.000  thousand tones"
      ]
     },
     "execution_count": 29,
     "metadata": {},
     "output_type": "execute_result"
    }
   ],
   "source": [
    "to_export_df = df[['Country', 'GDP', 'Date', 'Value']]\n",
    "to_export_df['Unit'] = \"thousand tones\"\n",
    "to_export_df.head()"
   ]
  },
  {
   "cell_type": "code",
   "execution_count": 30,
   "metadata": {},
   "outputs": [],
   "source": [
    "to_export_df.to_csv(\"../data/processed/refinery_intake_crude_oil_all.csv\", index=False)"
   ]
  },
  {
   "cell_type": "markdown",
   "metadata": {},
   "source": [
    "### Test"
   ]
  },
  {
   "cell_type": "code",
   "execution_count": 31,
   "metadata": {},
   "outputs": [
    {
     "data": {
      "text/html": [
       "<div>\n",
       "<style scoped>\n",
       "    .dataframe tbody tr th:only-of-type {\n",
       "        vertical-align: middle;\n",
       "    }\n",
       "\n",
       "    .dataframe tbody tr th {\n",
       "        vertical-align: top;\n",
       "    }\n",
       "\n",
       "    .dataframe thead th {\n",
       "        text-align: right;\n",
       "    }\n",
       "</style>\n",
       "<table border=\"1\" class=\"dataframe\">\n",
       "  <thead>\n",
       "    <tr style=\"text-align: right;\">\n",
       "      <th></th>\n",
       "      <th>Country</th>\n",
       "      <th>GDP</th>\n",
       "      <th>Date</th>\n",
       "      <th>Value</th>\n",
       "      <th>Unit</th>\n",
       "    </tr>\n",
       "  </thead>\n",
       "  <tbody>\n",
       "    <tr>\n",
       "      <td>0</td>\n",
       "      <td>Belgium</td>\n",
       "      <td>527.80</td>\n",
       "      <td>Jan-19</td>\n",
       "      <td>3118.000</td>\n",
       "      <td>thousand tones</td>\n",
       "    </tr>\n",
       "    <tr>\n",
       "      <td>1</td>\n",
       "      <td>Bulgaria</td>\n",
       "      <td>55.08</td>\n",
       "      <td>Jan-19</td>\n",
       "      <td>577.000</td>\n",
       "      <td>thousand tones</td>\n",
       "    </tr>\n",
       "    <tr>\n",
       "      <td>2</td>\n",
       "      <td>Denmark</td>\n",
       "      <td>347.20</td>\n",
       "      <td>Jan-19</td>\n",
       "      <td>683.000</td>\n",
       "      <td>thousand tones</td>\n",
       "    </tr>\n",
       "    <tr>\n",
       "      <td>3</td>\n",
       "      <td>Germany</td>\n",
       "      <td>3820.00</td>\n",
       "      <td>Jan-19</td>\n",
       "      <td>7535.171</td>\n",
       "      <td>thousand tones</td>\n",
       "    </tr>\n",
       "    <tr>\n",
       "      <td>4</td>\n",
       "      <td>Estonia</td>\n",
       "      <td>26.36</td>\n",
       "      <td>Jan-19</td>\n",
       "      <td>0.000</td>\n",
       "      <td>thousand tones</td>\n",
       "    </tr>\n",
       "  </tbody>\n",
       "</table>\n",
       "</div>"
      ],
      "text/plain": [
       "    Country      GDP    Date     Value            Unit\n",
       "0   Belgium   527.80  Jan-19  3118.000  thousand tones\n",
       "1  Bulgaria    55.08  Jan-19   577.000  thousand tones\n",
       "2   Denmark   347.20  Jan-19   683.000  thousand tones\n",
       "3   Germany  3820.00  Jan-19  7535.171  thousand tones\n",
       "4   Estonia    26.36  Jan-19     0.000  thousand tones"
      ]
     },
     "execution_count": 31,
     "metadata": {},
     "output_type": "execute_result"
    }
   ],
   "source": [
    "to_export_df = pd.read_csv(\"../data/processed/refinery_intake_crude_oil_all.csv\")\n",
    "to_export_df.head()"
   ]
  },
  {
   "cell_type": "code",
   "execution_count": null,
   "metadata": {},
   "outputs": [],
   "source": []
  },
  {
   "cell_type": "markdown",
   "metadata": {},
   "source": [
    "## Electricity supply per domain"
   ]
  },
  {
   "cell_type": "code",
   "execution_count": 32,
   "metadata": {},
   "outputs": [
    {
     "data": {
      "text/html": [
       "<div>\n",
       "<style scoped>\n",
       "    .dataframe tbody tr th:only-of-type {\n",
       "        vertical-align: middle;\n",
       "    }\n",
       "\n",
       "    .dataframe tbody tr th {\n",
       "        vertical-align: top;\n",
       "    }\n",
       "\n",
       "    .dataframe thead th {\n",
       "        text-align: right;\n",
       "    }\n",
       "</style>\n",
       "<table border=\"1\" class=\"dataframe\">\n",
       "  <thead>\n",
       "    <tr style=\"text-align: right;\">\n",
       "      <th></th>\n",
       "      <th>Country</th>\n",
       "      <th>19-Jan</th>\n",
       "      <th>19-Feb</th>\n",
       "      <th>19-Mar</th>\n",
       "      <th>19-Apr</th>\n",
       "      <th>19-May</th>\n",
       "      <th>19-Jun</th>\n",
       "      <th>19-Jul</th>\n",
       "      <th>19-Aug</th>\n",
       "      <th>19-Sep</th>\n",
       "      <th>19-Oct</th>\n",
       "      <th>19-Nov</th>\n",
       "      <th>19-Dec</th>\n",
       "      <th>20-Jan</th>\n",
       "    </tr>\n",
       "  </thead>\n",
       "  <tbody>\n",
       "    <tr>\n",
       "      <td>0</td>\n",
       "      <td>Total</td>\n",
       "      <td>300252.213</td>\n",
       "      <td>259483.290</td>\n",
       "      <td>268767.970</td>\n",
       "      <td>241358.310</td>\n",
       "      <td>240009.400</td>\n",
       "      <td>231411.003</td>\n",
       "      <td>242408.532</td>\n",
       "      <td>231586.831</td>\n",
       "      <td>231265.896</td>\n",
       "      <td>251148.805</td>\n",
       "      <td>263543.848</td>\n",
       "      <td>272629.347</td>\n",
       "      <td>274946.571</td>\n",
       "    </tr>\n",
       "    <tr>\n",
       "      <td>1</td>\n",
       "      <td>Nuclear fuels and other fuels n.e.c.</td>\n",
       "      <td>76146.461</td>\n",
       "      <td>68956.133</td>\n",
       "      <td>70712.203</td>\n",
       "      <td>64905.026</td>\n",
       "      <td>62034.737</td>\n",
       "      <td>58140.134</td>\n",
       "      <td>61524.217</td>\n",
       "      <td>61227.535</td>\n",
       "      <td>60210.415</td>\n",
       "      <td>63670.607</td>\n",
       "      <td>63160.050</td>\n",
       "      <td>68881.382</td>\n",
       "      <td>72409.315</td>\n",
       "    </tr>\n",
       "    <tr>\n",
       "      <td>2</td>\n",
       "      <td>Combustible fuels</td>\n",
       "      <td>146802.629</td>\n",
       "      <td>117925.343</td>\n",
       "      <td>107785.733</td>\n",
       "      <td>101248.343</td>\n",
       "      <td>99830.909</td>\n",
       "      <td>96237.890</td>\n",
       "      <td>111373.623</td>\n",
       "      <td>104502.437</td>\n",
       "      <td>103331.722</td>\n",
       "      <td>117729.203</td>\n",
       "      <td>122669.296</td>\n",
       "      <td>110461.351</td>\n",
       "      <td>114167.714</td>\n",
       "    </tr>\n",
       "    <tr>\n",
       "      <td>3</td>\n",
       "      <td>Coal and manufactured gases</td>\n",
       "      <td>51255.189</td>\n",
       "      <td>41767.518</td>\n",
       "      <td>34842.190</td>\n",
       "      <td>33113.446</td>\n",
       "      <td>31364.208</td>\n",
       "      <td>27357.149</td>\n",
       "      <td>30579.233</td>\n",
       "      <td>28995.904</td>\n",
       "      <td>28165.746</td>\n",
       "      <td>34020.431</td>\n",
       "      <td>39501.064</td>\n",
       "      <td>34591.470</td>\n",
       "      <td>34615.642</td>\n",
       "    </tr>\n",
       "    <tr>\n",
       "      <td>4</td>\n",
       "      <td>Oil and petroleum products (excluding biofuel ...</td>\n",
       "      <td>3220.305</td>\n",
       "      <td>2690.024</td>\n",
       "      <td>2724.894</td>\n",
       "      <td>2640.688</td>\n",
       "      <td>2778.969</td>\n",
       "      <td>2936.172</td>\n",
       "      <td>3122.926</td>\n",
       "      <td>3182.613</td>\n",
       "      <td>2962.797</td>\n",
       "      <td>3030.748</td>\n",
       "      <td>2748.984</td>\n",
       "      <td>2881.941</td>\n",
       "      <td>2858.738</td>\n",
       "    </tr>\n",
       "  </tbody>\n",
       "</table>\n",
       "</div>"
      ],
      "text/plain": [
       "                                             Country      19-Jan      19-Feb  \\\n",
       "0                                              Total  300252.213  259483.290   \n",
       "1               Nuclear fuels and other fuels n.e.c.   76146.461   68956.133   \n",
       "2                                  Combustible fuels  146802.629  117925.343   \n",
       "3                        Coal and manufactured gases   51255.189   41767.518   \n",
       "4  Oil and petroleum products (excluding biofuel ...    3220.305    2690.024   \n",
       "\n",
       "       19-Mar      19-Apr      19-May      19-Jun      19-Jul      19-Aug  \\\n",
       "0  268767.970  241358.310  240009.400  231411.003  242408.532  231586.831   \n",
       "1   70712.203   64905.026   62034.737   58140.134   61524.217   61227.535   \n",
       "2  107785.733  101248.343   99830.909   96237.890  111373.623  104502.437   \n",
       "3   34842.190   33113.446   31364.208   27357.149   30579.233   28995.904   \n",
       "4    2724.894    2640.688    2778.969    2936.172    3122.926    3182.613   \n",
       "\n",
       "       19-Sep      19-Oct      19-Nov      19-Dec      20-Jan  \n",
       "0  231265.896  251148.805  263543.848  272629.347  274946.571  \n",
       "1   60210.415   63670.607   63160.050   68881.382   72409.315  \n",
       "2  103331.722  117729.203  122669.296  110461.351  114167.714  \n",
       "3   28165.746   34020.431   39501.064   34591.470   34615.642  \n",
       "4    2962.797    3030.748    2748.984    2881.941    2858.738  "
      ]
     },
     "execution_count": 32,
     "metadata": {},
     "output_type": "execute_result"
    }
   ],
   "source": [
    "electricity_supply_df.columns = gross_inland_deliveries_coal_all_df.columns\n",
    "electricity_supply_df.head()"
   ]
  },
  {
   "cell_type": "code",
   "execution_count": 33,
   "metadata": {},
   "outputs": [],
   "source": [
    "data_tr_df = electricity_supply_df.melt(id_vars=[\"Country\"], \n",
    "        var_name=\"Date\", \n",
    "        value_name=\"Value\")\n",
    "data_tr_df['Value'] = data_tr_df['Value'].apply(lambda x: float(x))"
   ]
  },
  {
   "cell_type": "code",
   "execution_count": 34,
   "metadata": {},
   "outputs": [
    {
     "data": {
      "text/html": [
       "<div>\n",
       "<style scoped>\n",
       "    .dataframe tbody tr th:only-of-type {\n",
       "        vertical-align: middle;\n",
       "    }\n",
       "\n",
       "    .dataframe tbody tr th {\n",
       "        vertical-align: top;\n",
       "    }\n",
       "\n",
       "    .dataframe thead th {\n",
       "        text-align: right;\n",
       "    }\n",
       "</style>\n",
       "<table border=\"1\" class=\"dataframe\">\n",
       "  <thead>\n",
       "    <tr style=\"text-align: right;\">\n",
       "      <th></th>\n",
       "      <th>Type</th>\n",
       "      <th>Date</th>\n",
       "      <th>Value</th>\n",
       "    </tr>\n",
       "  </thead>\n",
       "  <tbody>\n",
       "    <tr>\n",
       "      <td>0</td>\n",
       "      <td>Total</td>\n",
       "      <td>19-Jan</td>\n",
       "      <td>300252.213</td>\n",
       "    </tr>\n",
       "    <tr>\n",
       "      <td>1</td>\n",
       "      <td>Nuclear fuels and other fuels n.e.c.</td>\n",
       "      <td>19-Jan</td>\n",
       "      <td>76146.461</td>\n",
       "    </tr>\n",
       "    <tr>\n",
       "      <td>2</td>\n",
       "      <td>Combustible fuels</td>\n",
       "      <td>19-Jan</td>\n",
       "      <td>146802.629</td>\n",
       "    </tr>\n",
       "    <tr>\n",
       "      <td>3</td>\n",
       "      <td>Coal and manufactured gases</td>\n",
       "      <td>19-Jan</td>\n",
       "      <td>51255.189</td>\n",
       "    </tr>\n",
       "    <tr>\n",
       "      <td>4</td>\n",
       "      <td>Oil and petroleum products (excluding biofuel ...</td>\n",
       "      <td>19-Jan</td>\n",
       "      <td>3220.305</td>\n",
       "    </tr>\n",
       "  </tbody>\n",
       "</table>\n",
       "</div>"
      ],
      "text/plain": [
       "                                                Type    Date       Value\n",
       "0                                              Total  19-Jan  300252.213\n",
       "1               Nuclear fuels and other fuels n.e.c.  19-Jan   76146.461\n",
       "2                                  Combustible fuels  19-Jan  146802.629\n",
       "3                        Coal and manufactured gases  19-Jan   51255.189\n",
       "4  Oil and petroleum products (excluding biofuel ...  19-Jan    3220.305"
      ]
     },
     "execution_count": 34,
     "metadata": {},
     "output_type": "execute_result"
    }
   ],
   "source": [
    "data_tr_df.columns = ['Type', 'Date', 'Value']\n",
    "data_tr_df.head()"
   ]
  },
  {
   "cell_type": "code",
   "execution_count": 35,
   "metadata": {},
   "outputs": [],
   "source": [
    "def plot_time_variation(df, y='Value', size=1, is_log=False, title=\"\"):\n",
    "    f, ax = plt.subplots(1,1, figsize=(3*size,4*size))\n",
    "\n",
    "    types = list(df.Type.unique())\n",
    "    for _type in types:\n",
    "        df_ = df[(df['Type']==_type)] \n",
    "        g = sns.lineplot(x=\"Date\", y=y, data=df_,  label=_type)  \n",
    "        ax.text(max(df_['Date']), (df_.loc[df_['Date']==max(df_['Date']), y]), str(_type),size=12)\n",
    "    plt.xticks(rotation=90)\n",
    "    plt.title(f'{title}')\n",
    "    ax.text(max(df_['Date']), (df_.loc[df_['Date']==max(df_['Date']), y]), str(_type))\n",
    "    #plt.legend(loc=\"upper left\", bbox_to_anchor=(1,1))\n",
    "    if(is_log):\n",
    "        ax.set(yscale=\"log\")\n",
    "    ax.grid(color='black', linestyle='dotted', linewidth=1.5)\n",
    "    plt.show()  \n"
   ]
  },
  {
   "cell_type": "code",
   "execution_count": 36,
   "metadata": {},
   "outputs": [
    {
     "data": {
      "image/png": "[encoded data removed]",
      "text/plain": [
       "<Figure size 1080x1440 with 1 Axes>"
      ]
     },
     "metadata": {
      "needs_background": "light"
     },
     "output_type": "display_data"
    }
   ],
   "source": [
    "plot_time_variation(data_tr_df, y = 'Value', size=5, is_log=True, title=\"Europe total electricity suply\")"
   ]
  },
  {
   "cell_type": "code",
   "execution_count": 37,
   "metadata": {},
   "outputs": [],
   "source": [
    "data_tr_df = delivery_of_primary_coal_by_sector_df.melt(id_vars=[\"Type\", \"Sector\"], \n",
    "        var_name=\"Date\", \n",
    "        value_name=\"Value\")\n",
    "data_tr_df['Value'] = data_tr_df['Value'].apply(lambda x: float(x))"
   ]
  },
  {
   "cell_type": "code",
   "execution_count": 38,
   "metadata": {},
   "outputs": [
    {
     "data": {
      "text/html": [
       "<div>\n",
       "<style scoped>\n",
       "    .dataframe tbody tr th:only-of-type {\n",
       "        vertical-align: middle;\n",
       "    }\n",
       "\n",
       "    .dataframe tbody tr th {\n",
       "        vertical-align: top;\n",
       "    }\n",
       "\n",
       "    .dataframe thead th {\n",
       "        text-align: right;\n",
       "    }\n",
       "</style>\n",
       "<table border=\"1\" class=\"dataframe\">\n",
       "  <thead>\n",
       "    <tr style=\"text-align: right;\">\n",
       "      <th></th>\n",
       "      <th>Type</th>\n",
       "      <th>Sector</th>\n",
       "      <th>Date</th>\n",
       "      <th>Value</th>\n",
       "    </tr>\n",
       "  </thead>\n",
       "  <tbody>\n",
       "    <tr>\n",
       "      <td>0</td>\n",
       "      <td>Hard Coal</td>\n",
       "      <td>Transformation input - coke ovens</td>\n",
       "      <td>Jan-19</td>\n",
       "      <td>3804.751</td>\n",
       "    </tr>\n",
       "    <tr>\n",
       "      <td>1</td>\n",
       "      <td>Hard Coal</td>\n",
       "      <td>Final consumption - industry sector</td>\n",
       "      <td>Jan-19</td>\n",
       "      <td>3216.995</td>\n",
       "    </tr>\n",
       "    <tr>\n",
       "      <td>2</td>\n",
       "      <td>Hard Coal</td>\n",
       "      <td>Transformation input - electricity and heat ge...</td>\n",
       "      <td>Jan-19</td>\n",
       "      <td>10479.196</td>\n",
       "    </tr>\n",
       "    <tr>\n",
       "      <td>3</td>\n",
       "      <td>Hard Coal</td>\n",
       "      <td>Final consumption - industry sector - iron and...</td>\n",
       "      <td>Jan-19</td>\n",
       "      <td>1851.023</td>\n",
       "    </tr>\n",
       "    <tr>\n",
       "      <td>4</td>\n",
       "      <td>Hard Coal</td>\n",
       "      <td>Final consumption - other sectors</td>\n",
       "      <td>Jan-19</td>\n",
       "      <td>938.851</td>\n",
       "    </tr>\n",
       "  </tbody>\n",
       "</table>\n",
       "</div>"
      ],
      "text/plain": [
       "        Type                                             Sector    Date  \\\n",
       "0  Hard Coal                  Transformation input - coke ovens  Jan-19   \n",
       "1  Hard Coal                Final consumption - industry sector  Jan-19   \n",
       "2  Hard Coal  Transformation input - electricity and heat ge...  Jan-19   \n",
       "3  Hard Coal  Final consumption - industry sector - iron and...  Jan-19   \n",
       "4  Hard Coal                  Final consumption - other sectors  Jan-19   \n",
       "\n",
       "       Value  \n",
       "0   3804.751  \n",
       "1   3216.995  \n",
       "2  10479.196  \n",
       "3   1851.023  \n",
       "4    938.851  "
      ]
     },
     "execution_count": 38,
     "metadata": {},
     "output_type": "execute_result"
    }
   ],
   "source": [
    "data_tr_df.head()"
   ]
  },
  {
   "cell_type": "code",
   "execution_count": 25,
   "metadata": {},
   "outputs": [
    {
     "data": {
      "text/plain": [
       "(126.434, 25749.724)"
      ]
     },
     "execution_count": 25,
     "metadata": {},
     "output_type": "execute_result"
    }
   ],
   "source": [
    "min(data_tr_df.Value), max(data_tr_df.Value)"
   ]
  },
  {
   "cell_type": "code",
   "execution_count": null,
   "metadata": {},
   "outputs": [],
   "source": []
  }
 ],
 "metadata": {
  "kernelspec": {
   "display_name": "Python 3",
   "language": "python",
   "name": "python3"
  },
  "language_info": {
   "codemirror_mode": {
    "name": "ipython",
    "version": 3
   },
   "file_extension": ".py",
   "mimetype": "text/x-python",
   "name": "python",
   "nbconvert_exporter": "python",
   "pygments_lexer": "ipython3",
   "version": "3.7.4"
  }
 },
 "nbformat": 4,
 "nbformat_minor": 2
}
